{
 "cells": [
  {
   "cell_type": "code",
   "execution_count": 7,
   "id": "a7fb5d86-6c60-4749-a8a6-ca6f983eaa9a",
   "metadata": {},
   "outputs": [],
   "source": [
    "import pandas as pd\n",
    "import numpy as np\n",
    "import matplotlib.pyplot as plt\n",
    "import seaborn as sns"
   ]
  },
  {
   "cell_type": "code",
   "execution_count": 10,
   "id": "6f6d00c2-a09e-4743-af89-d1e0764b6e56",
   "metadata": {},
   "outputs": [],
   "source": [
    "df = pd.read_csv(\"data/real.csv\",index_col=0)"
   ]
  },
  {
   "cell_type": "code",
   "execution_count": 13,
   "id": "2797ab87-a71b-4890-898c-c15150d4671d",
   "metadata": {},
   "outputs": [],
   "source": [
    "df = df.iloc[0:,[0,1,2]]"
   ]
  },
  {
   "cell_type": "code",
   "execution_count": 15,
   "id": "98383132-80f0-408f-aca5-288fec2318a4",
   "metadata": {},
   "outputs": [
    {
     "data": {
      "text/html": [
       "<div>\n",
       "<style scoped>\n",
       "    .dataframe tbody tr th:only-of-type {\n",
       "        vertical-align: middle;\n",
       "    }\n",
       "\n",
       "    .dataframe tbody tr th {\n",
       "        vertical-align: top;\n",
       "    }\n",
       "\n",
       "    .dataframe thead th {\n",
       "        text-align: right;\n",
       "    }\n",
       "</style>\n",
       "<table border=\"1\" class=\"dataframe\">\n",
       "  <thead>\n",
       "    <tr style=\"text-align: right;\">\n",
       "      <th></th>\n",
       "      <th>Store</th>\n",
       "      <th>User</th>\n",
       "      <th>Rating</th>\n",
       "    </tr>\n",
       "  </thead>\n",
       "  <tbody>\n",
       "    <tr>\n",
       "      <th>0</th>\n",
       "      <td>NAP's Coffee &amp; Roasters</td>\n",
       "      <td>Nuunet D.</td>\n",
       "      <td>5</td>\n",
       "    </tr>\n",
       "    <tr>\n",
       "      <th>1</th>\n",
       "      <td>NAP's Coffee &amp; Roasters</td>\n",
       "      <td>vanai sun</td>\n",
       "      <td>3</td>\n",
       "    </tr>\n",
       "    <tr>\n",
       "      <th>2</th>\n",
       "      <td>NAP's Coffee &amp; Roasters</td>\n",
       "      <td>Phonanan Seeon</td>\n",
       "      <td>5</td>\n",
       "    </tr>\n",
       "    <tr>\n",
       "      <th>3</th>\n",
       "      <td>NAP's Coffee &amp; Roasters</td>\n",
       "      <td>Chavakorn Laophetsakunchai</td>\n",
       "      <td>5</td>\n",
       "    </tr>\n",
       "    <tr>\n",
       "      <th>4</th>\n",
       "      <td>NAP's Coffee &amp; Roasters</td>\n",
       "      <td>community man</td>\n",
       "      <td>5</td>\n",
       "    </tr>\n",
       "  </tbody>\n",
       "</table>\n",
       "</div>"
      ],
      "text/plain": [
       "                     Store                        User  Rating\n",
       "0  NAP's Coffee & Roasters                   Nuunet D.       5\n",
       "1  NAP's Coffee & Roasters                   vanai sun       3\n",
       "2  NAP's Coffee & Roasters              Phonanan Seeon       5\n",
       "3  NAP's Coffee & Roasters  Chavakorn Laophetsakunchai       5\n",
       "4  NAP's Coffee & Roasters               community man       5"
      ]
     },
     "execution_count": 15,
     "metadata": {},
     "output_type": "execute_result"
    }
   ],
   "source": [
    "df.head()"
   ]
  },
  {
   "cell_type": "code",
   "execution_count": null,
   "id": "58a3442a-f0bd-4b56-975f-78227a0520fd",
   "metadata": {},
   "outputs": [],
   "source": []
  }
 ],
 "metadata": {
  "kernelspec": {
   "display_name": "Python 3 (ipykernel)",
   "language": "python",
   "name": "python3"
  },
  "language_info": {
   "codemirror_mode": {
    "name": "ipython",
    "version": 3
   },
   "file_extension": ".py",
   "mimetype": "text/x-python",
   "name": "python",
   "nbconvert_exporter": "python",
   "pygments_lexer": "ipython3",
   "version": "3.10.0"
  }
 },
 "nbformat": 4,
 "nbformat_minor": 5
}
