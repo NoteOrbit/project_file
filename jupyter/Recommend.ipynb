{
 "cells": [
  {
   "cell_type": "code",
   "execution_count": 3,
   "id": "a51bc875-d19e-49c6-bff8-6a4054ef1a89",
   "metadata": {
    "tags": []
   },
   "outputs": [
    {
     "name": "stdout",
     "output_type": "stream",
     "text": [
      "Collecting ipywidgets\n",
      "  Using cached ipywidgets-8.0.4-py3-none-any.whl (137 kB)\n",
      "Collecting widgetsnbextension~=4.0\n",
      "  Using cached widgetsnbextension-4.0.5-py3-none-any.whl (2.0 MB)\n",
      "Requirement already satisfied: ipython>=6.1.0 in c:\\users\\note\\miniconda3\\lib\\site-packages (from ipywidgets) (8.9.0)\n",
      "Collecting jupyterlab-widgets~=3.0\n",
      "  Using cached jupyterlab_widgets-3.0.5-py3-none-any.whl (384 kB)\n",
      "Requirement already satisfied: ipykernel>=4.5.1 in c:\\users\\note\\miniconda3\\lib\\site-packages (from ipywidgets) (6.21.1)\n",
      "Requirement already satisfied: traitlets>=4.3.1 in c:\\users\\note\\miniconda3\\lib\\site-packages (from ipywidgets) (5.9.0)\n",
      "Requirement already satisfied: jupyter-core!=5.0.*,>=4.12 in c:\\users\\note\\miniconda3\\lib\\site-packages (from ipykernel>=4.5.1->ipywidgets) (5.2.0)\n",
      "Requirement already satisfied: jupyter-client>=6.1.12 in c:\\users\\note\\miniconda3\\lib\\site-packages (from ipykernel>=4.5.1->ipywidgets) (8.0.2)\n",
      "Requirement already satisfied: matplotlib-inline>=0.1 in c:\\users\\note\\miniconda3\\lib\\site-packages (from ipykernel>=4.5.1->ipywidgets) (0.1.6)\n",
      "Requirement already satisfied: tornado>=6.1 in c:\\users\\note\\miniconda3\\lib\\site-packages (from ipykernel>=4.5.1->ipywidgets) (6.2)\n",
      "Requirement already satisfied: pyzmq>=17 in c:\\users\\note\\miniconda3\\lib\\site-packages (from ipykernel>=4.5.1->ipywidgets) (25.0.0)\n",
      "Requirement already satisfied: comm>=0.1.1 in c:\\users\\note\\miniconda3\\lib\\site-packages (from ipykernel>=4.5.1->ipywidgets) (0.1.2)\n",
      "Requirement already satisfied: debugpy>=1.6.5 in c:\\users\\note\\miniconda3\\lib\\site-packages (from ipykernel>=4.5.1->ipywidgets) (1.6.6)\n",
      "Requirement already satisfied: packaging in c:\\users\\note\\miniconda3\\lib\\site-packages (from ipykernel>=4.5.1->ipywidgets) (23.0)\n",
      "Requirement already satisfied: psutil in c:\\users\\note\\miniconda3\\lib\\site-packages (from ipykernel>=4.5.1->ipywidgets) (5.9.4)\n",
      "Requirement already satisfied: nest-asyncio in c:\\users\\note\\miniconda3\\lib\\site-packages (from ipykernel>=4.5.1->ipywidgets) (1.5.6)\n",
      "Requirement already satisfied: backcall in c:\\users\\note\\miniconda3\\lib\\site-packages (from ipython>=6.1.0->ipywidgets) (0.2.0)\n",
      "Requirement already satisfied: pickleshare in c:\\users\\note\\miniconda3\\lib\\site-packages (from ipython>=6.1.0->ipywidgets) (0.7.5)\n",
      "Requirement already satisfied: colorama in c:\\users\\note\\miniconda3\\lib\\site-packages (from ipython>=6.1.0->ipywidgets) (0.4.6)\n",
      "Requirement already satisfied: decorator in c:\\users\\note\\miniconda3\\lib\\site-packages (from ipython>=6.1.0->ipywidgets) (5.1.1)\n",
      "Requirement already satisfied: stack-data in c:\\users\\note\\miniconda3\\lib\\site-packages (from ipython>=6.1.0->ipywidgets) (0.6.2)\n",
      "Requirement already satisfied: jedi>=0.16 in c:\\users\\note\\miniconda3\\lib\\site-packages (from ipython>=6.1.0->ipywidgets) (0.18.2)\n",
      "Requirement already satisfied: prompt-toolkit<3.1.0,>=3.0.30 in c:\\users\\note\\miniconda3\\lib\\site-packages (from ipython>=6.1.0->ipywidgets) (3.0.36)\n",
      "Requirement already satisfied: pygments>=2.4.0 in c:\\users\\note\\miniconda3\\lib\\site-packages (from ipython>=6.1.0->ipywidgets) (2.14.0)\n",
      "Requirement already satisfied: parso<0.9.0,>=0.8.0 in c:\\users\\note\\miniconda3\\lib\\site-packages (from jedi>=0.16->ipython>=6.1.0->ipywidgets) (0.8.3)\n",
      "Requirement already satisfied: importlib-metadata>=4.8.3 in c:\\users\\note\\miniconda3\\lib\\site-packages (from jupyter-client>=6.1.12->ipykernel>=4.5.1->ipywidgets) (6.0.0)\n",
      "Requirement already satisfied: python-dateutil>=2.8.2 in c:\\users\\note\\miniconda3\\lib\\site-packages (from jupyter-client>=6.1.12->ipykernel>=4.5.1->ipywidgets) (2.8.2)\n",
      "Requirement already satisfied: platformdirs>=2.5 in c:\\users\\note\\miniconda3\\lib\\site-packages (from jupyter-core!=5.0.*,>=4.12->ipykernel>=4.5.1->ipywidgets) (3.0.0)\n",
      "Requirement already satisfied: pywin32>=1.0 in c:\\users\\note\\miniconda3\\lib\\site-packages (from jupyter-core!=5.0.*,>=4.12->ipykernel>=4.5.1->ipywidgets) (305.1)\n",
      "Requirement already satisfied: wcwidth in c:\\users\\note\\miniconda3\\lib\\site-packages (from prompt-toolkit<3.1.0,>=3.0.30->ipython>=6.1.0->ipywidgets) (0.2.6)\n",
      "Requirement already satisfied: asttokens>=2.1.0 in c:\\users\\note\\miniconda3\\lib\\site-packages (from stack-data->ipython>=6.1.0->ipywidgets) (2.2.1)\n",
      "Requirement already satisfied: executing>=1.2.0 in c:\\users\\note\\miniconda3\\lib\\site-packages (from stack-data->ipython>=6.1.0->ipywidgets) (1.2.0)\n",
      "Requirement already satisfied: pure-eval in c:\\users\\note\\miniconda3\\lib\\site-packages (from stack-data->ipython>=6.1.0->ipywidgets) (0.2.2)\n",
      "Requirement already satisfied: six in c:\\users\\note\\miniconda3\\lib\\site-packages (from asttokens>=2.1.0->stack-data->ipython>=6.1.0->ipywidgets) (1.16.0)\n",
      "Requirement already satisfied: zipp>=0.5 in c:\\users\\note\\miniconda3\\lib\\site-packages (from importlib-metadata>=4.8.3->jupyter-client>=6.1.12->ipykernel>=4.5.1->ipywidgets) (3.12.1)\n",
      "Installing collected packages: widgetsnbextension, jupyterlab-widgets, ipywidgets\n",
      "Successfully installed ipywidgets-8.0.4 jupyterlab-widgets-3.0.5 widgetsnbextension-4.0.5\n",
      "Note: you may need to restart the kernel to use updated packages.\n"
     ]
    }
   ],
   "source": [
    "pip install ipywidgets"
   ]
  },
  {
   "cell_type": "code",
   "execution_count": 5,
   "id": "a7fb5d86-6c60-4749-a8a6-ca6f983eaa9a",
   "metadata": {
    "tags": []
   },
   "outputs": [],
   "source": [
    "import pandas as pd\n",
    "import numpy as np\n",
    "import matplotlib.pyplot as plt\n",
    "import seaborn as sns\n",
    "from scipy.sparse.linalg import svds\n",
    "from sklearn.metrics.pairwise import cosine_similarity\n",
    "from sklearn.model_selection import train_test_split\n",
    "import random\n",
    "from itertools import product\n",
    "\n",
    "import torch"
   ]
  },
  {
   "cell_type": "code",
   "execution_count": 6,
   "id": "39f26f29-2be3-4035-88ea-548394e9a962",
   "metadata": {
    "tags": []
   },
   "outputs": [],
   "source": [
    "\n",
    "def get_device() -> str:\n",
    "    \"\"\"\n",
    "    Returns the device that available for use. \n",
    "    Priority:  GPU (CUDA) > M1 (MPS) > CPU\n",
    "    \n",
    "    Returns:\n",
    "        string of device name\n",
    "    \"\"\"\n",
    "    \n",
    "    if torch.cuda.is_available():\n",
    "        return \"cuda\"\n",
    "    if hasattr(torch.backends, \"mps\"):\n",
    "        if torch.backends.mps.is_available() and torch.backends.mps.is_built():\n",
    "            return \"mps\"\n",
    "    return \"cpu\""
   ]
  },
  {
   "cell_type": "markdown",
   "id": "6275fb6c-3ddb-44a4-9460-a6a0b0555161",
   "metadata": {},
   "source": [
    "# Prepare data"
   ]
  },
  {
   "cell_type": "code",
   "execution_count": 7,
   "id": "6f6d00c2-a09e-4743-af89-d1e0764b6e56",
   "metadata": {
    "tags": []
   },
   "outputs": [],
   "source": [
    "df = pd.read_csv(\"data/real.csv\",index_col=0)"
   ]
  },
  {
   "cell_type": "code",
   "execution_count": 8,
   "id": "2797ab87-a71b-4890-898c-c15150d4671d",
   "metadata": {
    "tags": []
   },
   "outputs": [],
   "source": [
    "df = df.iloc[0:,[0,1,2]]"
   ]
  },
  {
   "cell_type": "code",
   "execution_count": 9,
   "id": "98383132-80f0-408f-aca5-288fec2318a4",
   "metadata": {
    "tags": []
   },
   "outputs": [
    {
     "data": {
      "text/html": [
       "<div>\n",
       "<style scoped>\n",
       "    .dataframe tbody tr th:only-of-type {\n",
       "        vertical-align: middle;\n",
       "    }\n",
       "\n",
       "    .dataframe tbody tr th {\n",
       "        vertical-align: top;\n",
       "    }\n",
       "\n",
       "    .dataframe thead th {\n",
       "        text-align: right;\n",
       "    }\n",
       "</style>\n",
       "<table border=\"1\" class=\"dataframe\">\n",
       "  <thead>\n",
       "    <tr style=\"text-align: right;\">\n",
       "      <th></th>\n",
       "      <th>Store</th>\n",
       "      <th>User</th>\n",
       "      <th>Rating</th>\n",
       "    </tr>\n",
       "  </thead>\n",
       "  <tbody>\n",
       "    <tr>\n",
       "      <th>0</th>\n",
       "      <td>NAP's Coffee &amp; Roasters</td>\n",
       "      <td>Nuunet D.</td>\n",
       "      <td>5</td>\n",
       "    </tr>\n",
       "    <tr>\n",
       "      <th>1</th>\n",
       "      <td>NAP's Coffee &amp; Roasters</td>\n",
       "      <td>vanai sun</td>\n",
       "      <td>3</td>\n",
       "    </tr>\n",
       "    <tr>\n",
       "      <th>2</th>\n",
       "      <td>NAP's Coffee &amp; Roasters</td>\n",
       "      <td>Phonanan Seeon</td>\n",
       "      <td>5</td>\n",
       "    </tr>\n",
       "    <tr>\n",
       "      <th>3</th>\n",
       "      <td>NAP's Coffee &amp; Roasters</td>\n",
       "      <td>Chavakorn Laophetsakunchai</td>\n",
       "      <td>5</td>\n",
       "    </tr>\n",
       "    <tr>\n",
       "      <th>4</th>\n",
       "      <td>NAP's Coffee &amp; Roasters</td>\n",
       "      <td>community man</td>\n",
       "      <td>5</td>\n",
       "    </tr>\n",
       "  </tbody>\n",
       "</table>\n",
       "</div>"
      ],
      "text/plain": [
       "                     Store                        User  Rating\n",
       "0  NAP's Coffee & Roasters                   Nuunet D.       5\n",
       "1  NAP's Coffee & Roasters                   vanai sun       3\n",
       "2  NAP's Coffee & Roasters              Phonanan Seeon       5\n",
       "3  NAP's Coffee & Roasters  Chavakorn Laophetsakunchai       5\n",
       "4  NAP's Coffee & Roasters               community man       5"
      ]
     },
     "execution_count": 9,
     "metadata": {},
     "output_type": "execute_result"
    }
   ],
   "source": [
    "df.head()"
   ]
  },
  {
   "cell_type": "code",
   "execution_count": 10,
   "id": "a29e961b-5261-47df-9cf3-be458ad713b2",
   "metadata": {
    "tags": []
   },
   "outputs": [],
   "source": [
    "pivot = df.pivot_table(index='User',columns=\"Store\",values=\"Rating\")\n",
    "pivot = pivot.fillna(0)"
   ]
  },
  {
   "cell_type": "code",
   "execution_count": 11,
   "id": "59779592-7ebf-4c61-a183-cde0798cb79d",
   "metadata": {
    "tags": []
   },
   "outputs": [],
   "source": [
    "def get_indices(m: np.ndarray) -> np.ndarray:\n",
    "    n_row, n_col = m.shape\n",
    "    \n",
    "    # create the meshgrid\n",
    "    row_indices, col_indices = np.meshgrid(np.arange(n_row), np.arange(n_col), indexing='ij')\n",
    "    index_pairs = np.vstack((row_indices.flatten(), col_indices.flatten())).T\n",
    "    \n",
    "    return index_pairs\n",
    "\n",
    "\n",
    "def get_rating_indices(m: np.ndarray) -> np.ndarray:\n",
    "    indices = get_indices(m)\n",
    "    \n",
    "    res = []\n",
    "\n",
    "    for index in indices:\n",
    "        # print(index)\n",
    "        v = (pivot_m[index[0], index[1]])\n",
    "        if v == 0:\n",
    "            continue\n",
    "\n",
    "        res.append(index)\n",
    "\n",
    "    np.random.shuffle(res)\n",
    "    \n",
    "    return res\n",
    "    \n",
    "\n",
    "def fill_nan_from_indices(m: np.ndarray, indices: np.ndarray) -> np.ndarray:\n",
    "    tmp_m = m.copy()\n",
    "    \n",
    "    for index in indices:\n",
    "        tmp_m[index[0], index[1]] = 0\n",
    "        \n",
    "    return tmp_m"
   ]
  },
  {
   "cell_type": "code",
   "execution_count": 12,
   "id": "035b0146-dddb-41c3-bdf8-e2377468a283",
   "metadata": {
    "tags": []
   },
   "outputs": [],
   "source": [
    "fill_nan_percentage = 0.2\n",
    "\n",
    "pivot_m = pivot.values.copy()\n",
    "rating_indices = get_rating_indices(pivot_m)\n",
    "\n",
    "nan_indices = rating_indices[0: int(len(rating_indices) * fill_nan_percentage)]\n",
    "\n",
    "new_pivot_m = fill_nan_from_indices(pivot_m, nan_indices)"
   ]
  },
  {
   "cell_type": "code",
   "execution_count": 13,
   "id": "66885fd3-2f48-4931-aafb-fb34a0e4c086",
   "metadata": {
    "tags": []
   },
   "outputs": [
    {
     "data": {
      "text/plain": [
       "array([[0., 0., 0., ..., 0., 0., 0.],\n",
       "       [0., 0., 0., ..., 0., 0., 0.],\n",
       "       [5., 0., 0., ..., 0., 0., 0.],\n",
       "       ...,\n",
       "       [0., 0., 0., ..., 0., 0., 0.],\n",
       "       [0., 0., 0., ..., 0., 0., 0.],\n",
       "       [0., 0., 0., ..., 5., 0., 0.]])"
      ]
     },
     "execution_count": 13,
     "metadata": {},
     "output_type": "execute_result"
    }
   ],
   "source": [
    "pivot_m"
   ]
  },
  {
   "cell_type": "code",
   "execution_count": 14,
   "id": "fc891b1c-467f-4e49-a987-6cbd8cd6c49a",
   "metadata": {
    "tags": []
   },
   "outputs": [
    {
     "data": {
      "text/plain": [
       "[array([1888,    9]),\n",
       " array([1173,   14]),\n",
       " array([659,  14]),\n",
       " array([803,  16]),\n",
       " array([1667,   10]),\n",
       " array([1220,    3]),\n",
       " array([199,  29]),\n",
       " array([1241,    3]),\n",
       " array([1364,    6]),\n",
       " array([1929,   19]),\n",
       " array([1369,   11]),\n",
       " array([488,  21]),\n",
       " array([1003,   11]),\n",
       " array([845,  10]),\n",
       " array([2100,   30])]"
      ]
     },
     "execution_count": 14,
     "metadata": {},
     "output_type": "execute_result"
    }
   ],
   "source": [
    "rating_indices[0:15]"
   ]
  },
  {
   "cell_type": "code",
   "execution_count": 15,
   "id": "6124ac8a-93f5-473b-bb12-feafba3946ff",
   "metadata": {
    "tags": []
   },
   "outputs": [
    {
     "data": {
      "text/plain": [
       "array([0., 0., 0., 0., 0., 5., 0., 0., 0., 0., 0., 0., 0., 0., 0., 0., 0.,\n",
       "       0., 0., 0., 0., 0., 0., 0., 0., 0., 0., 0., 0., 0., 0., 0., 0.])"
      ]
     },
     "execution_count": 15,
     "metadata": {},
     "output_type": "execute_result"
    }
   ],
   "source": [
    "pivot_m[206]"
   ]
  },
  {
   "cell_type": "code",
   "execution_count": 16,
   "id": "8083e1e5-6d26-4cd0-b1a7-2dfe5d06dd29",
   "metadata": {
    "tags": []
   },
   "outputs": [
    {
     "data": {
      "text/plain": [
       "array([0., 0., 0., 0., 0., 0., 0., 0., 0., 0., 0., 0., 0., 0., 0., 0., 0.,\n",
       "       0., 0., 0., 0., 0., 0., 0., 0., 0., 0., 0., 0., 0., 0., 0., 0.])"
      ]
     },
     "execution_count": 16,
     "metadata": {},
     "output_type": "execute_result"
    }
   ],
   "source": [
    "new_pivot_m[206]"
   ]
  },
  {
   "cell_type": "code",
   "execution_count": 17,
   "id": "61ad02da-3b5f-4c32-87dc-635bccc84799",
   "metadata": {
    "tags": []
   },
   "outputs": [],
   "source": [
    "mask = (pivot_m != 0) ^ (new_pivot_m != 0)"
   ]
  },
  {
   "cell_type": "code",
   "execution_count": 18,
   "id": "b7e5bdb8-7c8c-4089-904c-0d1bc0d17c4c",
   "metadata": {
    "tags": []
   },
   "outputs": [
    {
     "data": {
      "text/plain": [
       "(2237, 33)"
      ]
     },
     "execution_count": 18,
     "metadata": {},
     "output_type": "execute_result"
    }
   ],
   "source": [
    "pivot_m.shape"
   ]
  },
  {
   "cell_type": "code",
   "execution_count": 19,
   "id": "1176b85b-5d33-43c7-8d48-62c719af9048",
   "metadata": {
    "tags": []
   },
   "outputs": [
    {
     "data": {
      "text/plain": [
       "(2237, 33)"
      ]
     },
     "execution_count": 19,
     "metadata": {},
     "output_type": "execute_result"
    }
   ],
   "source": [
    "new_pivot_m.shape"
   ]
  },
  {
   "cell_type": "markdown",
   "id": "4fcd4012-cbe3-4ea0-83f6-fa21ae887f5a",
   "metadata": {},
   "source": [
    "\n",
    "# Model Svds"
   ]
  },
  {
   "cell_type": "code",
   "execution_count": 20,
   "id": "5f6e41fb-5049-4c40-b628-751d5692b70f",
   "metadata": {
    "tags": []
   },
   "outputs": [],
   "source": [
    "U, sigma, Vt = svds(pivot_m,k=15)\n",
    "matrix_reconstructed = U.dot(np.diag(sigma)).dot(Vt)"
   ]
  },
  {
   "cell_type": "code",
   "execution_count": 21,
   "id": "c57299ec-d296-44fc-bb2b-6f6c2314ba70",
   "metadata": {
    "tags": []
   },
   "outputs": [
    {
     "data": {
      "text/plain": [
       "array([[-0.01580318, -0.03030373, -0.00105618, ..., -0.02549472,\n",
       "        -0.00129405,  0.05699079],\n",
       "       [ 0.0292148 ,  0.06780851,  0.050623  , ..., -0.05215704,\n",
       "         0.00603001,  0.24663119],\n",
       "       [ 0.06302732,  0.02851513,  0.148359  , ...,  0.06192996,\n",
       "         0.01398883,  0.09414609],\n",
       "       ...,\n",
       "       [ 0.0342753 ,  0.01474135,  0.11307102, ..., -0.01742314,\n",
       "         0.02871265, -0.05978153],\n",
       "       [ 0.19785536,  0.08378007,  0.27686381, ...,  0.15522807,\n",
       "         0.04990312,  0.1766168 ],\n",
       "       [ 0.06192996,  0.02642722,  0.16256546, ...,  0.13477898,\n",
       "         0.01009895,  0.05783212]])"
      ]
     },
     "execution_count": 21,
     "metadata": {},
     "output_type": "execute_result"
    }
   ],
   "source": [
    "matrix_reconstructed"
   ]
  },
  {
   "cell_type": "code",
   "execution_count": 22,
   "id": "8dae57f7-6d76-4ab5-87c0-57c22addac7d",
   "metadata": {
    "tags": []
   },
   "outputs": [
    {
     "data": {
      "text/plain": [
       "False"
      ]
     },
     "execution_count": 22,
     "metadata": {},
     "output_type": "execute_result"
    }
   ],
   "source": [
    "np.isnan(new_pivot_m).any()"
   ]
  },
  {
   "cell_type": "code",
   "execution_count": 23,
   "id": "9c418d2f-2019-4ab6-9903-65cc2fc11395",
   "metadata": {
    "tags": []
   },
   "outputs": [
    {
     "data": {
      "text/plain": [
       "False"
      ]
     },
     "execution_count": 23,
     "metadata": {},
     "output_type": "execute_result"
    }
   ],
   "source": [
    "np.isnan(pivot_m).any()"
   ]
  },
  {
   "cell_type": "markdown",
   "id": "ffdb0512-0e9d-4d09-a403-4a44f00c8fb1",
   "metadata": {
    "tags": []
   },
   "source": [
    "# Evaluations model Metric"
   ]
  },
  {
   "cell_type": "code",
   "execution_count": 24,
   "id": "dee288c3-9be4-4af8-8cfd-ba9745a25a6b",
   "metadata": {
    "tags": []
   },
   "outputs": [],
   "source": [
    "real = ((pivot_m[mask] - matrix_reconstructed[mask]) ** 2).mean()"
   ]
  },
  {
   "cell_type": "code",
   "execution_count": 25,
   "id": "a071196a-4dbe-483b-9434-10fd31d1f9b2",
   "metadata": {
    "tags": []
   },
   "outputs": [
    {
     "data": {
      "text/plain": [
       "3.520545216087185"
      ]
     },
     "execution_count": 25,
     "metadata": {},
     "output_type": "execute_result"
    }
   ],
   "source": [
    "real"
   ]
  },
  {
   "cell_type": "code",
   "execution_count": 26,
   "id": "bfd12485-e7ce-4b86-9457-d9f7756095bb",
   "metadata": {
    "tags": []
   },
   "outputs": [
    {
     "data": {
      "text/plain": [
       "0.1704018714671561"
      ]
     },
     "execution_count": 26,
     "metadata": {},
     "output_type": "execute_result"
    }
   ],
   "source": [
    "mse = np.mean((pivot_m - matrix_reconstructed)**2)\n",
    "mse"
   ]
  },
  {
   "cell_type": "code",
   "execution_count": 27,
   "id": "1ac7fbde-2710-4332-9b03-5c92300d1a6e",
   "metadata": {
    "tags": []
   },
   "outputs": [
    {
     "data": {
      "text/plain": [
       "0.4127976156267816"
      ]
     },
     "execution_count": 27,
     "metadata": {},
     "output_type": "execute_result"
    }
   ],
   "source": [
    "rmse = np.sqrt(mse)\n",
    "rmse"
   ]
  },
  {
   "cell_type": "code",
   "execution_count": 28,
   "id": "ad4d025b-b463-4dd1-b771-ccbefbefae8c",
   "metadata": {
    "tags": []
   },
   "outputs": [
    {
     "data": {
      "text/plain": [
       "0.08255952312535632"
      ]
     },
     "execution_count": 28,
     "metadata": {},
     "output_type": "execute_result"
    }
   ],
   "source": [
    "nrmse = rmse / (np.max(pivot_m) - np.min(pivot_m))\n",
    "nrmse"
   ]
  },
  {
   "cell_type": "code",
   "execution_count": 29,
   "id": "30863de4-14f4-404e-a592-f0c775fefa1c",
   "metadata": {
    "tags": []
   },
   "outputs": [],
   "source": [
    "data = {\"mse\" : mse,\n",
    "        \"rmse\": rmse,\n",
    "        \"nrmse\": nrmse\n",
    "       }"
   ]
  },
  {
   "cell_type": "code",
   "execution_count": 30,
   "id": "7238cda0-00f4-4c84-85e9-6a5eb69b4e01",
   "metadata": {
    "tags": []
   },
   "outputs": [],
   "source": [
    "loss_functions = pd.DataFrame(data,index=['values'])"
   ]
  },
  {
   "cell_type": "code",
   "execution_count": 31,
   "id": "9fd3b554-4218-4adc-af72-be84a660a9e4",
   "metadata": {
    "tags": []
   },
   "outputs": [
    {
     "data": {
      "image/png": "[encoded data removed]",
      "text/plain": [
       "<Figure size 640x480 with 1 Axes>"
      ]
     },
     "metadata": {},
     "output_type": "display_data"
    }
   ],
   "source": [
    "\n",
    "ax = sns.barplot(data=loss_functions)\n",
    "ax.set_title(\"Evaluation Metrics with k = 15\")\n",
    "ax.bar_label(ax.containers[0])\n",
    "\n",
    "\n",
    "plt.tight_layout()\n",
    "plt.savefig(\"plot.png\", dpi=300)\n"
   ]
  },
  {
   "cell_type": "markdown",
   "id": "8b8b4b17-a872-4d11-acfc-efdb000012b8",
   "metadata": {},
   "source": [
    "## Another Versions"
   ]
  },
  {
   "cell_type": "code",
   "execution_count": 32,
   "id": "3c94317e-c307-42a1-9f88-f9968108e89b",
   "metadata": {
    "tags": []
   },
   "outputs": [],
   "source": [
    "class CFRecommender2:\n",
    "    \n",
    "    MODEL_NAME = 'Collaborative Filtering'\n",
    "    \n",
    "    def __init__(self, cf_predictions_df, projects_df=None):\n",
    "        self.cf_predictions_df = cf_predictions_df\n",
    "        self.projects_df = projects_df\n",
    "        \n",
    "    def get_model_name(self):\n",
    "        return self.MODEL_NAME\n",
    "        \n",
    "    def recommend_projects(self, donor_id, projects_to_ignore=[], topn=10):\n",
    "        # Get and sort the donor's predictions\n",
    "        sorted_donor_predictions = self.cf_predictions_df[donor_id].sort_values(ascending=False) \\\n",
    "                                    .reset_index().rename(columns={donor_id: 'recStrength'})\n",
    "        \n",
    "        # Recommend the highest predicted projects that the donor hasn't donated to\n",
    "        recommendations_df = sorted_donor_predictions[~sorted_donor_predictions['Store'].isin(projects_to_ignore)] \\\n",
    "                               .sort_values('recStrength', ascending = False) \\\n",
    "                               .head(topn)\n",
    "\n",
    "        return recommendations_df"
   ]
  },
  {
   "cell_type": "code",
   "execution_count": 33,
   "id": "f9c2cb8f-45db-46f0-9fb2-daeb0d81f086",
   "metadata": {
    "tags": []
   },
   "outputs": [],
   "source": [
    "preds_df = pd.DataFrame(matrix_reconstructed, \n",
    "                           columns = pivot.columns, \n",
    "                           index=pivot.index).transpose()"
   ]
  },
  {
   "cell_type": "code",
   "execution_count": 34,
   "id": "c85711c4-6f2c-4fa5-8aae-d27951d0a48c",
   "metadata": {
    "tags": []
   },
   "outputs": [
    {
     "data": {
      "text/html": [
       "<div>\n",
       "<style scoped>\n",
       "    .dataframe tbody tr th:only-of-type {\n",
       "        vertical-align: middle;\n",
       "    }\n",
       "\n",
       "    .dataframe tbody tr th {\n",
       "        vertical-align: top;\n",
       "    }\n",
       "\n",
       "    .dataframe thead th {\n",
       "        text-align: right;\n",
       "    }\n",
       "</style>\n",
       "<table border=\"1\" class=\"dataframe\">\n",
       "  <thead>\n",
       "    <tr style=\"text-align: right;\">\n",
       "      <th>User</th>\n",
       "      <th>01 มติมนต์ จํานงค์</th>\n",
       "      <th>113_kammika raksa</th>\n",
       "      <th>1904x</th>\n",
       "      <th>1984whatthehell</th>\n",
       "      <th>212ปาณิตตา ศิริชัย</th>\n",
       "      <th>321 321</th>\n",
       "      <th>53phenix</th>\n",
       "      <th>9ณัฐวลัญช์ พบบุญ</th>\n",
       "      <th>A -yo</th>\n",
       "      <th>A T</th>\n",
       "      <th>...</th>\n",
       "      <th>ไพจิต ศิลารักษ์</th>\n",
       "      <th>ไวไว อิอิ</th>\n",
       "      <th>ປາກເຊແດນງາມ Tubes</th>\n",
       "      <th>ᔕ νιяāкōяη</th>\n",
       "      <th>章詠乾</th>\n",
       "      <th>蔡賢德Karanpon</th>\n",
       "      <th>김주일</th>\n",
       "      <th>남궁진영</th>\n",
       "      <th>박선아</th>\n",
       "      <th>은하</th>\n",
       "    </tr>\n",
       "    <tr>\n",
       "      <th>Store</th>\n",
       "      <th></th>\n",
       "      <th></th>\n",
       "      <th></th>\n",
       "      <th></th>\n",
       "      <th></th>\n",
       "      <th></th>\n",
       "      <th></th>\n",
       "      <th></th>\n",
       "      <th></th>\n",
       "      <th></th>\n",
       "      <th></th>\n",
       "      <th></th>\n",
       "      <th></th>\n",
       "      <th></th>\n",
       "      <th></th>\n",
       "      <th></th>\n",
       "      <th></th>\n",
       "      <th></th>\n",
       "      <th></th>\n",
       "      <th></th>\n",
       "      <th></th>\n",
       "    </tr>\n",
       "  </thead>\n",
       "  <tbody>\n",
       "    <tr>\n",
       "      <th>11.11 Gallery and Coffee</th>\n",
       "      <td>-0.015803</td>\n",
       "      <td>0.029215</td>\n",
       "      <td>0.063027</td>\n",
       "      <td>0.071555</td>\n",
       "      <td>0.086291</td>\n",
       "      <td>0.067923</td>\n",
       "      <td>0.304221</td>\n",
       "      <td>0.018933</td>\n",
       "      <td>0.027420</td>\n",
       "      <td>0.489118</td>\n",
       "      <td>...</td>\n",
       "      <td>-0.004854</td>\n",
       "      <td>0.090944</td>\n",
       "      <td>0.060288</td>\n",
       "      <td>-0.003883</td>\n",
       "      <td>-0.003883</td>\n",
       "      <td>0.009961</td>\n",
       "      <td>-0.010948</td>\n",
       "      <td>0.034275</td>\n",
       "      <td>0.197855</td>\n",
       "      <td>0.061930</td>\n",
       "    </tr>\n",
       "    <tr>\n",
       "      <th>Abe Specialty Coffee</th>\n",
       "      <td>-0.030304</td>\n",
       "      <td>0.067809</td>\n",
       "      <td>0.028515</td>\n",
       "      <td>0.001583</td>\n",
       "      <td>0.040481</td>\n",
       "      <td>0.028623</td>\n",
       "      <td>0.093605</td>\n",
       "      <td>0.006892</td>\n",
       "      <td>0.011793</td>\n",
       "      <td>0.168515</td>\n",
       "      <td>...</td>\n",
       "      <td>-0.027213</td>\n",
       "      <td>0.062019</td>\n",
       "      <td>0.045388</td>\n",
       "      <td>-0.021770</td>\n",
       "      <td>-0.021770</td>\n",
       "      <td>-0.011679</td>\n",
       "      <td>0.017091</td>\n",
       "      <td>0.014741</td>\n",
       "      <td>0.083780</td>\n",
       "      <td>0.026427</td>\n",
       "    </tr>\n",
       "    <tr>\n",
       "      <th>Amarna</th>\n",
       "      <td>-0.001056</td>\n",
       "      <td>0.050623</td>\n",
       "      <td>0.148359</td>\n",
       "      <td>0.112386</td>\n",
       "      <td>0.219765</td>\n",
       "      <td>0.169858</td>\n",
       "      <td>0.784880</td>\n",
       "      <td>0.006795</td>\n",
       "      <td>0.090457</td>\n",
       "      <td>1.152802</td>\n",
       "      <td>...</td>\n",
       "      <td>-0.057452</td>\n",
       "      <td>0.249348</td>\n",
       "      <td>0.008552</td>\n",
       "      <td>-0.045962</td>\n",
       "      <td>-0.045962</td>\n",
       "      <td>0.021373</td>\n",
       "      <td>0.001106</td>\n",
       "      <td>0.113071</td>\n",
       "      <td>0.276864</td>\n",
       "      <td>0.162565</td>\n",
       "    </tr>\n",
       "    <tr>\n",
       "      <th>Anna Roasters</th>\n",
       "      <td>0.000390</td>\n",
       "      <td>0.004129</td>\n",
       "      <td>-0.023109</td>\n",
       "      <td>4.971379</td>\n",
       "      <td>0.048251</td>\n",
       "      <td>0.078194</td>\n",
       "      <td>-0.085431</td>\n",
       "      <td>-0.001848</td>\n",
       "      <td>-0.014246</td>\n",
       "      <td>3.908287</td>\n",
       "      <td>...</td>\n",
       "      <td>-0.005676</td>\n",
       "      <td>0.142934</td>\n",
       "      <td>-0.001576</td>\n",
       "      <td>-0.004541</td>\n",
       "      <td>-0.004541</td>\n",
       "      <td>-0.003899</td>\n",
       "      <td>-0.009121</td>\n",
       "      <td>-0.017807</td>\n",
       "      <td>-0.022702</td>\n",
       "      <td>-0.037182</td>\n",
       "    </tr>\n",
       "    <tr>\n",
       "      <th>Attaroast</th>\n",
       "      <td>0.003699</td>\n",
       "      <td>0.132550</td>\n",
       "      <td>0.086291</td>\n",
       "      <td>0.069067</td>\n",
       "      <td>0.141565</td>\n",
       "      <td>0.102470</td>\n",
       "      <td>0.452472</td>\n",
       "      <td>0.004163</td>\n",
       "      <td>0.105448</td>\n",
       "      <td>0.653828</td>\n",
       "      <td>...</td>\n",
       "      <td>-0.053491</td>\n",
       "      <td>0.160931</td>\n",
       "      <td>-0.036855</td>\n",
       "      <td>-0.042793</td>\n",
       "      <td>-0.042793</td>\n",
       "      <td>-0.040461</td>\n",
       "      <td>0.041631</td>\n",
       "      <td>0.131810</td>\n",
       "      <td>0.157883</td>\n",
       "      <td>0.103943</td>\n",
       "    </tr>\n",
       "  </tbody>\n",
       "</table>\n",
       "<p>5 rows × 2237 columns</p>\n",
       "</div>"
      ],
      "text/plain": [
       "User                      01 มติมนต์ จํานงค์  113_kammika raksa     1904x  \\\n",
       "Store                                                                       \n",
       "11.11 Gallery and Coffee           -0.015803           0.029215  0.063027   \n",
       "Abe Specialty Coffee               -0.030304           0.067809  0.028515   \n",
       "Amarna                             -0.001056           0.050623  0.148359   \n",
       "Anna Roasters                       0.000390           0.004129 -0.023109   \n",
       "Attaroast                           0.003699           0.132550  0.086291   \n",
       "\n",
       "User                      1984whatthehell  212ปาณิตตา ศิริชัย   321 321  \\\n",
       "Store                                                                     \n",
       "11.11 Gallery and Coffee         0.071555            0.086291  0.067923   \n",
       "Abe Specialty Coffee             0.001583            0.040481  0.028623   \n",
       "Amarna                           0.112386            0.219765  0.169858   \n",
       "Anna Roasters                    4.971379            0.048251  0.078194   \n",
       "Attaroast                        0.069067            0.141565  0.102470   \n",
       "\n",
       "User                      53phenix  9ณัฐวลัญช์ พบบุญ     A -yo       A T  ...  \\\n",
       "Store                                                                     ...   \n",
       "11.11 Gallery and Coffee  0.304221          0.018933  0.027420  0.489118  ...   \n",
       "Abe Specialty Coffee      0.093605          0.006892  0.011793  0.168515  ...   \n",
       "Amarna                    0.784880          0.006795  0.090457  1.152802  ...   \n",
       "Anna Roasters            -0.085431         -0.001848 -0.014246  3.908287  ...   \n",
       "Attaroast                 0.452472          0.004163  0.105448  0.653828  ...   \n",
       "\n",
       "User                      ไพจิต ศิลารักษ์  ไวไว อิอิ  ປາກເຊແດນງາມ Tubes  \\\n",
       "Store                                                                     \n",
       "11.11 Gallery and Coffee        -0.004854   0.090944           0.060288   \n",
       "Abe Specialty Coffee            -0.027213   0.062019           0.045388   \n",
       "Amarna                          -0.057452   0.249348           0.008552   \n",
       "Anna Roasters                   -0.005676   0.142934          -0.001576   \n",
       "Attaroast                       -0.053491   0.160931          -0.036855   \n",
       "\n",
       "User                      ᔕ νιяāкōяη       章詠乾  蔡賢德Karanpon       김주일  \\\n",
       "Store                                                                   \n",
       "11.11 Gallery and Coffee   -0.003883 -0.003883     0.009961 -0.010948   \n",
       "Abe Specialty Coffee       -0.021770 -0.021770    -0.011679  0.017091   \n",
       "Amarna                     -0.045962 -0.045962     0.021373  0.001106   \n",
       "Anna Roasters              -0.004541 -0.004541    -0.003899 -0.009121   \n",
       "Attaroast                  -0.042793 -0.042793    -0.040461  0.041631   \n",
       "\n",
       "User                          남궁진영       박선아        은하  \n",
       "Store                                                   \n",
       "11.11 Gallery and Coffee  0.034275  0.197855  0.061930  \n",
       "Abe Specialty Coffee      0.014741  0.083780  0.026427  \n",
       "Amarna                    0.113071  0.276864  0.162565  \n",
       "Anna Roasters            -0.017807 -0.022702 -0.037182  \n",
       "Attaroast                 0.131810  0.157883  0.103943  \n",
       "\n",
       "[5 rows x 2237 columns]"
      ]
     },
     "execution_count": 34,
     "metadata": {},
     "output_type": "execute_result"
    }
   ],
   "source": [
    "preds_df.head()"
   ]
  },
  {
   "cell_type": "code",
   "execution_count": 35,
   "id": "19869b6a-2a20-483c-b6d0-3fa579d7eb56",
   "metadata": {
    "tags": []
   },
   "outputs": [
    {
     "data": {
      "text/plain": [
       "User\n",
       "Nuunet D.    NAP's Coffee & Roasters\n",
       "dtype: object"
      ]
     },
     "execution_count": 35,
     "metadata": {},
     "output_type": "execute_result"
    }
   ],
   "source": [
    "pivot[pivot.index == 'Nuunet D.'].idxmax(1)"
   ]
  },
  {
   "cell_type": "code",
   "execution_count": 36,
   "id": "e3f79177-717d-4d88-80c4-b2ff9a89f777",
   "metadata": {
    "tags": []
   },
   "outputs": [],
   "source": [
    "tes = CFRecommender2(preds_df,pivot)"
   ]
  },
  {
   "cell_type": "code",
   "execution_count": 37,
   "id": "2670b526-23e1-4698-8aca-2bef7d9f479c",
   "metadata": {
    "tags": []
   },
   "outputs": [
    {
     "data": {
      "text/html": [
       "<div>\n",
       "<style scoped>\n",
       "    .dataframe tbody tr th:only-of-type {\n",
       "        vertical-align: middle;\n",
       "    }\n",
       "\n",
       "    .dataframe tbody tr th {\n",
       "        vertical-align: top;\n",
       "    }\n",
       "\n",
       "    .dataframe thead th {\n",
       "        text-align: right;\n",
       "    }\n",
       "</style>\n",
       "<table border=\"1\" class=\"dataframe\">\n",
       "  <thead>\n",
       "    <tr style=\"text-align: right;\">\n",
       "      <th></th>\n",
       "      <th>Store</th>\n",
       "      <th>recStrength</th>\n",
       "    </tr>\n",
       "  </thead>\n",
       "  <tbody>\n",
       "    <tr>\n",
       "      <th>0</th>\n",
       "      <td>Nap x Warin</td>\n",
       "      <td>0.276800</td>\n",
       "    </tr>\n",
       "    <tr>\n",
       "      <th>1</th>\n",
       "      <td>Impression Sunrise</td>\n",
       "      <td>0.257274</td>\n",
       "    </tr>\n",
       "    <tr>\n",
       "      <th>2</th>\n",
       "      <td>Saereesook</td>\n",
       "      <td>0.246346</td>\n",
       "    </tr>\n",
       "    <tr>\n",
       "      <th>3</th>\n",
       "      <td>Amarna</td>\n",
       "      <td>0.148359</td>\n",
       "    </tr>\n",
       "    <tr>\n",
       "      <th>4</th>\n",
       "      <td>ROSIEHOLM</td>\n",
       "      <td>0.113205</td>\n",
       "    </tr>\n",
       "    <tr>\n",
       "      <th>5</th>\n",
       "      <td>SongSarn</td>\n",
       "      <td>0.103191</td>\n",
       "    </tr>\n",
       "    <tr>\n",
       "      <th>6</th>\n",
       "      <td>LIFE Roasters</td>\n",
       "      <td>0.094664</td>\n",
       "    </tr>\n",
       "    <tr>\n",
       "      <th>7</th>\n",
       "      <td>sangob</td>\n",
       "      <td>0.094146</td>\n",
       "    </tr>\n",
       "    <tr>\n",
       "      <th>8</th>\n",
       "      <td>BaanHuakham Cafe &amp; Farmstay</td>\n",
       "      <td>0.088122</td>\n",
       "    </tr>\n",
       "    <tr>\n",
       "      <th>9</th>\n",
       "      <td>Attaroast</td>\n",
       "      <td>0.086291</td>\n",
       "    </tr>\n",
       "  </tbody>\n",
       "</table>\n",
       "</div>"
      ],
      "text/plain": [
       "                         Store  recStrength\n",
       "0                  Nap x Warin     0.276800\n",
       "1           Impression Sunrise     0.257274\n",
       "2                   Saereesook     0.246346\n",
       "3                       Amarna     0.148359\n",
       "4                    ROSIEHOLM     0.113205\n",
       "5                     SongSarn     0.103191\n",
       "6                LIFE Roasters     0.094664\n",
       "7                       sangob     0.094146\n",
       "8  BaanHuakham Cafe & Farmstay     0.088122\n",
       "9                    Attaroast     0.086291"
      ]
     },
     "execution_count": 37,
     "metadata": {},
     "output_type": "execute_result"
    }
   ],
   "source": [
    "tes.recommend_projects(\"1904x\")"
   ]
  },
  {
   "cell_type": "markdown",
   "id": "89dc3093-db01-4b06-9614-52f6905413f5",
   "metadata": {},
   "source": [
    "# Pytorch Neural Network"
   ]
  },
  {
   "cell_type": "code",
   "execution_count": 59,
   "id": "b49cd6ed-e18a-4e4e-bd22-af356af935f4",
   "metadata": {
    "tags": []
   },
   "outputs": [],
   "source": [
    "import torch\n",
    "from torch.utils.data import Dataset, DataLoader\n",
    "import torch.nn as nn"
   ]
  },
  {
   "cell_type": "code",
   "execution_count": 60,
   "id": "320e97e9-0471-4b2d-b4ee-3ebcf17fb53b",
   "metadata": {
    "tags": []
   },
   "outputs": [],
   "source": [
    "data = df.copy()"
   ]
  },
  {
   "cell_type": "code",
   "execution_count": 61,
   "id": "db745c71-acd5-416d-bccb-7eb27f2f8e42",
   "metadata": {
    "tags": []
   },
   "outputs": [
    {
     "data": {
      "text/html": [
       "<div>\n",
       "<style scoped>\n",
       "    .dataframe tbody tr th:only-of-type {\n",
       "        vertical-align: middle;\n",
       "    }\n",
       "\n",
       "    .dataframe tbody tr th {\n",
       "        vertical-align: top;\n",
       "    }\n",
       "\n",
       "    .dataframe thead th {\n",
       "        text-align: right;\n",
       "    }\n",
       "</style>\n",
       "<table border=\"1\" class=\"dataframe\">\n",
       "  <thead>\n",
       "    <tr style=\"text-align: right;\">\n",
       "      <th></th>\n",
       "      <th>Store</th>\n",
       "      <th>User</th>\n",
       "      <th>Rating</th>\n",
       "    </tr>\n",
       "  </thead>\n",
       "  <tbody>\n",
       "    <tr>\n",
       "      <th>0</th>\n",
       "      <td>NAP's Coffee &amp; Roasters</td>\n",
       "      <td>Nuunet D.</td>\n",
       "      <td>5</td>\n",
       "    </tr>\n",
       "    <tr>\n",
       "      <th>1</th>\n",
       "      <td>NAP's Coffee &amp; Roasters</td>\n",
       "      <td>vanai sun</td>\n",
       "      <td>3</td>\n",
       "    </tr>\n",
       "    <tr>\n",
       "      <th>2</th>\n",
       "      <td>NAP's Coffee &amp; Roasters</td>\n",
       "      <td>Phonanan Seeon</td>\n",
       "      <td>5</td>\n",
       "    </tr>\n",
       "    <tr>\n",
       "      <th>3</th>\n",
       "      <td>NAP's Coffee &amp; Roasters</td>\n",
       "      <td>Chavakorn Laophetsakunchai</td>\n",
       "      <td>5</td>\n",
       "    </tr>\n",
       "    <tr>\n",
       "      <th>4</th>\n",
       "      <td>NAP's Coffee &amp; Roasters</td>\n",
       "      <td>community man</td>\n",
       "      <td>5</td>\n",
       "    </tr>\n",
       "    <tr>\n",
       "      <th>...</th>\n",
       "      <td>...</td>\n",
       "      <td>...</td>\n",
       "      <td>...</td>\n",
       "    </tr>\n",
       "    <tr>\n",
       "      <th>3348</th>\n",
       "      <td>Yuanjai Cafe</td>\n",
       "      <td>อาจณรงค์ กลมเกลียว</td>\n",
       "      <td>5</td>\n",
       "    </tr>\n",
       "    <tr>\n",
       "      <th>3349</th>\n",
       "      <td>Yuanjai Cafe</td>\n",
       "      <td>은하</td>\n",
       "      <td>5</td>\n",
       "    </tr>\n",
       "    <tr>\n",
       "      <th>3350</th>\n",
       "      <td>Yuanjai Cafe</td>\n",
       "      <td>ประจงจิต จันทป</td>\n",
       "      <td>5</td>\n",
       "    </tr>\n",
       "    <tr>\n",
       "      <th>3351</th>\n",
       "      <td>Yuanjai Cafe</td>\n",
       "      <td>Chatthawat Warnjai</td>\n",
       "      <td>5</td>\n",
       "    </tr>\n",
       "    <tr>\n",
       "      <th>3352</th>\n",
       "      <td>Yuanjai Cafe</td>\n",
       "      <td>TAE.SIRIWAT</td>\n",
       "      <td>5</td>\n",
       "    </tr>\n",
       "  </tbody>\n",
       "</table>\n",
       "<p>3291 rows × 3 columns</p>\n",
       "</div>"
      ],
      "text/plain": [
       "                        Store                        User  Rating\n",
       "0     NAP's Coffee & Roasters                   Nuunet D.       5\n",
       "1     NAP's Coffee & Roasters                   vanai sun       3\n",
       "2     NAP's Coffee & Roasters              Phonanan Seeon       5\n",
       "3     NAP's Coffee & Roasters  Chavakorn Laophetsakunchai       5\n",
       "4     NAP's Coffee & Roasters               community man       5\n",
       "...                       ...                         ...     ...\n",
       "3348             Yuanjai Cafe          อาจณรงค์ กลมเกลียว       5\n",
       "3349             Yuanjai Cafe                          은하       5\n",
       "3350             Yuanjai Cafe              ประจงจิต จันทป       5\n",
       "3351             Yuanjai Cafe          Chatthawat Warnjai       5\n",
       "3352             Yuanjai Cafe                 TAE.SIRIWAT       5\n",
       "\n",
       "[3291 rows x 3 columns]"
      ]
     },
     "execution_count": 61,
     "metadata": {},
     "output_type": "execute_result"
    }
   ],
   "source": [
    "data"
   ]
  },
  {
   "cell_type": "code",
   "execution_count": 62,
   "id": "c7ba45fe-7e7c-4bb6-b9fb-b3f9b8c3ffe9",
   "metadata": {
    "tags": []
   },
   "outputs": [],
   "source": [
    "device = get_device()"
   ]
  },
  {
   "cell_type": "code",
   "execution_count": 63,
   "id": "661fbecc-971d-4955-b571-a66187a7ea26",
   "metadata": {
    "tags": []
   },
   "outputs": [
    {
     "data": {
      "text/plain": [
       "'cpu'"
      ]
     },
     "execution_count": 63,
     "metadata": {},
     "output_type": "execute_result"
    }
   ],
   "source": [
    "device"
   ]
  },
  {
   "cell_type": "code",
   "execution_count": 131,
   "id": "6139400a-1117-472e-8e54-dee3c3b5184c",
   "metadata": {
    "tags": []
   },
   "outputs": [],
   "source": [
    "\n",
    "class VanillaMF(nn.Module):\n",
    "    \"\"\"\n",
    "    An implementation of vanilla matrix factorization model.\n",
    "    \"\"\"\n",
    "    \n",
    "    def __init__(self, n_users: int, n_items: int, latent_dim: int = 10):\n",
    "        super().__init__()\n",
    "        \n",
    "        self.user_embeddings = nn.Embedding(n_users, latent_dim)\n",
    "        self.item_embeddings = nn.Embedding(n_items, latent_dim)\n",
    "        \n",
    "        self.user_h1 = nn.Linear(latent_dim, latent_dim // 2)\n",
    "        self.item_h1 = nn.Linear(latent_dim, latent_dim // 2)\n",
    "        \n",
    "        # self.user_h1_dropout = nn.Dropout(0.25)\n",
    "        # self.item_h1_dropout = nn.Dropout(0.25)\n",
    "        \n",
    "    def forward(self, user_ids: torch.Tensor, item_ids: torch.Tensor) -> torch.Tensor:\n",
    "        user_emb = self.user_embeddings(user_ids).squeeze(dim=1)  # (batch_size, latent_dim)\n",
    "        item_emb = self.item_embeddings(item_ids).squeeze(dim=1)  # (batch_size, latent_dim)\n",
    "        \n",
    "        user_h1 = self.user_h1(user_emb)\n",
    "        item_h1 = self.user_h1(item_emb)\n",
    "        \n",
    "#         user_h1 = self.user_h1_dropout(user_h1)\n",
    "#         item_h1 = self.item_h1_dropout(user_h1)\n",
    "        \n",
    "        \n",
    "        \n",
    "        return (user_h1 * item_h1).sum(dim=1)  # (batch_size, )\n",
    "\n",
    "    def loss_fn(self, preds: torch.Tensor, targets: torch.Tensor) -> torch.Tensor:\n",
    "        \"\"\"\n",
    "        Simple MSE loss as the loss function for the model.\n",
    "        \n",
    "        Args:\n",
    "            preds: predicted scores\n",
    "            targets: ground truth scores\n",
    "            \n",
    "        Returns:\n",
    "            MSE of the predictions and the ground truth\n",
    "        \"\"\"\n",
    "        \n",
    "        # return nn.MSELoss()(preds, targets)  # use package to calculate loss\n",
    "        return ((preds - targets) ** 2).mean()"
   ]
  },
  {
   "cell_type": "code",
   "execution_count": 132,
   "id": "3c342a8a-d98f-4268-b3bf-7de0412d96f8",
   "metadata": {
    "tags": []
   },
   "outputs": [],
   "source": [
    "class RegularizedMF(VanillaMF):\n",
    "    \"\"\"\n",
    "    Regularized matrix factorization model.\n",
    "    \n",
    "    References:\n",
    "        - https://developers.google.com/machine-learning/recommendation/collaborative/matrix\n",
    "        - https://colab.research.google.com/github/google/eng-edu/blob/main/ml/recommendation-systems/recommendation-systems.ipynb\n",
    "    \"\"\"\n",
    "    \n",
    "    def __init__(self, \n",
    "                 n_users: int, \n",
    "                 n_items: int, \n",
    "                 latent_dim: int = 10,\n",
    "                 reg_coef: float = 0.1,\n",
    "                 gravity_coeff: float = 1.):\n",
    "        super().__init__(n_users, n_items, latent_dim)\n",
    "        \n",
    "        self.reg_coef = reg_coef\n",
    "        self.gravity_coeff = gravity_coeff\n",
    "    \n",
    "    def regularization_loss(self) -> torch.Tensor:\n",
    "        \"\"\"\n",
    "        Calculate the regularization loss.\n",
    "        \n",
    "        Returns:\n",
    "            regularization loss\n",
    "        \"\"\"\n",
    "        \n",
    "        user_reg_loss = self.user_embeddings.weight.norm(p=2, dim=1).mean()\n",
    "        item_reg_loss = self.item_embeddings.weight.norm(p=2, dim=1).mean()\n",
    "        \n",
    "        return self.reg_coef * (user_reg_loss + item_reg_loss)\n",
    "    \n",
    "    def gravity_loss(self) -> torch.Tensor:\n",
    "        \"\"\"\n",
    "        Calculate the gravity loss.\n",
    "        \n",
    "        Returns:\n",
    "            gravity loss\n",
    "        \"\"\"\n",
    "        \n",
    "        user_emb = self.user_embeddings.weight  # (n_users, latent_dim)\n",
    "        item_emb = self.item_embeddings.weight  # (n_items, latent_dim)\n",
    "        \n",
    "        denominator = (user_emb.shape[0] * item_emb.shape[0]) * ((user_emb.T @ user_emb) * (item_emb.T @ item_emb)).sum()\n",
    "        \n",
    "        return self.gravity_coeff * 1 / denominator\n",
    "\n",
    "    def loss_fn(self, preds: torch.Tensor, targets: torch.Tensor) -> torch.Tensor:\n",
    "        \"\"\"\n",
    "        MSE loss with regularization.\n",
    "        \n",
    "        Args:\n",
    "            preds: predicted scores\n",
    "            targets: ground truth scores\n",
    "            \n",
    "        Returns:\n",
    "            MSE of the predictions and the ground truth\n",
    "        \"\"\"\n",
    "        \n",
    "        return super().loss_fn(preds, targets) + self.regularization_loss() + self.gravity_loss()"
   ]
  },
  {
   "cell_type": "code",
   "execution_count": 133,
   "id": "af2862e0-f087-4e68-80bc-68abbea1cede",
   "metadata": {
    "tags": []
   },
   "outputs": [],
   "source": [
    "user2idx = {user: idx for idx, user in enumerate(data.User.unique())}\n",
    "idx2user = {idx: user for user, idx in user2idx.items()}\n",
    "\n",
    "item2idx = {item: idx for idx, item in enumerate(data.Store.unique())}\n",
    "idx2item = {idx: item for item, idx in item2idx.items()}"
   ]
  },
  {
   "cell_type": "code",
   "execution_count": 134,
   "id": "78778fba-ee4f-4c5d-9e2a-91ef8d49445a",
   "metadata": {
    "tags": []
   },
   "outputs": [
    {
     "data": {
      "text/html": [
       "<div>\n",
       "<style scoped>\n",
       "    .dataframe tbody tr th:only-of-type {\n",
       "        vertical-align: middle;\n",
       "    }\n",
       "\n",
       "    .dataframe tbody tr th {\n",
       "        vertical-align: top;\n",
       "    }\n",
       "\n",
       "    .dataframe thead th {\n",
       "        text-align: right;\n",
       "    }\n",
       "</style>\n",
       "<table border=\"1\" class=\"dataframe\">\n",
       "  <thead>\n",
       "    <tr style=\"text-align: right;\">\n",
       "      <th>Store</th>\n",
       "      <th>0</th>\n",
       "      <th>1</th>\n",
       "      <th>2</th>\n",
       "      <th>3</th>\n",
       "      <th>4</th>\n",
       "      <th>5</th>\n",
       "      <th>6</th>\n",
       "      <th>7</th>\n",
       "      <th>8</th>\n",
       "      <th>9</th>\n",
       "      <th>...</th>\n",
       "      <th>23</th>\n",
       "      <th>24</th>\n",
       "      <th>25</th>\n",
       "      <th>26</th>\n",
       "      <th>27</th>\n",
       "      <th>28</th>\n",
       "      <th>29</th>\n",
       "      <th>30</th>\n",
       "      <th>31</th>\n",
       "      <th>32</th>\n",
       "    </tr>\n",
       "    <tr>\n",
       "      <th>User</th>\n",
       "      <th></th>\n",
       "      <th></th>\n",
       "      <th></th>\n",
       "      <th></th>\n",
       "      <th></th>\n",
       "      <th></th>\n",
       "      <th></th>\n",
       "      <th></th>\n",
       "      <th></th>\n",
       "      <th></th>\n",
       "      <th></th>\n",
       "      <th></th>\n",
       "      <th></th>\n",
       "      <th></th>\n",
       "      <th></th>\n",
       "      <th></th>\n",
       "      <th></th>\n",
       "      <th></th>\n",
       "      <th></th>\n",
       "      <th></th>\n",
       "      <th></th>\n",
       "    </tr>\n",
       "  </thead>\n",
       "  <tbody>\n",
       "    <tr>\n",
       "      <th>0</th>\n",
       "      <td>5.0</td>\n",
       "      <td>NaN</td>\n",
       "      <td>NaN</td>\n",
       "      <td>NaN</td>\n",
       "      <td>NaN</td>\n",
       "      <td>NaN</td>\n",
       "      <td>NaN</td>\n",
       "      <td>NaN</td>\n",
       "      <td>NaN</td>\n",
       "      <td>NaN</td>\n",
       "      <td>...</td>\n",
       "      <td>NaN</td>\n",
       "      <td>NaN</td>\n",
       "      <td>NaN</td>\n",
       "      <td>NaN</td>\n",
       "      <td>NaN</td>\n",
       "      <td>NaN</td>\n",
       "      <td>NaN</td>\n",
       "      <td>NaN</td>\n",
       "      <td>NaN</td>\n",
       "      <td>NaN</td>\n",
       "    </tr>\n",
       "    <tr>\n",
       "      <th>1</th>\n",
       "      <td>3.0</td>\n",
       "      <td>NaN</td>\n",
       "      <td>NaN</td>\n",
       "      <td>NaN</td>\n",
       "      <td>NaN</td>\n",
       "      <td>NaN</td>\n",
       "      <td>4.0</td>\n",
       "      <td>4.0</td>\n",
       "      <td>NaN</td>\n",
       "      <td>NaN</td>\n",
       "      <td>...</td>\n",
       "      <td>NaN</td>\n",
       "      <td>NaN</td>\n",
       "      <td>NaN</td>\n",
       "      <td>NaN</td>\n",
       "      <td>NaN</td>\n",
       "      <td>NaN</td>\n",
       "      <td>NaN</td>\n",
       "      <td>NaN</td>\n",
       "      <td>NaN</td>\n",
       "      <td>NaN</td>\n",
       "    </tr>\n",
       "    <tr>\n",
       "      <th>2</th>\n",
       "      <td>5.0</td>\n",
       "      <td>NaN</td>\n",
       "      <td>5.0</td>\n",
       "      <td>NaN</td>\n",
       "      <td>5.0</td>\n",
       "      <td>NaN</td>\n",
       "      <td>NaN</td>\n",
       "      <td>4.0</td>\n",
       "      <td>NaN</td>\n",
       "      <td>NaN</td>\n",
       "      <td>...</td>\n",
       "      <td>NaN</td>\n",
       "      <td>NaN</td>\n",
       "      <td>NaN</td>\n",
       "      <td>NaN</td>\n",
       "      <td>NaN</td>\n",
       "      <td>NaN</td>\n",
       "      <td>NaN</td>\n",
       "      <td>NaN</td>\n",
       "      <td>NaN</td>\n",
       "      <td>NaN</td>\n",
       "    </tr>\n",
       "    <tr>\n",
       "      <th>3</th>\n",
       "      <td>5.0</td>\n",
       "      <td>5.0</td>\n",
       "      <td>4.0</td>\n",
       "      <td>NaN</td>\n",
       "      <td>NaN</td>\n",
       "      <td>NaN</td>\n",
       "      <td>NaN</td>\n",
       "      <td>NaN</td>\n",
       "      <td>NaN</td>\n",
       "      <td>NaN</td>\n",
       "      <td>...</td>\n",
       "      <td>NaN</td>\n",
       "      <td>3.0</td>\n",
       "      <td>NaN</td>\n",
       "      <td>4.0</td>\n",
       "      <td>NaN</td>\n",
       "      <td>NaN</td>\n",
       "      <td>NaN</td>\n",
       "      <td>NaN</td>\n",
       "      <td>NaN</td>\n",
       "      <td>NaN</td>\n",
       "    </tr>\n",
       "    <tr>\n",
       "      <th>4</th>\n",
       "      <td>5.0</td>\n",
       "      <td>NaN</td>\n",
       "      <td>NaN</td>\n",
       "      <td>NaN</td>\n",
       "      <td>5.0</td>\n",
       "      <td>NaN</td>\n",
       "      <td>NaN</td>\n",
       "      <td>NaN</td>\n",
       "      <td>NaN</td>\n",
       "      <td>NaN</td>\n",
       "      <td>...</td>\n",
       "      <td>NaN</td>\n",
       "      <td>NaN</td>\n",
       "      <td>NaN</td>\n",
       "      <td>NaN</td>\n",
       "      <td>NaN</td>\n",
       "      <td>NaN</td>\n",
       "      <td>NaN</td>\n",
       "      <td>NaN</td>\n",
       "      <td>NaN</td>\n",
       "      <td>NaN</td>\n",
       "    </tr>\n",
       "    <tr>\n",
       "      <th>...</th>\n",
       "      <td>...</td>\n",
       "      <td>...</td>\n",
       "      <td>...</td>\n",
       "      <td>...</td>\n",
       "      <td>...</td>\n",
       "      <td>...</td>\n",
       "      <td>...</td>\n",
       "      <td>...</td>\n",
       "      <td>...</td>\n",
       "      <td>...</td>\n",
       "      <td>...</td>\n",
       "      <td>...</td>\n",
       "      <td>...</td>\n",
       "      <td>...</td>\n",
       "      <td>...</td>\n",
       "      <td>...</td>\n",
       "      <td>...</td>\n",
       "      <td>...</td>\n",
       "      <td>...</td>\n",
       "      <td>...</td>\n",
       "      <td>...</td>\n",
       "    </tr>\n",
       "    <tr>\n",
       "      <th>2232</th>\n",
       "      <td>NaN</td>\n",
       "      <td>NaN</td>\n",
       "      <td>NaN</td>\n",
       "      <td>NaN</td>\n",
       "      <td>NaN</td>\n",
       "      <td>NaN</td>\n",
       "      <td>NaN</td>\n",
       "      <td>NaN</td>\n",
       "      <td>NaN</td>\n",
       "      <td>NaN</td>\n",
       "      <td>...</td>\n",
       "      <td>NaN</td>\n",
       "      <td>NaN</td>\n",
       "      <td>NaN</td>\n",
       "      <td>NaN</td>\n",
       "      <td>NaN</td>\n",
       "      <td>NaN</td>\n",
       "      <td>NaN</td>\n",
       "      <td>NaN</td>\n",
       "      <td>NaN</td>\n",
       "      <td>5.0</td>\n",
       "    </tr>\n",
       "    <tr>\n",
       "      <th>2233</th>\n",
       "      <td>NaN</td>\n",
       "      <td>NaN</td>\n",
       "      <td>NaN</td>\n",
       "      <td>NaN</td>\n",
       "      <td>NaN</td>\n",
       "      <td>NaN</td>\n",
       "      <td>NaN</td>\n",
       "      <td>NaN</td>\n",
       "      <td>NaN</td>\n",
       "      <td>NaN</td>\n",
       "      <td>...</td>\n",
       "      <td>NaN</td>\n",
       "      <td>NaN</td>\n",
       "      <td>NaN</td>\n",
       "      <td>NaN</td>\n",
       "      <td>NaN</td>\n",
       "      <td>NaN</td>\n",
       "      <td>NaN</td>\n",
       "      <td>NaN</td>\n",
       "      <td>NaN</td>\n",
       "      <td>5.0</td>\n",
       "    </tr>\n",
       "    <tr>\n",
       "      <th>2234</th>\n",
       "      <td>NaN</td>\n",
       "      <td>NaN</td>\n",
       "      <td>NaN</td>\n",
       "      <td>NaN</td>\n",
       "      <td>NaN</td>\n",
       "      <td>NaN</td>\n",
       "      <td>NaN</td>\n",
       "      <td>NaN</td>\n",
       "      <td>NaN</td>\n",
       "      <td>NaN</td>\n",
       "      <td>...</td>\n",
       "      <td>NaN</td>\n",
       "      <td>NaN</td>\n",
       "      <td>NaN</td>\n",
       "      <td>NaN</td>\n",
       "      <td>NaN</td>\n",
       "      <td>NaN</td>\n",
       "      <td>NaN</td>\n",
       "      <td>NaN</td>\n",
       "      <td>NaN</td>\n",
       "      <td>5.0</td>\n",
       "    </tr>\n",
       "    <tr>\n",
       "      <th>2235</th>\n",
       "      <td>NaN</td>\n",
       "      <td>NaN</td>\n",
       "      <td>NaN</td>\n",
       "      <td>NaN</td>\n",
       "      <td>NaN</td>\n",
       "      <td>NaN</td>\n",
       "      <td>NaN</td>\n",
       "      <td>NaN</td>\n",
       "      <td>NaN</td>\n",
       "      <td>NaN</td>\n",
       "      <td>...</td>\n",
       "      <td>NaN</td>\n",
       "      <td>NaN</td>\n",
       "      <td>NaN</td>\n",
       "      <td>NaN</td>\n",
       "      <td>NaN</td>\n",
       "      <td>NaN</td>\n",
       "      <td>NaN</td>\n",
       "      <td>NaN</td>\n",
       "      <td>NaN</td>\n",
       "      <td>5.0</td>\n",
       "    </tr>\n",
       "    <tr>\n",
       "      <th>2236</th>\n",
       "      <td>NaN</td>\n",
       "      <td>NaN</td>\n",
       "      <td>NaN</td>\n",
       "      <td>NaN</td>\n",
       "      <td>NaN</td>\n",
       "      <td>NaN</td>\n",
       "      <td>NaN</td>\n",
       "      <td>NaN</td>\n",
       "      <td>NaN</td>\n",
       "      <td>NaN</td>\n",
       "      <td>...</td>\n",
       "      <td>NaN</td>\n",
       "      <td>NaN</td>\n",
       "      <td>NaN</td>\n",
       "      <td>NaN</td>\n",
       "      <td>NaN</td>\n",
       "      <td>NaN</td>\n",
       "      <td>NaN</td>\n",
       "      <td>NaN</td>\n",
       "      <td>NaN</td>\n",
       "      <td>5.0</td>\n",
       "    </tr>\n",
       "  </tbody>\n",
       "</table>\n",
       "<p>2237 rows × 33 columns</p>\n",
       "</div>"
      ],
      "text/plain": [
       "Store   0    1    2   3    4   5    6    7   8   9   ...  23   24  25   26  \\\n",
       "User                                                 ...                     \n",
       "0      5.0  NaN  NaN NaN  NaN NaN  NaN  NaN NaN NaN  ... NaN  NaN NaN  NaN   \n",
       "1      3.0  NaN  NaN NaN  NaN NaN  4.0  4.0 NaN NaN  ... NaN  NaN NaN  NaN   \n",
       "2      5.0  NaN  5.0 NaN  5.0 NaN  NaN  4.0 NaN NaN  ... NaN  NaN NaN  NaN   \n",
       "3      5.0  5.0  4.0 NaN  NaN NaN  NaN  NaN NaN NaN  ... NaN  3.0 NaN  4.0   \n",
       "4      5.0  NaN  NaN NaN  5.0 NaN  NaN  NaN NaN NaN  ... NaN  NaN NaN  NaN   \n",
       "...    ...  ...  ...  ..  ...  ..  ...  ...  ..  ..  ...  ..  ...  ..  ...   \n",
       "2232   NaN  NaN  NaN NaN  NaN NaN  NaN  NaN NaN NaN  ... NaN  NaN NaN  NaN   \n",
       "2233   NaN  NaN  NaN NaN  NaN NaN  NaN  NaN NaN NaN  ... NaN  NaN NaN  NaN   \n",
       "2234   NaN  NaN  NaN NaN  NaN NaN  NaN  NaN NaN NaN  ... NaN  NaN NaN  NaN   \n",
       "2235   NaN  NaN  NaN NaN  NaN NaN  NaN  NaN NaN NaN  ... NaN  NaN NaN  NaN   \n",
       "2236   NaN  NaN  NaN NaN  NaN NaN  NaN  NaN NaN NaN  ... NaN  NaN NaN  NaN   \n",
       "\n",
       "Store  27  28  29  30  31   32  \n",
       "User                            \n",
       "0     NaN NaN NaN NaN NaN  NaN  \n",
       "1     NaN NaN NaN NaN NaN  NaN  \n",
       "2     NaN NaN NaN NaN NaN  NaN  \n",
       "3     NaN NaN NaN NaN NaN  NaN  \n",
       "4     NaN NaN NaN NaN NaN  NaN  \n",
       "...    ..  ..  ..  ..  ..  ...  \n",
       "2232  NaN NaN NaN NaN NaN  5.0  \n",
       "2233  NaN NaN NaN NaN NaN  5.0  \n",
       "2234  NaN NaN NaN NaN NaN  5.0  \n",
       "2235  NaN NaN NaN NaN NaN  5.0  \n",
       "2236  NaN NaN NaN NaN NaN  5.0  \n",
       "\n",
       "[2237 rows x 33 columns]"
      ]
     },
     "execution_count": 134,
     "metadata": {},
     "output_type": "execute_result"
    }
   ],
   "source": [
    "encoded_df = data.copy()\n",
    "\n",
    "encoded_df[\"User\"] = encoded_df[\"User\"].map(user2idx)\n",
    "encoded_df[\"Store\"] = encoded_df[\"Store\"].map(item2idx)\n",
    "\n",
    "pd.pivot_table(encoded_df, values='Rating', index='User', columns='Store')"
   ]
  },
  {
   "cell_type": "code",
   "execution_count": 135,
   "id": "d3de8c84-f95c-47e5-b847-4d9265d3d5f1",
   "metadata": {
    "tags": []
   },
   "outputs": [],
   "source": [
    "N_EPOCH = 30\n",
    "BATCH_SIZE = 512\n",
    "LEARNING_RATE = 0.02\n",
    "LATENT_DIM = 3"
   ]
  },
  {
   "cell_type": "code",
   "execution_count": 136,
   "id": "7656faab-ad8d-47e4-868c-8fabb2916e27",
   "metadata": {
    "tags": []
   },
   "outputs": [],
   "source": [
    "class CustomDataset(Dataset):\n",
    "    def __init__(self, df):\n",
    "        self.df = df\n",
    "        \n",
    "    def __len__(self):\n",
    "        return len(self.df)\n",
    "    \n",
    "    def __getitem__(self, idx):\n",
    "        user_id = self.df.iloc[idx].User\n",
    "        item_id = self.df.iloc[idx].Store\n",
    "        rating = self.df.iloc[idx].Rating\n",
    "        \n",
    "        return user_id.astype(\"int\"), item_id.astype(\"int\"), rating.astype(\"float32\")"
   ]
  },
  {
   "cell_type": "code",
   "execution_count": 137,
   "id": "af147669-4032-4b62-b11f-620dcf98c694",
   "metadata": {
    "tags": []
   },
   "outputs": [],
   "source": [
    "# Train test split\n",
    "train_df = encoded_df.copy().sample(frac=0.6, random_state=1)\n",
    "test_df = encoded_df.copy().drop(train_df.index)\n",
    "\n",
    "# Create dataloader\n",
    "train_loader = DataLoader(\n",
    "    CustomDataset(train_df.copy()),\n",
    "    batch_size=BATCH_SIZE,\n",
    "    shuffle=True,\n",
    ")\n",
    "\n",
    "test_loader = DataLoader(\n",
    "    CustomDataset(test_df.copy()),\n",
    "    batch_size=test_df.shape[0],\n",
    ")"
   ]
  },
  {
   "cell_type": "code",
   "execution_count": 138,
   "id": "b2df7e6c-4354-49c9-97a1-cbe7ad05e1fc",
   "metadata": {
    "tags": []
   },
   "outputs": [
    {
     "name": "stdout",
     "output_type": "stream",
     "text": [
      "RegularizedMF(\n",
      "  (user_embeddings): Embedding(2237, 3)\n",
      "  (item_embeddings): Embedding(33, 3)\n",
      "  (user_h1): Linear(in_features=3, out_features=1, bias=True)\n",
      "  (item_h1): Linear(in_features=3, out_features=1, bias=True)\n",
      ")\n"
     ]
    }
   ],
   "source": [
    "model = RegularizedMF(\n",
    "    n_users=2237, \n",
    "    n_items=33,\n",
    "    latent_dim=LATENT_DIM\n",
    ").to(get_device())\n",
    "\n",
    "print(model)"
   ]
  },
  {
   "cell_type": "code",
   "execution_count": 139,
   "id": "9d28dca1-bd24-409b-a561-b696d5fb6d36",
   "metadata": {
    "tags": []
   },
   "outputs": [],
   "source": [
    "opt = torch.optim.Adam(model.parameters(), lr=LEARNING_RATE)"
   ]
  },
  {
   "cell_type": "code",
   "execution_count": 140,
   "id": "5038e383-59a1-45d6-95e6-c5fce853c04b",
   "metadata": {
    "tags": []
   },
   "outputs": [
    {
     "name": "stdout",
     "output_type": "stream",
     "text": [
      "Epoch: 0, Loss: 20.7572, Eval Loss: 20.0037\n",
      "Epoch: 1, Loss: 19.1801, Eval Loss: 18.7830\n",
      "Epoch: 2, Loss: 17.7008, Eval Loss: 17.3308\n",
      "Epoch: 3, Loss: 16.1483, Eval Loss: 15.6716\n",
      "Epoch: 4, Loss: 15.2951, Eval Loss: 13.9055\n",
      "Epoch: 5, Loss: 13.1406, Eval Loss: 12.1492\n",
      "Epoch: 6, Loss: 11.0266, Eval Loss: 10.4612\n",
      "Epoch: 7, Loss: 9.4275, Eval Loss: 8.8734\n",
      "Epoch: 8, Loss: 7.4332, Eval Loss: 7.4121\n",
      "Epoch: 9, Loss: 6.2503, Eval Loss: 6.0867\n",
      "Epoch: 10, Loss: 5.2431, Eval Loss: 4.9281\n",
      "Epoch: 11, Loss: 4.0922, Eval Loss: 3.9727\n",
      "Epoch: 12, Loss: 3.1724, Eval Loss: 3.2358\n",
      "Epoch: 13, Loss: 2.5550, Eval Loss: 2.6725\n",
      "Epoch: 14, Loss: 2.0533, Eval Loss: 2.2413\n",
      "Epoch: 15, Loss: 1.8059, Eval Loss: 1.9030\n",
      "Epoch: 16, Loss: 1.5024, Eval Loss: 1.6528\n",
      "Epoch: 17, Loss: 1.2353, Eval Loss: 1.4721\n",
      "Epoch: 18, Loss: 1.1039, Eval Loss: 1.3477\n",
      "Epoch: 19, Loss: 1.1216, Eval Loss: 1.2522\n",
      "Epoch: 20, Loss: 0.9231, Eval Loss: 1.1771\n",
      "Epoch: 21, Loss: 0.9656, Eval Loss: 1.1198\n",
      "Epoch: 22, Loss: 0.9058, Eval Loss: 1.0778\n",
      "Epoch: 23, Loss: 0.8152, Eval Loss: 1.0524\n",
      "Epoch: 24, Loss: 0.8065, Eval Loss: 1.0258\n",
      "Epoch: 25, Loss: 0.8029, Eval Loss: 1.0017\n",
      "Epoch: 26, Loss: 0.7526, Eval Loss: 0.9873\n",
      "Epoch: 27, Loss: 0.7932, Eval Loss: 0.9754\n",
      "Epoch: 28, Loss: 0.7404, Eval Loss: 0.9652\n",
      "Epoch: 29, Loss: 0.7942, Eval Loss: 0.9549\n"
     ]
    }
   ],
   "source": [
    "loss_hist = []\n",
    "eval_loss_hist = []\n",
    "\n",
    "for epoch in range(0, N_EPOCH):\n",
    "    for i, (user_ids, item_ids, ratings) in enumerate(train_loader):\n",
    "        user_ids = user_ids.to(device)\n",
    "        item_ids = item_ids.to(device)\n",
    "        ratings = ratings.to(device)\n",
    "        \n",
    "        # training\n",
    "        _ = model.train()\n",
    "        opt.zero_grad()\n",
    "        \n",
    "        pred_scores = model(user_ids, item_ids)\n",
    "        loss = model.loss_fn(pred_scores, ratings)\n",
    "        \n",
    "        loss.backward()\n",
    "        opt.step()\n",
    "        \n",
    "        # evaluation\n",
    "        _ = model.eval()\n",
    "        \n",
    "        with torch.no_grad():\n",
    "            eval_loss = 0\n",
    "            for j, (user_ids, item_ids, ratings) in enumerate(test_loader):\n",
    "                user_ids = user_ids.to(device)\n",
    "                item_ids = item_ids.to(device)\n",
    "                ratings = ratings.to(device)\n",
    "                \n",
    "                pred_scores = model(user_ids, item_ids)\n",
    "                eval_loss += model.loss_fn(pred_scores, ratings)\n",
    "                \n",
    "            eval_loss /= len(test_loader)\n",
    "        \n",
    "        loss_hist.append(loss.item())\n",
    "        eval_loss_hist.append(eval_loss.item())\n",
    "        \n",
    "    if epoch % 1 == 0:\n",
    "        print(f\"Epoch: {epoch}, Loss: {loss.item():.4f}, Eval Loss: {eval_loss.item():.4f}\")"
   ]
  },
  {
   "cell_type": "code",
   "execution_count": 141,
   "id": "89afc669-538d-4dd5-9ed8-f07d6bfdbde3",
   "metadata": {
    "tags": []
   },
   "outputs": [
    {
     "data": {
      "image/png": "[encoded data removed]",
      "text/plain": [
       "<Figure size 640x480 with 1 Axes>"
      ]
     },
     "metadata": {},
     "output_type": "display_data"
    }
   ],
   "source": [
    "_ = plt.plot(loss_hist, label=\"Train\")\n",
    "_ = plt.plot(eval_loss_hist, label=\"Test\")\n",
    "_ = plt.xlabel(\"Timesteps\")\n",
    "_ = plt.ylabel(\"MSE Loss\")\n",
    "_ = plt.legend()"
   ]
  },
  {
   "cell_type": "code",
   "execution_count": 75,
   "id": "a29cad96-67b3-46ba-ba17-7f6de7fdacfc",
   "metadata": {},
   "outputs": [
    {
     "data": {
      "image/png": "[encoded data removed]",
      "text/plain": [
       "<Figure size 640x480 with 1 Axes>"
      ]
     },
     "metadata": {},
     "output_type": "display_data"
    }
   ],
   "source": [
    "_ = plt.plot(loss_hist, label=\"Train\")\n",
    "_ = plt.plot(eval_loss_hist, label=\"Test\")\n",
    "_ = plt.xlabel(\"Timesteps\")\n",
    "_ = plt.ylabel(\"MSE Loss\")\n",
    "_ = plt.legend()"
   ]
  },
  {
   "cell_type": "code",
   "execution_count": 40,
   "id": "048fe07b-88dc-4877-88bf-6d16764deff1",
   "metadata": {},
   "outputs": [
    {
     "data": {
      "image/png": "[encoded data removed]",
      "text/plain": [
       "<Figure size 640x480 with 1 Axes>"
      ]
     },
     "metadata": {},
     "output_type": "display_data"
    }
   ],
   "source": [
    "_ = plt.plot(loss_hist, label=\"Train\")\n",
    "_ = plt.plot(eval_loss_hist, label=\"Test\")\n",
    "_ = plt.xlabel(\"Timesteps\")\n",
    "_ = plt.ylabel(\"MSE Loss\")\n",
    "_ = plt.legend()"
   ]
  },
  {
   "cell_type": "code",
   "execution_count": 143,
   "id": "cabf8a7f-8aff-4b64-8601-c80ecc7e4d98",
   "metadata": {
    "tags": []
   },
   "outputs": [],
   "source": [
    "user_item_pair = list(product(range(2237), range(33)))\n",
    "user_item_pair = np.array(user_item_pair)\n"
   ]
  },
  {
   "cell_type": "code",
   "execution_count": 144,
   "id": "b957f088-47dd-46b8-8d8b-5f21c4a8830f",
   "metadata": {
    "tags": []
   },
   "outputs": [],
   "source": [
    "_ = model.eval()\n",
    "\n",
    "# Predict scores for all user-item pairs\n",
    "user_ids = torch.IntTensor(user_item_pair[:, 0].copy()).to(device)\n",
    "item_ids = torch.IntTensor(user_item_pair[:, 1].copy()).to(device)\n",
    "\n",
    "pred = model(\n",
    "    user_ids,\n",
    "    item_ids\n",
    ")\n",
    "\n",
    "user_item_score = pd.DataFrame(user_item_pair.copy(), columns=[\"User\", \"Store\"])\n",
    "user_item_score[\"pred\"] = pred.cpu().detach().numpy()\n"
   ]
  },
  {
   "cell_type": "code",
   "execution_count": 145,
   "id": "22fed40f-470d-44cd-922d-35a7ab0bb2bd",
   "metadata": {
    "tags": []
   },
   "outputs": [
    {
     "data": {
      "text/html": [
       "<div>\n",
       "<style scoped>\n",
       "    .dataframe tbody tr th:only-of-type {\n",
       "        vertical-align: middle;\n",
       "    }\n",
       "\n",
       "    .dataframe tbody tr th {\n",
       "        vertical-align: top;\n",
       "    }\n",
       "\n",
       "    .dataframe thead th {\n",
       "        text-align: right;\n",
       "    }\n",
       "</style>\n",
       "<table border=\"1\" class=\"dataframe\">\n",
       "  <thead>\n",
       "    <tr style=\"text-align: right;\">\n",
       "      <th></th>\n",
       "      <th>User</th>\n",
       "      <th>Store</th>\n",
       "      <th>pred</th>\n",
       "    </tr>\n",
       "  </thead>\n",
       "  <tbody>\n",
       "    <tr>\n",
       "      <th>0</th>\n",
       "      <td>0</td>\n",
       "      <td>0</td>\n",
       "      <td>5.391191</td>\n",
       "    </tr>\n",
       "    <tr>\n",
       "      <th>1</th>\n",
       "      <td>0</td>\n",
       "      <td>1</td>\n",
       "      <td>5.599518</td>\n",
       "    </tr>\n",
       "    <tr>\n",
       "      <th>2</th>\n",
       "      <td>0</td>\n",
       "      <td>2</td>\n",
       "      <td>5.004054</td>\n",
       "    </tr>\n",
       "    <tr>\n",
       "      <th>3</th>\n",
       "      <td>0</td>\n",
       "      <td>3</td>\n",
       "      <td>5.267044</td>\n",
       "    </tr>\n",
       "    <tr>\n",
       "      <th>4</th>\n",
       "      <td>0</td>\n",
       "      <td>4</td>\n",
       "      <td>5.351558</td>\n",
       "    </tr>\n",
       "    <tr>\n",
       "      <th>...</th>\n",
       "      <td>...</td>\n",
       "      <td>...</td>\n",
       "      <td>...</td>\n",
       "    </tr>\n",
       "    <tr>\n",
       "      <th>73816</th>\n",
       "      <td>2236</td>\n",
       "      <td>28</td>\n",
       "      <td>5.116271</td>\n",
       "    </tr>\n",
       "    <tr>\n",
       "      <th>73817</th>\n",
       "      <td>2236</td>\n",
       "      <td>29</td>\n",
       "      <td>5.340801</td>\n",
       "    </tr>\n",
       "    <tr>\n",
       "      <th>73818</th>\n",
       "      <td>2236</td>\n",
       "      <td>30</td>\n",
       "      <td>4.958758</td>\n",
       "    </tr>\n",
       "    <tr>\n",
       "      <th>73819</th>\n",
       "      <td>2236</td>\n",
       "      <td>31</td>\n",
       "      <td>5.085126</td>\n",
       "    </tr>\n",
       "    <tr>\n",
       "      <th>73820</th>\n",
       "      <td>2236</td>\n",
       "      <td>32</td>\n",
       "      <td>5.336369</td>\n",
       "    </tr>\n",
       "  </tbody>\n",
       "</table>\n",
       "<p>73821 rows × 3 columns</p>\n",
       "</div>"
      ],
      "text/plain": [
       "       User  Store      pred\n",
       "0         0      0  5.391191\n",
       "1         0      1  5.599518\n",
       "2         0      2  5.004054\n",
       "3         0      3  5.267044\n",
       "4         0      4  5.351558\n",
       "...     ...    ...       ...\n",
       "73816  2236     28  5.116271\n",
       "73817  2236     29  5.340801\n",
       "73818  2236     30  4.958758\n",
       "73819  2236     31  5.085126\n",
       "73820  2236     32  5.336369\n",
       "\n",
       "[73821 rows x 3 columns]"
      ]
     },
     "execution_count": 145,
     "metadata": {},
     "output_type": "execute_result"
    }
   ],
   "source": [
    "user_item_score"
   ]
  },
  {
   "cell_type": "code",
   "execution_count": 146,
   "id": "814ac54e-0580-4c32-92d7-40be2b3a962c",
   "metadata": {
    "tags": []
   },
   "outputs": [
    {
     "data": {
      "text/html": [
       "<div>\n",
       "<style scoped>\n",
       "    .dataframe tbody tr th:only-of-type {\n",
       "        vertical-align: middle;\n",
       "    }\n",
       "\n",
       "    .dataframe tbody tr th {\n",
       "        vertical-align: top;\n",
       "    }\n",
       "\n",
       "    .dataframe thead th {\n",
       "        text-align: right;\n",
       "    }\n",
       "</style>\n",
       "<table border=\"1\" class=\"dataframe\">\n",
       "  <thead>\n",
       "    <tr style=\"text-align: right;\">\n",
       "      <th>Store</th>\n",
       "      <th>0</th>\n",
       "      <th>1</th>\n",
       "      <th>2</th>\n",
       "      <th>3</th>\n",
       "      <th>4</th>\n",
       "      <th>5</th>\n",
       "      <th>6</th>\n",
       "      <th>7</th>\n",
       "      <th>8</th>\n",
       "      <th>9</th>\n",
       "      <th>...</th>\n",
       "      <th>23</th>\n",
       "      <th>24</th>\n",
       "      <th>25</th>\n",
       "      <th>26</th>\n",
       "      <th>27</th>\n",
       "      <th>28</th>\n",
       "      <th>29</th>\n",
       "      <th>30</th>\n",
       "      <th>31</th>\n",
       "      <th>32</th>\n",
       "    </tr>\n",
       "    <tr>\n",
       "      <th>User</th>\n",
       "      <th></th>\n",
       "      <th></th>\n",
       "      <th></th>\n",
       "      <th></th>\n",
       "      <th></th>\n",
       "      <th></th>\n",
       "      <th></th>\n",
       "      <th></th>\n",
       "      <th></th>\n",
       "      <th></th>\n",
       "      <th></th>\n",
       "      <th></th>\n",
       "      <th></th>\n",
       "      <th></th>\n",
       "      <th></th>\n",
       "      <th></th>\n",
       "      <th></th>\n",
       "      <th></th>\n",
       "      <th></th>\n",
       "      <th></th>\n",
       "      <th></th>\n",
       "    </tr>\n",
       "  </thead>\n",
       "  <tbody>\n",
       "    <tr>\n",
       "      <th>0</th>\n",
       "      <td>5.4</td>\n",
       "      <td>5.6</td>\n",
       "      <td>5.0</td>\n",
       "      <td>5.3</td>\n",
       "      <td>5.4</td>\n",
       "      <td>5.3</td>\n",
       "      <td>5.6</td>\n",
       "      <td>5.0</td>\n",
       "      <td>4.9</td>\n",
       "      <td>4.9</td>\n",
       "      <td>...</td>\n",
       "      <td>5.1</td>\n",
       "      <td>5.4</td>\n",
       "      <td>4.8</td>\n",
       "      <td>5.2</td>\n",
       "      <td>4.6</td>\n",
       "      <td>5.2</td>\n",
       "      <td>5.4</td>\n",
       "      <td>5.0</td>\n",
       "      <td>5.2</td>\n",
       "      <td>5.4</td>\n",
       "    </tr>\n",
       "    <tr>\n",
       "      <th>1</th>\n",
       "      <td>4.6</td>\n",
       "      <td>4.8</td>\n",
       "      <td>4.3</td>\n",
       "      <td>4.5</td>\n",
       "      <td>4.6</td>\n",
       "      <td>4.5</td>\n",
       "      <td>4.7</td>\n",
       "      <td>4.3</td>\n",
       "      <td>4.2</td>\n",
       "      <td>4.2</td>\n",
       "      <td>...</td>\n",
       "      <td>4.3</td>\n",
       "      <td>4.6</td>\n",
       "      <td>4.1</td>\n",
       "      <td>4.4</td>\n",
       "      <td>4.0</td>\n",
       "      <td>4.4</td>\n",
       "      <td>4.6</td>\n",
       "      <td>4.3</td>\n",
       "      <td>4.4</td>\n",
       "      <td>4.6</td>\n",
       "    </tr>\n",
       "    <tr>\n",
       "      <th>2</th>\n",
       "      <td>4.7</td>\n",
       "      <td>4.8</td>\n",
       "      <td>4.3</td>\n",
       "      <td>4.6</td>\n",
       "      <td>4.6</td>\n",
       "      <td>4.6</td>\n",
       "      <td>4.8</td>\n",
       "      <td>4.4</td>\n",
       "      <td>4.3</td>\n",
       "      <td>4.3</td>\n",
       "      <td>...</td>\n",
       "      <td>4.4</td>\n",
       "      <td>4.6</td>\n",
       "      <td>4.2</td>\n",
       "      <td>4.5</td>\n",
       "      <td>4.0</td>\n",
       "      <td>4.5</td>\n",
       "      <td>4.7</td>\n",
       "      <td>4.4</td>\n",
       "      <td>4.5</td>\n",
       "      <td>4.7</td>\n",
       "    </tr>\n",
       "    <tr>\n",
       "      <th>3</th>\n",
       "      <td>4.4</td>\n",
       "      <td>4.5</td>\n",
       "      <td>4.1</td>\n",
       "      <td>4.3</td>\n",
       "      <td>4.3</td>\n",
       "      <td>4.3</td>\n",
       "      <td>4.5</td>\n",
       "      <td>4.1</td>\n",
       "      <td>4.0</td>\n",
       "      <td>4.0</td>\n",
       "      <td>...</td>\n",
       "      <td>4.1</td>\n",
       "      <td>4.3</td>\n",
       "      <td>3.9</td>\n",
       "      <td>4.2</td>\n",
       "      <td>3.8</td>\n",
       "      <td>4.2</td>\n",
       "      <td>4.4</td>\n",
       "      <td>4.1</td>\n",
       "      <td>4.2</td>\n",
       "      <td>4.4</td>\n",
       "    </tr>\n",
       "    <tr>\n",
       "      <th>4</th>\n",
       "      <td>4.9</td>\n",
       "      <td>5.1</td>\n",
       "      <td>4.6</td>\n",
       "      <td>4.8</td>\n",
       "      <td>4.9</td>\n",
       "      <td>4.9</td>\n",
       "      <td>5.1</td>\n",
       "      <td>4.6</td>\n",
       "      <td>4.5</td>\n",
       "      <td>4.5</td>\n",
       "      <td>...</td>\n",
       "      <td>4.7</td>\n",
       "      <td>4.9</td>\n",
       "      <td>4.4</td>\n",
       "      <td>4.8</td>\n",
       "      <td>4.3</td>\n",
       "      <td>4.7</td>\n",
       "      <td>5.0</td>\n",
       "      <td>4.6</td>\n",
       "      <td>4.7</td>\n",
       "      <td>5.0</td>\n",
       "    </tr>\n",
       "    <tr>\n",
       "      <th>...</th>\n",
       "      <td>...</td>\n",
       "      <td>...</td>\n",
       "      <td>...</td>\n",
       "      <td>...</td>\n",
       "      <td>...</td>\n",
       "      <td>...</td>\n",
       "      <td>...</td>\n",
       "      <td>...</td>\n",
       "      <td>...</td>\n",
       "      <td>...</td>\n",
       "      <td>...</td>\n",
       "      <td>...</td>\n",
       "      <td>...</td>\n",
       "      <td>...</td>\n",
       "      <td>...</td>\n",
       "      <td>...</td>\n",
       "      <td>...</td>\n",
       "      <td>...</td>\n",
       "      <td>...</td>\n",
       "      <td>...</td>\n",
       "      <td>...</td>\n",
       "    </tr>\n",
       "    <tr>\n",
       "      <th>2232</th>\n",
       "      <td>5.2</td>\n",
       "      <td>5.4</td>\n",
       "      <td>4.8</td>\n",
       "      <td>5.1</td>\n",
       "      <td>5.2</td>\n",
       "      <td>5.1</td>\n",
       "      <td>5.4</td>\n",
       "      <td>4.8</td>\n",
       "      <td>4.8</td>\n",
       "      <td>4.7</td>\n",
       "      <td>...</td>\n",
       "      <td>4.9</td>\n",
       "      <td>5.2</td>\n",
       "      <td>4.7</td>\n",
       "      <td>5.0</td>\n",
       "      <td>4.5</td>\n",
       "      <td>5.0</td>\n",
       "      <td>5.2</td>\n",
       "      <td>4.8</td>\n",
       "      <td>5.0</td>\n",
       "      <td>5.2</td>\n",
       "    </tr>\n",
       "    <tr>\n",
       "      <th>2233</th>\n",
       "      <td>4.3</td>\n",
       "      <td>4.4</td>\n",
       "      <td>4.0</td>\n",
       "      <td>4.2</td>\n",
       "      <td>4.2</td>\n",
       "      <td>4.2</td>\n",
       "      <td>4.4</td>\n",
       "      <td>4.0</td>\n",
       "      <td>3.9</td>\n",
       "      <td>3.9</td>\n",
       "      <td>...</td>\n",
       "      <td>4.0</td>\n",
       "      <td>4.3</td>\n",
       "      <td>3.8</td>\n",
       "      <td>4.1</td>\n",
       "      <td>3.7</td>\n",
       "      <td>4.1</td>\n",
       "      <td>4.3</td>\n",
       "      <td>4.0</td>\n",
       "      <td>4.1</td>\n",
       "      <td>4.3</td>\n",
       "    </tr>\n",
       "    <tr>\n",
       "      <th>2234</th>\n",
       "      <td>5.3</td>\n",
       "      <td>5.5</td>\n",
       "      <td>5.0</td>\n",
       "      <td>5.2</td>\n",
       "      <td>5.3</td>\n",
       "      <td>5.3</td>\n",
       "      <td>5.5</td>\n",
       "      <td>5.0</td>\n",
       "      <td>4.9</td>\n",
       "      <td>4.9</td>\n",
       "      <td>...</td>\n",
       "      <td>5.1</td>\n",
       "      <td>5.3</td>\n",
       "      <td>4.8</td>\n",
       "      <td>5.2</td>\n",
       "      <td>4.6</td>\n",
       "      <td>5.1</td>\n",
       "      <td>5.4</td>\n",
       "      <td>5.0</td>\n",
       "      <td>5.1</td>\n",
       "      <td>5.4</td>\n",
       "    </tr>\n",
       "    <tr>\n",
       "      <th>2235</th>\n",
       "      <td>4.3</td>\n",
       "      <td>4.5</td>\n",
       "      <td>4.0</td>\n",
       "      <td>4.2</td>\n",
       "      <td>4.3</td>\n",
       "      <td>4.3</td>\n",
       "      <td>4.5</td>\n",
       "      <td>4.0</td>\n",
       "      <td>3.9</td>\n",
       "      <td>3.9</td>\n",
       "      <td>...</td>\n",
       "      <td>4.1</td>\n",
       "      <td>4.3</td>\n",
       "      <td>3.9</td>\n",
       "      <td>4.2</td>\n",
       "      <td>3.7</td>\n",
       "      <td>4.1</td>\n",
       "      <td>4.3</td>\n",
       "      <td>4.0</td>\n",
       "      <td>4.1</td>\n",
       "      <td>4.3</td>\n",
       "    </tr>\n",
       "    <tr>\n",
       "      <th>2236</th>\n",
       "      <td>5.3</td>\n",
       "      <td>5.5</td>\n",
       "      <td>4.9</td>\n",
       "      <td>5.2</td>\n",
       "      <td>5.3</td>\n",
       "      <td>5.2</td>\n",
       "      <td>5.5</td>\n",
       "      <td>5.0</td>\n",
       "      <td>4.9</td>\n",
       "      <td>4.9</td>\n",
       "      <td>...</td>\n",
       "      <td>5.0</td>\n",
       "      <td>5.3</td>\n",
       "      <td>4.8</td>\n",
       "      <td>5.1</td>\n",
       "      <td>4.6</td>\n",
       "      <td>5.1</td>\n",
       "      <td>5.3</td>\n",
       "      <td>5.0</td>\n",
       "      <td>5.1</td>\n",
       "      <td>5.3</td>\n",
       "    </tr>\n",
       "  </tbody>\n",
       "</table>\n",
       "<p>2237 rows × 33 columns</p>\n",
       "</div>"
      ],
      "text/plain": [
       "Store   0    1    2    3    4    5    6    7    8    9   ...   23   24   25  \\\n",
       "User                                                     ...                  \n",
       "0      5.4  5.6  5.0  5.3  5.4  5.3  5.6  5.0  4.9  4.9  ...  5.1  5.4  4.8   \n",
       "1      4.6  4.8  4.3  4.5  4.6  4.5  4.7  4.3  4.2  4.2  ...  4.3  4.6  4.1   \n",
       "2      4.7  4.8  4.3  4.6  4.6  4.6  4.8  4.4  4.3  4.3  ...  4.4  4.6  4.2   \n",
       "3      4.4  4.5  4.1  4.3  4.3  4.3  4.5  4.1  4.0  4.0  ...  4.1  4.3  3.9   \n",
       "4      4.9  5.1  4.6  4.8  4.9  4.9  5.1  4.6  4.5  4.5  ...  4.7  4.9  4.4   \n",
       "...    ...  ...  ...  ...  ...  ...  ...  ...  ...  ...  ...  ...  ...  ...   \n",
       "2232   5.2  5.4  4.8  5.1  5.2  5.1  5.4  4.8  4.8  4.7  ...  4.9  5.2  4.7   \n",
       "2233   4.3  4.4  4.0  4.2  4.2  4.2  4.4  4.0  3.9  3.9  ...  4.0  4.3  3.8   \n",
       "2234   5.3  5.5  5.0  5.2  5.3  5.3  5.5  5.0  4.9  4.9  ...  5.1  5.3  4.8   \n",
       "2235   4.3  4.5  4.0  4.2  4.3  4.3  4.5  4.0  3.9  3.9  ...  4.1  4.3  3.9   \n",
       "2236   5.3  5.5  4.9  5.2  5.3  5.2  5.5  5.0  4.9  4.9  ...  5.0  5.3  4.8   \n",
       "\n",
       "Store   26   27   28   29   30   31   32  \n",
       "User                                      \n",
       "0      5.2  4.6  5.2  5.4  5.0  5.2  5.4  \n",
       "1      4.4  4.0  4.4  4.6  4.3  4.4  4.6  \n",
       "2      4.5  4.0  4.5  4.7  4.4  4.5  4.7  \n",
       "3      4.2  3.8  4.2  4.4  4.1  4.2  4.4  \n",
       "4      4.8  4.3  4.7  5.0  4.6  4.7  5.0  \n",
       "...    ...  ...  ...  ...  ...  ...  ...  \n",
       "2232   5.0  4.5  5.0  5.2  4.8  5.0  5.2  \n",
       "2233   4.1  3.7  4.1  4.3  4.0  4.1  4.3  \n",
       "2234   5.2  4.6  5.1  5.4  5.0  5.1  5.4  \n",
       "2235   4.2  3.7  4.1  4.3  4.0  4.1  4.3  \n",
       "2236   5.1  4.6  5.1  5.3  5.0  5.1  5.3  \n",
       "\n",
       "[2237 rows x 33 columns]"
      ]
     },
     "execution_count": 146,
     "metadata": {},
     "output_type": "execute_result"
    }
   ],
   "source": [
    "pd.pivot_table(user_item_score, values='pred', index='User', columns='Store').round(1)"
   ]
  },
  {
   "cell_type": "code",
   "execution_count": 147,
   "id": "653a129d-df95-4733-9e4d-f0521f5e90ee",
   "metadata": {
    "tags": []
   },
   "outputs": [
    {
     "data": {
      "text/html": [
       "<div>\n",
       "<style scoped>\n",
       "    .dataframe tbody tr th:only-of-type {\n",
       "        vertical-align: middle;\n",
       "    }\n",
       "\n",
       "    .dataframe tbody tr th {\n",
       "        vertical-align: top;\n",
       "    }\n",
       "\n",
       "    .dataframe thead th {\n",
       "        text-align: right;\n",
       "    }\n",
       "</style>\n",
       "<table border=\"1\" class=\"dataframe\">\n",
       "  <thead>\n",
       "    <tr style=\"text-align: right;\">\n",
       "      <th>Store</th>\n",
       "      <th>0</th>\n",
       "      <th>1</th>\n",
       "      <th>2</th>\n",
       "      <th>3</th>\n",
       "      <th>4</th>\n",
       "      <th>5</th>\n",
       "      <th>6</th>\n",
       "      <th>7</th>\n",
       "      <th>8</th>\n",
       "      <th>9</th>\n",
       "      <th>...</th>\n",
       "      <th>23</th>\n",
       "      <th>24</th>\n",
       "      <th>25</th>\n",
       "      <th>26</th>\n",
       "      <th>27</th>\n",
       "      <th>28</th>\n",
       "      <th>29</th>\n",
       "      <th>30</th>\n",
       "      <th>31</th>\n",
       "      <th>32</th>\n",
       "    </tr>\n",
       "    <tr>\n",
       "      <th>User</th>\n",
       "      <th></th>\n",
       "      <th></th>\n",
       "      <th></th>\n",
       "      <th></th>\n",
       "      <th></th>\n",
       "      <th></th>\n",
       "      <th></th>\n",
       "      <th></th>\n",
       "      <th></th>\n",
       "      <th></th>\n",
       "      <th></th>\n",
       "      <th></th>\n",
       "      <th></th>\n",
       "      <th></th>\n",
       "      <th></th>\n",
       "      <th></th>\n",
       "      <th></th>\n",
       "      <th></th>\n",
       "      <th></th>\n",
       "      <th></th>\n",
       "      <th></th>\n",
       "    </tr>\n",
       "  </thead>\n",
       "  <tbody>\n",
       "    <tr>\n",
       "      <th>0</th>\n",
       "      <td>5.0</td>\n",
       "      <td>NaN</td>\n",
       "      <td>NaN</td>\n",
       "      <td>NaN</td>\n",
       "      <td>NaN</td>\n",
       "      <td>NaN</td>\n",
       "      <td>NaN</td>\n",
       "      <td>NaN</td>\n",
       "      <td>NaN</td>\n",
       "      <td>NaN</td>\n",
       "      <td>...</td>\n",
       "      <td>NaN</td>\n",
       "      <td>NaN</td>\n",
       "      <td>NaN</td>\n",
       "      <td>NaN</td>\n",
       "      <td>NaN</td>\n",
       "      <td>NaN</td>\n",
       "      <td>NaN</td>\n",
       "      <td>NaN</td>\n",
       "      <td>NaN</td>\n",
       "      <td>NaN</td>\n",
       "    </tr>\n",
       "    <tr>\n",
       "      <th>1</th>\n",
       "      <td>3.0</td>\n",
       "      <td>NaN</td>\n",
       "      <td>NaN</td>\n",
       "      <td>NaN</td>\n",
       "      <td>NaN</td>\n",
       "      <td>NaN</td>\n",
       "      <td>4.0</td>\n",
       "      <td>4.0</td>\n",
       "      <td>NaN</td>\n",
       "      <td>NaN</td>\n",
       "      <td>...</td>\n",
       "      <td>NaN</td>\n",
       "      <td>NaN</td>\n",
       "      <td>NaN</td>\n",
       "      <td>NaN</td>\n",
       "      <td>NaN</td>\n",
       "      <td>NaN</td>\n",
       "      <td>NaN</td>\n",
       "      <td>NaN</td>\n",
       "      <td>NaN</td>\n",
       "      <td>NaN</td>\n",
       "    </tr>\n",
       "    <tr>\n",
       "      <th>2</th>\n",
       "      <td>5.0</td>\n",
       "      <td>NaN</td>\n",
       "      <td>5.0</td>\n",
       "      <td>NaN</td>\n",
       "      <td>5.0</td>\n",
       "      <td>NaN</td>\n",
       "      <td>NaN</td>\n",
       "      <td>4.0</td>\n",
       "      <td>NaN</td>\n",
       "      <td>NaN</td>\n",
       "      <td>...</td>\n",
       "      <td>NaN</td>\n",
       "      <td>NaN</td>\n",
       "      <td>NaN</td>\n",
       "      <td>NaN</td>\n",
       "      <td>NaN</td>\n",
       "      <td>NaN</td>\n",
       "      <td>NaN</td>\n",
       "      <td>NaN</td>\n",
       "      <td>NaN</td>\n",
       "      <td>NaN</td>\n",
       "    </tr>\n",
       "    <tr>\n",
       "      <th>3</th>\n",
       "      <td>5.0</td>\n",
       "      <td>5.0</td>\n",
       "      <td>4.0</td>\n",
       "      <td>NaN</td>\n",
       "      <td>NaN</td>\n",
       "      <td>NaN</td>\n",
       "      <td>NaN</td>\n",
       "      <td>NaN</td>\n",
       "      <td>NaN</td>\n",
       "      <td>NaN</td>\n",
       "      <td>...</td>\n",
       "      <td>NaN</td>\n",
       "      <td>3.0</td>\n",
       "      <td>NaN</td>\n",
       "      <td>4.0</td>\n",
       "      <td>NaN</td>\n",
       "      <td>NaN</td>\n",
       "      <td>NaN</td>\n",
       "      <td>NaN</td>\n",
       "      <td>NaN</td>\n",
       "      <td>NaN</td>\n",
       "    </tr>\n",
       "    <tr>\n",
       "      <th>4</th>\n",
       "      <td>5.0</td>\n",
       "      <td>NaN</td>\n",
       "      <td>NaN</td>\n",
       "      <td>NaN</td>\n",
       "      <td>5.0</td>\n",
       "      <td>NaN</td>\n",
       "      <td>NaN</td>\n",
       "      <td>NaN</td>\n",
       "      <td>NaN</td>\n",
       "      <td>NaN</td>\n",
       "      <td>...</td>\n",
       "      <td>NaN</td>\n",
       "      <td>NaN</td>\n",
       "      <td>NaN</td>\n",
       "      <td>NaN</td>\n",
       "      <td>NaN</td>\n",
       "      <td>NaN</td>\n",
       "      <td>NaN</td>\n",
       "      <td>NaN</td>\n",
       "      <td>NaN</td>\n",
       "      <td>NaN</td>\n",
       "    </tr>\n",
       "    <tr>\n",
       "      <th>...</th>\n",
       "      <td>...</td>\n",
       "      <td>...</td>\n",
       "      <td>...</td>\n",
       "      <td>...</td>\n",
       "      <td>...</td>\n",
       "      <td>...</td>\n",
       "      <td>...</td>\n",
       "      <td>...</td>\n",
       "      <td>...</td>\n",
       "      <td>...</td>\n",
       "      <td>...</td>\n",
       "      <td>...</td>\n",
       "      <td>...</td>\n",
       "      <td>...</td>\n",
       "      <td>...</td>\n",
       "      <td>...</td>\n",
       "      <td>...</td>\n",
       "      <td>...</td>\n",
       "      <td>...</td>\n",
       "      <td>...</td>\n",
       "      <td>...</td>\n",
       "    </tr>\n",
       "    <tr>\n",
       "      <th>2232</th>\n",
       "      <td>NaN</td>\n",
       "      <td>NaN</td>\n",
       "      <td>NaN</td>\n",
       "      <td>NaN</td>\n",
       "      <td>NaN</td>\n",
       "      <td>NaN</td>\n",
       "      <td>NaN</td>\n",
       "      <td>NaN</td>\n",
       "      <td>NaN</td>\n",
       "      <td>NaN</td>\n",
       "      <td>...</td>\n",
       "      <td>NaN</td>\n",
       "      <td>NaN</td>\n",
       "      <td>NaN</td>\n",
       "      <td>NaN</td>\n",
       "      <td>NaN</td>\n",
       "      <td>NaN</td>\n",
       "      <td>NaN</td>\n",
       "      <td>NaN</td>\n",
       "      <td>NaN</td>\n",
       "      <td>5.0</td>\n",
       "    </tr>\n",
       "    <tr>\n",
       "      <th>2233</th>\n",
       "      <td>NaN</td>\n",
       "      <td>NaN</td>\n",
       "      <td>NaN</td>\n",
       "      <td>NaN</td>\n",
       "      <td>NaN</td>\n",
       "      <td>NaN</td>\n",
       "      <td>NaN</td>\n",
       "      <td>NaN</td>\n",
       "      <td>NaN</td>\n",
       "      <td>NaN</td>\n",
       "      <td>...</td>\n",
       "      <td>NaN</td>\n",
       "      <td>NaN</td>\n",
       "      <td>NaN</td>\n",
       "      <td>NaN</td>\n",
       "      <td>NaN</td>\n",
       "      <td>NaN</td>\n",
       "      <td>NaN</td>\n",
       "      <td>NaN</td>\n",
       "      <td>NaN</td>\n",
       "      <td>5.0</td>\n",
       "    </tr>\n",
       "    <tr>\n",
       "      <th>2234</th>\n",
       "      <td>NaN</td>\n",
       "      <td>NaN</td>\n",
       "      <td>NaN</td>\n",
       "      <td>NaN</td>\n",
       "      <td>NaN</td>\n",
       "      <td>NaN</td>\n",
       "      <td>NaN</td>\n",
       "      <td>NaN</td>\n",
       "      <td>NaN</td>\n",
       "      <td>NaN</td>\n",
       "      <td>...</td>\n",
       "      <td>NaN</td>\n",
       "      <td>NaN</td>\n",
       "      <td>NaN</td>\n",
       "      <td>NaN</td>\n",
       "      <td>NaN</td>\n",
       "      <td>NaN</td>\n",
       "      <td>NaN</td>\n",
       "      <td>NaN</td>\n",
       "      <td>NaN</td>\n",
       "      <td>5.0</td>\n",
       "    </tr>\n",
       "    <tr>\n",
       "      <th>2235</th>\n",
       "      <td>NaN</td>\n",
       "      <td>NaN</td>\n",
       "      <td>NaN</td>\n",
       "      <td>NaN</td>\n",
       "      <td>NaN</td>\n",
       "      <td>NaN</td>\n",
       "      <td>NaN</td>\n",
       "      <td>NaN</td>\n",
       "      <td>NaN</td>\n",
       "      <td>NaN</td>\n",
       "      <td>...</td>\n",
       "      <td>NaN</td>\n",
       "      <td>NaN</td>\n",
       "      <td>NaN</td>\n",
       "      <td>NaN</td>\n",
       "      <td>NaN</td>\n",
       "      <td>NaN</td>\n",
       "      <td>NaN</td>\n",
       "      <td>NaN</td>\n",
       "      <td>NaN</td>\n",
       "      <td>5.0</td>\n",
       "    </tr>\n",
       "    <tr>\n",
       "      <th>2236</th>\n",
       "      <td>NaN</td>\n",
       "      <td>NaN</td>\n",
       "      <td>NaN</td>\n",
       "      <td>NaN</td>\n",
       "      <td>NaN</td>\n",
       "      <td>NaN</td>\n",
       "      <td>NaN</td>\n",
       "      <td>NaN</td>\n",
       "      <td>NaN</td>\n",
       "      <td>NaN</td>\n",
       "      <td>...</td>\n",
       "      <td>NaN</td>\n",
       "      <td>NaN</td>\n",
       "      <td>NaN</td>\n",
       "      <td>NaN</td>\n",
       "      <td>NaN</td>\n",
       "      <td>NaN</td>\n",
       "      <td>NaN</td>\n",
       "      <td>NaN</td>\n",
       "      <td>NaN</td>\n",
       "      <td>5.0</td>\n",
       "    </tr>\n",
       "  </tbody>\n",
       "</table>\n",
       "<p>2237 rows × 33 columns</p>\n",
       "</div>"
      ],
      "text/plain": [
       "Store   0    1    2   3    4   5    6    7   8   9   ...  23   24  25   26  \\\n",
       "User                                                 ...                     \n",
       "0      5.0  NaN  NaN NaN  NaN NaN  NaN  NaN NaN NaN  ... NaN  NaN NaN  NaN   \n",
       "1      3.0  NaN  NaN NaN  NaN NaN  4.0  4.0 NaN NaN  ... NaN  NaN NaN  NaN   \n",
       "2      5.0  NaN  5.0 NaN  5.0 NaN  NaN  4.0 NaN NaN  ... NaN  NaN NaN  NaN   \n",
       "3      5.0  5.0  4.0 NaN  NaN NaN  NaN  NaN NaN NaN  ... NaN  3.0 NaN  4.0   \n",
       "4      5.0  NaN  NaN NaN  5.0 NaN  NaN  NaN NaN NaN  ... NaN  NaN NaN  NaN   \n",
       "...    ...  ...  ...  ..  ...  ..  ...  ...  ..  ..  ...  ..  ...  ..  ...   \n",
       "2232   NaN  NaN  NaN NaN  NaN NaN  NaN  NaN NaN NaN  ... NaN  NaN NaN  NaN   \n",
       "2233   NaN  NaN  NaN NaN  NaN NaN  NaN  NaN NaN NaN  ... NaN  NaN NaN  NaN   \n",
       "2234   NaN  NaN  NaN NaN  NaN NaN  NaN  NaN NaN NaN  ... NaN  NaN NaN  NaN   \n",
       "2235   NaN  NaN  NaN NaN  NaN NaN  NaN  NaN NaN NaN  ... NaN  NaN NaN  NaN   \n",
       "2236   NaN  NaN  NaN NaN  NaN NaN  NaN  NaN NaN NaN  ... NaN  NaN NaN  NaN   \n",
       "\n",
       "Store  27  28  29  30  31   32  \n",
       "User                            \n",
       "0     NaN NaN NaN NaN NaN  NaN  \n",
       "1     NaN NaN NaN NaN NaN  NaN  \n",
       "2     NaN NaN NaN NaN NaN  NaN  \n",
       "3     NaN NaN NaN NaN NaN  NaN  \n",
       "4     NaN NaN NaN NaN NaN  NaN  \n",
       "...    ..  ..  ..  ..  ..  ...  \n",
       "2232  NaN NaN NaN NaN NaN  5.0  \n",
       "2233  NaN NaN NaN NaN NaN  5.0  \n",
       "2234  NaN NaN NaN NaN NaN  5.0  \n",
       "2235  NaN NaN NaN NaN NaN  5.0  \n",
       "2236  NaN NaN NaN NaN NaN  5.0  \n",
       "\n",
       "[2237 rows x 33 columns]"
      ]
     },
     "execution_count": 147,
     "metadata": {},
     "output_type": "execute_result"
    }
   ],
   "source": [
    "# Actual result\n",
    "pibot = pd.pivot_table(encoded_df, values='Rating', index='User', columns='Store')\n",
    "pibot"
   ]
  },
  {
   "cell_type": "code",
   "execution_count": 221,
   "id": "30142cff-ef95-424f-a6cc-d47e26c40d28",
   "metadata": {
    "tags": []
   },
   "outputs": [],
   "source": [
    "# Recommend top 5 movies for a particular user\n",
    "\n",
    "user_id = 2200\n",
    "test  =  user_item_score[user_item_score.User == user_id].sort_values(\"pred\", ascending=False)[\"Store\"].values[:15]"
   ]
  },
  {
   "cell_type": "code",
   "execution_count": 222,
   "id": "febfc2c1-081b-446a-adf2-f1fed62934ac",
   "metadata": {
    "tags": []
   },
   "outputs": [
    {
     "data": {
      "text/plain": [
       "array([ 1,  6, 12, 29, 32,  0, 24, 19, 18,  4,  5, 14,  3, 11, 16])"
      ]
     },
     "execution_count": 222,
     "metadata": {},
     "output_type": "execute_result"
    }
   ],
   "source": [
    "test"
   ]
  },
  {
   "cell_type": "code",
   "execution_count": null,
   "id": "29829c8e-4401-41fb-b0b2-b3dbc17dab10",
   "metadata": {
    "tags": []
   },
   "outputs": [],
   "source": []
  },
  {
   "cell_type": "code",
   "execution_count": 223,
   "id": "a0a562d1-162d-4a37-a994-7ed94fa740d0",
   "metadata": {
    "tags": []
   },
   "outputs": [
    {
     "name": "stdout",
     "output_type": "stream",
     "text": [
      "NAP's Coffee & Roasters\n",
      "sangob\n",
      "LIFE Roasters\n",
      "Nap x Warin\n",
      "BalconyKiss Coffee\n",
      "Anna Roasters\n",
      "Attaroast\n",
      "BaanHuakham Cafe & Farmstay\n",
      "Blues Coffee\n",
      "Bossa cafe\n",
      "GODFATHER COFFEE\n",
      "Impression Sunrise\n",
      "REDCOFFEE\n",
      "Snoopcat Cafe\n",
      "Yuanjai Cafe\n"
     ]
    }
   ],
   "source": [
    "already = pibot[pibot.index == user_id].idxmax(1).values\n",
    "for k,v in idx2item.items():\n",
    "    if k in test:\n",
    "        if k == already[0]:\n",
    "            pass\n",
    "        else:\n",
    "            print(v)\n",
    "    "
   ]
  },
  {
   "cell_type": "code",
   "execution_count": 202,
   "id": "a3716a2d-3a62-40e1-9f3b-f883ca2a6c6b",
   "metadata": {
    "tags": []
   },
   "outputs": [
    {
     "data": {
      "text/plain": [
       "array([ 1,  6, 12, 29, 32,  0, 24, 19, 18,  4,  5, 14,  3, 11, 16])"
      ]
     },
     "execution_count": 202,
     "metadata": {},
     "output_type": "execute_result"
    }
   ],
   "source": [
    "test"
   ]
  },
  {
   "cell_type": "code",
   "execution_count": null,
   "id": "e9b2df88-8dd5-4684-b1fe-07bbb3d9ff4f",
   "metadata": {},
   "outputs": [],
   "source": []
  },
  {
   "cell_type": "code",
   "execution_count": null,
   "id": "62045715-0407-40a0-9834-4eba55123431",
   "metadata": {},
   "outputs": [],
   "source": []
  }
 ],
 "metadata": {
  "kernelspec": {
   "display_name": "Python 3 (ipykernel)",
   "language": "python",
   "name": "python3"
  },
  "language_info": {
   "codemirror_mode": {
    "name": "ipython",
    "version": 3
   },
   "file_extension": ".py",
   "mimetype": "text/x-python",
   "name": "python",
   "nbconvert_exporter": "python",
   "pygments_lexer": "ipython3",
   "version": "3.9.12"
  }
 },
 "nbformat": 4,
 "nbformat_minor": 5
}
