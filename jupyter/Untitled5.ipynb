{
 "cells": [
  {
   "cell_type": "code",
   "execution_count": 1,
   "id": "5c040e0f-e989-499d-b042-85b734a7f638",
   "metadata": {
    "tags": []
   },
   "outputs": [],
   "source": [
    "# setup db\n",
    "from pymongo import MongoClient\n",
    "import pandas  as pd\n",
    "import numpy as np\n"
   ]
  },
  {
   "cell_type": "code",
   "execution_count": 284,
   "id": "6f32592e-52e7-4830-9294-a28a7d8f8dd3",
   "metadata": {
    "tags": []
   },
   "outputs": [],
   "source": [
    "data = pd.read_csv(\"data/Form.csv\")"
   ]
  },
  {
   "cell_type": "code",
   "execution_count": 285,
   "id": "77106933-a6bc-4a1e-a203-c51eb63c74a5",
   "metadata": {
    "tags": []
   },
   "outputs": [],
   "source": [
    "df = data.iloc[0:,[1,2,3]]"
   ]
  },
  {
   "cell_type": "code",
   "execution_count": 286,
   "id": "4e5576a4-79e1-4c3b-b7a9-fd0b7f803ccd",
   "metadata": {
    "tags": []
   },
   "outputs": [],
   "source": [
    "client = MongoClient('localhost',27017)"
   ]
  },
  {
   "cell_type": "code",
   "execution_count": 287,
   "id": "212224b7-887f-4892-9f57-74e1c5d8465d",
   "metadata": {
    "tags": []
   },
   "outputs": [],
   "source": [
    "db = client['Infomations']"
   ]
  },
  {
   "cell_type": "code",
   "execution_count": 288,
   "id": "e232cfbe-554b-49d2-b81e-52c5a22b4c84",
   "metadata": {
    "tags": []
   },
   "outputs": [],
   "source": [
    "collections = db['User']"
   ]
  },
  {
   "cell_type": "code",
   "execution_count": 221,
   "id": "45e26dce-92d7-4010-b15a-702d9fd519e3",
   "metadata": {
    "tags": []
   },
   "outputs": [],
   "source": [
    "pipeline = [\n",
    "        {\n",
    "          '$lookup':\n",
    "             {\n",
    "               'from': \"Transactions\",\n",
    "               'localField': \"uid\",\n",
    "               'foreignField': \"uid\",\n",
    "               'as': \"combined_documents\"\n",
    "             }\n",
    "        },\n",
    "        {\n",
    "            '$match': { 'combined_documents.event': \"like\" }\n",
    "        }\n",
    "]"
   ]
  },
  {
   "cell_type": "code",
   "execution_count": 225,
   "id": "7df6de38-b417-46d0-9896-2c8017338829",
   "metadata": {
    "tags": []
   },
   "outputs": [],
   "source": [
    "pipeline = [\n",
    "    {\n",
    "        '$lookup': {\n",
    "            'from': \"Transactions\",\n",
    "            'localField': \"uid\",\n",
    "            'foreignField': \"uid\",\n",
    "            'as': \"combined_documents\"\n",
    "        }\n",
    "    },\n",
    "    {\n",
    "        '$match': { 'combined_documents.event': \"view\" }\n",
    "    },\n",
    "    {\n",
    "        '$unwind': \"$combined_documents\"\n",
    "    },\n",
    "    {\n",
    "        '$match': { 'combined_documents.event': \"view\" }\n",
    "    },\n",
    "    {\n",
    "        '$group': {\n",
    "            '_id': \"$_id\",\n",
    "            'name': { '$first': \"$name\" },\n",
    "            'gender': { '$first': \"$gender\" },\n",
    "            'age': { '$first': \"$age\" },\n",
    "            'content_list': {\n",
    "                '$push': \"$combined_documents.Content\"\n",
    "            }\n",
    "        }\n",
    "    }\n",
    "]"
   ]
  },
  {
   "cell_type": "code",
   "execution_count": 264,
   "id": "b0aea8f6-63e3-4201-ac2a-690c55cdf806",
   "metadata": {
    "tags": []
   },
   "outputs": [],
   "source": [
    "pipeline = [\n",
    "    {\n",
    "        '$lookup': {\n",
    "            'from': \"Transactions\",\n",
    "            'localField': \"uid\",\n",
    "            'foreignField': \"uid\",\n",
    "            'as': \"combined_documents\"\n",
    "        }\n",
    "    },\n",
    "    {\n",
    "        '$match': { 'combined_documents.event': \"view\" }\n",
    "    },\n",
    "    {\n",
    "        '$unwind': \"$combined_documents\"\n",
    "    },\n",
    "    {\n",
    "        '$match': { 'combined_documents.event': \"view\" }\n",
    "    },\n",
    "    {\n",
    "        '$group': {\n",
    "            '_id': \"$_id\",\n",
    "            'name': { '$first': \"$name\" },\n",
    "            'Gender': { '$first': \"$gender\" },\n",
    "            'Age': { '$first': \"$age\" },\n",
    "            'Store': {\n",
    "                '$addToSet': \"$combined_documents.Content\"\n",
    "            }\n",
    "        }\n",
    "    }\n",
    "]\n"
   ]
  },
  {
   "cell_type": "code",
   "execution_count": 265,
   "id": "c41411b9-54ed-4ce9-9e6e-cdf4a35feb84",
   "metadata": {
    "tags": []
   },
   "outputs": [],
   "source": [
    "cl = list(collections.aggregate(pipeline))"
   ]
  },
  {
   "cell_type": "code",
   "execution_count": 228,
   "id": "3e4a4338-a930-4bd9-aa63-188f1cf827d6",
   "metadata": {
    "tags": []
   },
   "outputs": [],
   "source": [
    "from pprint import pprint"
   ]
  },
  {
   "cell_type": "code",
   "execution_count": 216,
   "id": "e06dfb97-1b16-4879-9076-83156b460059",
   "metadata": {
    "tags": []
   },
   "outputs": [],
   "source": [
    "for x in cl:\n",
    "\n",
    "    pprint([doc['event'] for doc in x['combined_documents']])\n",
    "    pprint([doc['Content'] for doc in x['combined_documents']])\n",
    "    pprint(x['name'])\n",
    "    pprint(x['gender'])\n",
    "    pprint(x['age'])\n",
    "\n",
    "\n",
    "    print('')\n",
    "        # print(x['combined_documents'][0]['event'])\n",
    "        # print(x['combined_documents'][0]['Content'])\n"
   ]
  },
  {
   "cell_type": "code",
   "execution_count": 217,
   "id": "a2927704-cf07-498e-b786-f118bd18d2f4",
   "metadata": {
    "tags": []
   },
   "outputs": [],
   "source": [
    "import json"
   ]
  },
  {
   "cell_type": "code",
   "execution_count": null,
   "id": "2bebbfbb-5d3a-4663-8035-dab3a65acb3e",
   "metadata": {
    "tags": []
   },
   "outputs": [],
   "source": []
  },
  {
   "cell_type": "code",
   "execution_count": 266,
   "id": "92738653-6f86-4994-9179-39297e45a4b6",
   "metadata": {},
   "outputs": [
    {
     "name": "stdout",
     "output_type": "stream",
     "text": [
      "{'Age': 21,\n",
      " 'Gender': 'Male',\n",
      " 'Store': ['Nap x Warin', \"NAP's Coffee & Roasters\"],\n",
      " '_id': ObjectId('63d3d51eb0cd665042d3f8e0'),\n",
      " 'name': 'tong1'}\n",
      "{'Age': 21,\n",
      " 'Gender': 'Male',\n",
      " 'Store': ['Nap x Warin'],\n",
      " '_id': ObjectId('63d6163840d228b1ae426045'),\n",
      " 'name': 'notechu'}\n"
     ]
    }
   ],
   "source": [
    "for x in cl:\n",
    "    pprint(x)"
   ]
  },
  {
   "cell_type": "code",
   "execution_count": 267,
   "id": "8a39299b-e3eb-4bdd-adcf-5e2820a37563",
   "metadata": {
    "tags": []
   },
   "outputs": [
    {
     "name": "stdout",
     "output_type": "stream",
     "text": [
      "{'_id': ObjectId('63d3d51eb0cd665042d3f8e0'), 'name': 'tong1', 'Gender': 'Male', 'Age': 21, 'Store': ['Nap x Warin', \"NAP's Coffee & Roasters\"]}\n",
      "{'_id': ObjectId('63d6163840d228b1ae426045'), 'name': 'notechu', 'Gender': 'Male', 'Age': 21, 'Store': ['Nap x Warin']}\n"
     ]
    }
   ],
   "source": [
    "for x in cl:\n",
    "    print(x)"
   ]
  },
  {
   "cell_type": "code",
   "execution_count": null,
   "id": "52b5e69a-d825-43dc-9653-fe5708bd2bfe",
   "metadata": {
    "tags": []
   },
   "outputs": [],
   "source": []
  },
  {
   "cell_type": "code",
   "execution_count": 269,
   "id": "928ecc42-b35a-4d5c-a518-3c3528f5fbf8",
   "metadata": {
    "tags": []
   },
   "outputs": [],
   "source": [
    "df1 = pd.DataFrame(cl)"
   ]
  },
  {
   "cell_type": "code",
   "execution_count": 270,
   "id": "d4a2cccf-c0d6-41dc-80db-9dde1c85235c",
   "metadata": {
    "tags": []
   },
   "outputs": [],
   "source": [
    "df1 = df1.iloc[0:,[3,2,4]]"
   ]
  },
  {
   "cell_type": "code",
   "execution_count": 271,
   "id": "834306cf-5596-4596-a7c8-d69f7d5b7b49",
   "metadata": {
    "tags": []
   },
   "outputs": [
    {
     "data": {
      "text/html": [
       "<div>\n",
       "<style scoped>\n",
       "    .dataframe tbody tr th:only-of-type {\n",
       "        vertical-align: middle;\n",
       "    }\n",
       "\n",
       "    .dataframe tbody tr th {\n",
       "        vertical-align: top;\n",
       "    }\n",
       "\n",
       "    .dataframe thead th {\n",
       "        text-align: right;\n",
       "    }\n",
       "</style>\n",
       "<table border=\"1\" class=\"dataframe\">\n",
       "  <thead>\n",
       "    <tr style=\"text-align: right;\">\n",
       "      <th></th>\n",
       "      <th>Age</th>\n",
       "      <th>Gender</th>\n",
       "      <th>Store</th>\n",
       "    </tr>\n",
       "  </thead>\n",
       "  <tbody>\n",
       "    <tr>\n",
       "      <th>0</th>\n",
       "      <td>21</td>\n",
       "      <td>Male</td>\n",
       "      <td>[Nap x Warin, NAP's Coffee &amp; Roasters]</td>\n",
       "    </tr>\n",
       "    <tr>\n",
       "      <th>1</th>\n",
       "      <td>21</td>\n",
       "      <td>Male</td>\n",
       "      <td>[Nap x Warin]</td>\n",
       "    </tr>\n",
       "  </tbody>\n",
       "</table>\n",
       "</div>"
      ],
      "text/plain": [
       "   Age Gender                                   Store\n",
       "0   21   Male  [Nap x Warin, NAP's Coffee & Roasters]\n",
       "1   21   Male                           [Nap x Warin]"
      ]
     },
     "execution_count": 271,
     "metadata": {},
     "output_type": "execute_result"
    }
   ],
   "source": [
    "df1"
   ]
  },
  {
   "cell_type": "code",
   "execution_count": 273,
   "id": "b5363f54-1480-4fd0-a98d-f96fbc2cb982",
   "metadata": {
    "tags": []
   },
   "outputs": [
    {
     "name": "stderr",
     "output_type": "stream",
     "text": [
      "C:\\Users\\Note\\AppData\\Local\\Temp\\ipykernel_31400\\2746747452.py:1: FutureWarning: The frame.append method is deprecated and will be removed from pandas in a future version. Use pandas.concat instead.\n",
      "  df.append(df1,ignore_index=True)\n"
     ]
    },
    {
     "data": {
      "text/html": [
       "<div>\n",
       "<style scoped>\n",
       "    .dataframe tbody tr th:only-of-type {\n",
       "        vertical-align: middle;\n",
       "    }\n",
       "\n",
       "    .dataframe tbody tr th {\n",
       "        vertical-align: top;\n",
       "    }\n",
       "\n",
       "    .dataframe thead th {\n",
       "        text-align: right;\n",
       "    }\n",
       "</style>\n",
       "<table border=\"1\" class=\"dataframe\">\n",
       "  <thead>\n",
       "    <tr style=\"text-align: right;\">\n",
       "      <th></th>\n",
       "      <th>Age</th>\n",
       "      <th>Gender</th>\n",
       "      <th>Store</th>\n",
       "    </tr>\n",
       "  </thead>\n",
       "  <tbody>\n",
       "    <tr>\n",
       "      <th>0</th>\n",
       "      <td>20</td>\n",
       "      <td>male</td>\n",
       "      <td>NAP's Coffee &amp; Roasters, sangob, Nap x Warin, ...</td>\n",
       "    </tr>\n",
       "    <tr>\n",
       "      <th>1</th>\n",
       "      <td>16</td>\n",
       "      <td>female</td>\n",
       "      <td>BalconyKiss Coffee, ROOF COFFEE, LAVA  JAVA Co...</td>\n",
       "    </tr>\n",
       "    <tr>\n",
       "      <th>2</th>\n",
       "      <td>22</td>\n",
       "      <td>male</td>\n",
       "      <td>NAP's Coffee &amp; Roasters, SongSarn, Yuanjai Cafe</td>\n",
       "    </tr>\n",
       "    <tr>\n",
       "      <th>3</th>\n",
       "      <td>21</td>\n",
       "      <td>female</td>\n",
       "      <td>NAP's Coffee &amp; Roasters, Nap x Warin, Snoopcat...</td>\n",
       "    </tr>\n",
       "    <tr>\n",
       "      <th>4</th>\n",
       "      <td>19</td>\n",
       "      <td>male</td>\n",
       "      <td>NAP's Coffee &amp; Roasters, sangob, Nap x Warin, ...</td>\n",
       "    </tr>\n",
       "    <tr>\n",
       "      <th>...</th>\n",
       "      <td>...</td>\n",
       "      <td>...</td>\n",
       "      <td>...</td>\n",
       "    </tr>\n",
       "    <tr>\n",
       "      <th>79</th>\n",
       "      <td>28</td>\n",
       "      <td>female</td>\n",
       "      <td>Nap x Warin, ROOF COFFEE, 11.11 Gallery and Co...</td>\n",
       "    </tr>\n",
       "    <tr>\n",
       "      <th>80</th>\n",
       "      <td>42</td>\n",
       "      <td>female</td>\n",
       "      <td>Nap x Warin, ROOF COFFEE, 11.11 Gallery and Co...</td>\n",
       "    </tr>\n",
       "    <tr>\n",
       "      <th>81</th>\n",
       "      <td>25</td>\n",
       "      <td>female</td>\n",
       "      <td>NAP's Coffee &amp; Roasters, sangob, SongSarn, Nap...</td>\n",
       "    </tr>\n",
       "    <tr>\n",
       "      <th>82</th>\n",
       "      <td>21</td>\n",
       "      <td>Male</td>\n",
       "      <td>[Nap x Warin, NAP's Coffee &amp; Roasters]</td>\n",
       "    </tr>\n",
       "    <tr>\n",
       "      <th>83</th>\n",
       "      <td>21</td>\n",
       "      <td>Male</td>\n",
       "      <td>[Nap x Warin]</td>\n",
       "    </tr>\n",
       "  </tbody>\n",
       "</table>\n",
       "<p>84 rows × 3 columns</p>\n",
       "</div>"
      ],
      "text/plain": [
       "    Age  Gender                                              Store\n",
       "0    20    male  NAP's Coffee & Roasters, sangob, Nap x Warin, ...\n",
       "1    16  female  BalconyKiss Coffee, ROOF COFFEE, LAVA  JAVA Co...\n",
       "2    22    male    NAP's Coffee & Roasters, SongSarn, Yuanjai Cafe\n",
       "3    21  female  NAP's Coffee & Roasters, Nap x Warin, Snoopcat...\n",
       "4    19    male  NAP's Coffee & Roasters, sangob, Nap x Warin, ...\n",
       "..  ...     ...                                                ...\n",
       "79   28  female  Nap x Warin, ROOF COFFEE, 11.11 Gallery and Co...\n",
       "80   42  female  Nap x Warin, ROOF COFFEE, 11.11 Gallery and Co...\n",
       "81   25  female  NAP's Coffee & Roasters, sangob, SongSarn, Nap...\n",
       "82   21    Male             [Nap x Warin, NAP's Coffee & Roasters]\n",
       "83   21    Male                                      [Nap x Warin]\n",
       "\n",
       "[84 rows x 3 columns]"
      ]
     },
     "execution_count": 273,
     "metadata": {},
     "output_type": "execute_result"
    }
   ],
   "source": [
    "df.append(df1,ignore_index=True)"
   ]
  },
  {
   "cell_type": "markdown",
   "id": "7763ee00-4fe6-44bb-93cf-b4601df9737e",
   "metadata": {
    "tags": []
   },
   "source": [
    "# raw data"
   ]
  },
  {
   "cell_type": "code",
   "execution_count": 280,
   "id": "70154ba5-68f3-4ff9-927c-bd9a57b17ee1",
   "metadata": {
    "tags": []
   },
   "outputs": [
    {
     "data": {
      "text/html": [
       "<div>\n",
       "<style scoped>\n",
       "    .dataframe tbody tr th:only-of-type {\n",
       "        vertical-align: middle;\n",
       "    }\n",
       "\n",
       "    .dataframe tbody tr th {\n",
       "        vertical-align: top;\n",
       "    }\n",
       "\n",
       "    .dataframe thead th {\n",
       "        text-align: right;\n",
       "    }\n",
       "</style>\n",
       "<table border=\"1\" class=\"dataframe\">\n",
       "  <thead>\n",
       "    <tr style=\"text-align: right;\">\n",
       "      <th></th>\n",
       "      <th>Age</th>\n",
       "      <th>Gender</th>\n",
       "      <th>Store</th>\n",
       "    </tr>\n",
       "  </thead>\n",
       "  <tbody>\n",
       "    <tr>\n",
       "      <th>0</th>\n",
       "      <td>20</td>\n",
       "      <td>male</td>\n",
       "      <td>[NAP's Coffee &amp; Roasters,  sangob,  Nap x Wari...</td>\n",
       "    </tr>\n",
       "    <tr>\n",
       "      <th>1</th>\n",
       "      <td>16</td>\n",
       "      <td>female</td>\n",
       "      <td>[BalconyKiss Coffee,  ROOF COFFEE,  LAVA  JAVA...</td>\n",
       "    </tr>\n",
       "    <tr>\n",
       "      <th>2</th>\n",
       "      <td>22</td>\n",
       "      <td>male</td>\n",
       "      <td>[NAP's Coffee &amp; Roasters,  SongSarn,  Yuanjai ...</td>\n",
       "    </tr>\n",
       "    <tr>\n",
       "      <th>3</th>\n",
       "      <td>21</td>\n",
       "      <td>female</td>\n",
       "      <td>[NAP's Coffee &amp; Roasters,  Nap x Warin,  Snoop...</td>\n",
       "    </tr>\n",
       "    <tr>\n",
       "      <th>4</th>\n",
       "      <td>19</td>\n",
       "      <td>male</td>\n",
       "      <td>[NAP's Coffee &amp; Roasters,  sangob,  Nap x Wari...</td>\n",
       "    </tr>\n",
       "    <tr>\n",
       "      <th>...</th>\n",
       "      <td>...</td>\n",
       "      <td>...</td>\n",
       "      <td>...</td>\n",
       "    </tr>\n",
       "    <tr>\n",
       "      <th>77</th>\n",
       "      <td>19</td>\n",
       "      <td>female</td>\n",
       "      <td>[NAP's Coffee &amp; Roasters,  Nap x Warin]</td>\n",
       "    </tr>\n",
       "    <tr>\n",
       "      <th>78</th>\n",
       "      <td>21</td>\n",
       "      <td>female</td>\n",
       "      <td>[NAP's Coffee &amp; Roasters,  sangob,  SongSarn, ...</td>\n",
       "    </tr>\n",
       "    <tr>\n",
       "      <th>79</th>\n",
       "      <td>28</td>\n",
       "      <td>female</td>\n",
       "      <td>[Nap x Warin,  ROOF COFFEE,  11.11 Gallery and...</td>\n",
       "    </tr>\n",
       "    <tr>\n",
       "      <th>80</th>\n",
       "      <td>42</td>\n",
       "      <td>female</td>\n",
       "      <td>[Nap x Warin,  ROOF COFFEE,  11.11 Gallery and...</td>\n",
       "    </tr>\n",
       "    <tr>\n",
       "      <th>81</th>\n",
       "      <td>25</td>\n",
       "      <td>female</td>\n",
       "      <td>[NAP's Coffee &amp; Roasters,  sangob,  SongSarn, ...</td>\n",
       "    </tr>\n",
       "  </tbody>\n",
       "</table>\n",
       "<p>82 rows × 3 columns</p>\n",
       "</div>"
      ],
      "text/plain": [
       "    Age  Gender                                              Store\n",
       "0    20    male  [NAP's Coffee & Roasters,  sangob,  Nap x Wari...\n",
       "1    16  female  [BalconyKiss Coffee,  ROOF COFFEE,  LAVA  JAVA...\n",
       "2    22    male  [NAP's Coffee & Roasters,  SongSarn,  Yuanjai ...\n",
       "3    21  female  [NAP's Coffee & Roasters,  Nap x Warin,  Snoop...\n",
       "4    19    male  [NAP's Coffee & Roasters,  sangob,  Nap x Wari...\n",
       "..  ...     ...                                                ...\n",
       "77   19  female            [NAP's Coffee & Roasters,  Nap x Warin]\n",
       "78   21  female  [NAP's Coffee & Roasters,  sangob,  SongSarn, ...\n",
       "79   28  female  [Nap x Warin,  ROOF COFFEE,  11.11 Gallery and...\n",
       "80   42  female  [Nap x Warin,  ROOF COFFEE,  11.11 Gallery and...\n",
       "81   25  female  [NAP's Coffee & Roasters,  sangob,  SongSarn, ...\n",
       "\n",
       "[82 rows x 3 columns]"
      ]
     },
     "execution_count": 280,
     "metadata": {},
     "output_type": "execute_result"
    }
   ],
   "source": [
    "df"
   ]
  },
  {
   "cell_type": "markdown",
   "id": "d6c21263-c558-4436-b29e-c77e7994c2df",
   "metadata": {},
   "source": [
    "# setup data to list"
   ]
  },
  {
   "cell_type": "code",
   "execution_count": 316,
   "id": "0d4fda9f-73f7-4a66-88c3-c8336ae7f163",
   "metadata": {
    "tags": []
   },
   "outputs": [
    {
     "name": "stdout",
     "output_type": "stream",
     "text": [
      "Requirement already satisfied: mlxtend in c:\\users\\note\\miniconda3\\lib\\site-packages (0.21.0)\n",
      "Requirement already satisfied: numpy>=1.16.2 in c:\\users\\note\\miniconda3\\lib\\site-packages (from mlxtend) (1.24.2)\n",
      "Requirement already satisfied: setuptools in c:\\users\\note\\miniconda3\\lib\\site-packages (from mlxtend) (65.6.3)\n",
      "Requirement already satisfied: pandas>=0.24.2 in c:\\users\\note\\miniconda3\\lib\\site-packages (from mlxtend) (1.5.3)\n",
      "Requirement already satisfied: joblib>=0.13.2 in c:\\users\\note\\miniconda3\\lib\\site-packages (from mlxtend) (1.2.0)\n",
      "Requirement already satisfied: scikit-learn>=1.0.2 in c:\\users\\note\\miniconda3\\lib\\site-packages (from mlxtend) (1.2.1)\n",
      "Requirement already satisfied: matplotlib>=3.0.0 in c:\\users\\note\\miniconda3\\lib\\site-packages (from mlxtend) (3.6.3)\n",
      "Requirement already satisfied: scipy>=1.2.1 in c:\\users\\note\\miniconda3\\lib\\site-packages (from mlxtend) (1.10.0)\n",
      "Requirement already satisfied: packaging>=20.0 in c:\\users\\note\\miniconda3\\lib\\site-packages (from matplotlib>=3.0.0->mlxtend) (23.0)\n",
      "Requirement already satisfied: contourpy>=1.0.1 in c:\\users\\note\\miniconda3\\lib\\site-packages (from matplotlib>=3.0.0->mlxtend) (1.0.7)\n",
      "Requirement already satisfied: pillow>=6.2.0 in c:\\users\\note\\miniconda3\\lib\\site-packages (from matplotlib>=3.0.0->mlxtend) (9.4.0)\n",
      "Requirement already satisfied: kiwisolver>=1.0.1 in c:\\users\\note\\miniconda3\\lib\\site-packages (from matplotlib>=3.0.0->mlxtend) (1.4.4)\n",
      "Requirement already satisfied: python-dateutil>=2.7 in c:\\users\\note\\miniconda3\\lib\\site-packages (from matplotlib>=3.0.0->mlxtend) (2.8.2)\n",
      "Requirement already satisfied: cycler>=0.10 in c:\\users\\note\\miniconda3\\lib\\site-packages (from matplotlib>=3.0.0->mlxtend) (0.11.0)\n",
      "Requirement already satisfied: fonttools>=4.22.0 in c:\\users\\note\\miniconda3\\lib\\site-packages (from matplotlib>=3.0.0->mlxtend) (4.38.0)\n",
      "Requirement already satisfied: pyparsing>=2.2.1 in c:\\users\\note\\miniconda3\\lib\\site-packages (from matplotlib>=3.0.0->mlxtend) (3.0.9)\n",
      "Requirement already satisfied: pytz>=2020.1 in c:\\users\\note\\miniconda3\\lib\\site-packages (from pandas>=0.24.2->mlxtend) (2022.7.1)\n",
      "Requirement already satisfied: threadpoolctl>=2.0.0 in c:\\users\\note\\miniconda3\\lib\\site-packages (from scikit-learn>=1.0.2->mlxtend) (3.1.0)\n",
      "Requirement already satisfied: six>=1.5 in c:\\users\\note\\miniconda3\\lib\\site-packages (from python-dateutil>=2.7->matplotlib>=3.0.0->mlxtend) (1.16.0)\n",
      "Note: you may need to restart the kernel to use updated packages.\n"
     ]
    }
   ],
   "source": [
    "pip install mlxtend"
   ]
  },
  {
   "cell_type": "code",
   "execution_count": 324,
   "id": "bdb30e59-3337-4490-a676-1dd20367c6bb",
   "metadata": {
    "tags": []
   },
   "outputs": [],
   "source": [
    "from mlxtend.preprocessing import TransactionEncoder\n",
    "from mlxtend.frequent_patterns import apriori\n",
    "from mlxtend.frequent_patterns import association_rules\n",
    "import pickle"
   ]
  },
  {
   "cell_type": "code",
   "execution_count": 303,
   "id": "a602e9d0-3287-4bbb-886f-4c8da736def0",
   "metadata": {
    "tags": []
   },
   "outputs": [],
   "source": [
    "from pprint import pprint"
   ]
  },
  {
   "cell_type": "code",
   "execution_count": 381,
   "id": "81da56a8-2f3c-48eb-abff-e9b4e82df1f1",
   "metadata": {
    "tags": []
   },
   "outputs": [
    {
     "data": {
      "text/html": [
       "<div>\n",
       "<style scoped>\n",
       "    .dataframe tbody tr th:only-of-type {\n",
       "        vertical-align: middle;\n",
       "    }\n",
       "\n",
       "    .dataframe tbody tr th {\n",
       "        vertical-align: top;\n",
       "    }\n",
       "\n",
       "    .dataframe thead th {\n",
       "        text-align: right;\n",
       "    }\n",
       "</style>\n",
       "<table border=\"1\" class=\"dataframe\">\n",
       "  <thead>\n",
       "    <tr style=\"text-align: right;\">\n",
       "      <th></th>\n",
       "      <th>Age</th>\n",
       "      <th>Gender</th>\n",
       "      <th>Store</th>\n",
       "    </tr>\n",
       "  </thead>\n",
       "  <tbody>\n",
       "    <tr>\n",
       "      <th>0</th>\n",
       "      <td>20</td>\n",
       "      <td>male</td>\n",
       "      <td>NAP's Coffee &amp; Roasters, sangob, Nap x Warin, ...</td>\n",
       "    </tr>\n",
       "    <tr>\n",
       "      <th>1</th>\n",
       "      <td>16</td>\n",
       "      <td>female</td>\n",
       "      <td>BalconyKiss Coffee, ROOF COFFEE, LAVA  JAVA Co...</td>\n",
       "    </tr>\n",
       "    <tr>\n",
       "      <th>2</th>\n",
       "      <td>22</td>\n",
       "      <td>male</td>\n",
       "      <td>NAP's Coffee &amp; Roasters, SongSarn, Yuanjai Cafe</td>\n",
       "    </tr>\n",
       "    <tr>\n",
       "      <th>3</th>\n",
       "      <td>21</td>\n",
       "      <td>female</td>\n",
       "      <td>NAP's Coffee &amp; Roasters, Nap x Warin, Snoopcat...</td>\n",
       "    </tr>\n",
       "    <tr>\n",
       "      <th>4</th>\n",
       "      <td>19</td>\n",
       "      <td>male</td>\n",
       "      <td>NAP's Coffee &amp; Roasters, sangob, Nap x Warin, ...</td>\n",
       "    </tr>\n",
       "    <tr>\n",
       "      <th>...</th>\n",
       "      <td>...</td>\n",
       "      <td>...</td>\n",
       "      <td>...</td>\n",
       "    </tr>\n",
       "    <tr>\n",
       "      <th>77</th>\n",
       "      <td>19</td>\n",
       "      <td>female</td>\n",
       "      <td>NAP's Coffee &amp; Roasters, Nap x Warin</td>\n",
       "    </tr>\n",
       "    <tr>\n",
       "      <th>78</th>\n",
       "      <td>21</td>\n",
       "      <td>female</td>\n",
       "      <td>NAP's Coffee &amp; Roasters, sangob, SongSarn, LIF...</td>\n",
       "    </tr>\n",
       "    <tr>\n",
       "      <th>79</th>\n",
       "      <td>28</td>\n",
       "      <td>female</td>\n",
       "      <td>Nap x Warin, ROOF COFFEE, 11.11 Gallery and Co...</td>\n",
       "    </tr>\n",
       "    <tr>\n",
       "      <th>80</th>\n",
       "      <td>42</td>\n",
       "      <td>female</td>\n",
       "      <td>Nap x Warin, ROOF COFFEE, 11.11 Gallery and Co...</td>\n",
       "    </tr>\n",
       "    <tr>\n",
       "      <th>81</th>\n",
       "      <td>25</td>\n",
       "      <td>female</td>\n",
       "      <td>NAP's Coffee &amp; Roasters, sangob, SongSarn, Nap...</td>\n",
       "    </tr>\n",
       "  </tbody>\n",
       "</table>\n",
       "<p>82 rows × 3 columns</p>\n",
       "</div>"
      ],
      "text/plain": [
       "    Age  Gender                                              Store\n",
       "0    20    male  NAP's Coffee & Roasters, sangob, Nap x Warin, ...\n",
       "1    16  female  BalconyKiss Coffee, ROOF COFFEE, LAVA  JAVA Co...\n",
       "2    22    male    NAP's Coffee & Roasters, SongSarn, Yuanjai Cafe\n",
       "3    21  female  NAP's Coffee & Roasters, Nap x Warin, Snoopcat...\n",
       "4    19    male  NAP's Coffee & Roasters, sangob, Nap x Warin, ...\n",
       "..  ...     ...                                                ...\n",
       "77   19  female               NAP's Coffee & Roasters, Nap x Warin\n",
       "78   21  female  NAP's Coffee & Roasters, sangob, SongSarn, LIF...\n",
       "79   28  female  Nap x Warin, ROOF COFFEE, 11.11 Gallery and Co...\n",
       "80   42  female  Nap x Warin, ROOF COFFEE, 11.11 Gallery and Co...\n",
       "81   25  female  NAP's Coffee & Roasters, sangob, SongSarn, Nap...\n",
       "\n",
       "[82 rows x 3 columns]"
      ]
     },
     "execution_count": 381,
     "metadata": {},
     "output_type": "execute_result"
    }
   ],
   "source": [
    "data = pd.read_csv(\"data/Form.csv\")\n",
    "df = data.iloc[0:,[1,2,3]]\n",
    "df"
   ]
  },
  {
   "cell_type": "code",
   "execution_count": 334,
   "id": "b32886cb-276e-4db1-bc9c-36bd53e46b32",
   "metadata": {
    "tags": []
   },
   "outputs": [],
   "source": [
    "df['Store'] = df['Store'].apply(lambda x: x.split(\",\"))"
   ]
  },
  {
   "cell_type": "code",
   "execution_count": 335,
   "id": "db82a5c2-2b00-4f83-bd64-24a956fab021",
   "metadata": {
    "tags": []
   },
   "outputs": [],
   "source": [
    "# ADD USER TO RETRAIN\n",
    "pipeline = [\n",
    "    {\n",
    "        '$lookup': {\n",
    "            'from': \"Transactions\",\n",
    "            'localField': \"uid\",\n",
    "            'foreignField': \"uid\",\n",
    "            'as': \"combined_documents\"\n",
    "        }\n",
    "    },\n",
    "    {\n",
    "        '$match': { 'combined_documents.event': \"view\" }\n",
    "    },\n",
    "    {\n",
    "        '$unwind': \"$combined_documents\"\n",
    "    },\n",
    "    {\n",
    "        '$match': { 'combined_documents.event': \"view\" }\n",
    "    },\n",
    "    {\n",
    "        '$group': {\n",
    "            '_id': \"$_id\",\n",
    "            'name': { '$first': \"$name\" },\n",
    "            'Gender': { '$first': \"$gender\" },\n",
    "            'Age': { '$first': \"$age\" },\n",
    "            'Store': {\n",
    "                '$addToSet': \"$combined_documents.Content\"\n",
    "            }\n",
    "        }\n",
    "    }\n",
    "]\n"
   ]
  },
  {
   "cell_type": "code",
   "execution_count": 336,
   "id": "5b6aa723-e6aa-4cb0-b486-fcbdbbbc20a1",
   "metadata": {
    "tags": []
   },
   "outputs": [],
   "source": [
    "cl = list(collections.aggregate(pipeline))"
   ]
  },
  {
   "cell_type": "code",
   "execution_count": 337,
   "id": "edeb5903-baa4-4baa-bfdc-32da0a7bb89b",
   "metadata": {
    "tags": []
   },
   "outputs": [],
   "source": [
    "df1 = pd.DataFrame(cl)\n",
    "df1 = df1.iloc[0:,[3,2,4]]\n",
    "df1[\"Gender\"] = df1[\"Gender\"].apply(lambda x:x.lower()) "
   ]
  },
  {
   "cell_type": "code",
   "execution_count": 338,
   "id": "4b4c3881-38e2-4794-b8c6-7c44639ded07",
   "metadata": {
    "tags": []
   },
   "outputs": [
    {
     "name": "stderr",
     "output_type": "stream",
     "text": [
      "C:\\Users\\Note\\AppData\\Local\\Temp\\ipykernel_31400\\1881829475.py:2: FutureWarning: The frame.append method is deprecated and will be removed from pandas in a future version. Use pandas.concat instead.\n",
      "  df = df.append(df1,ignore_index=True)\n"
     ]
    }
   ],
   "source": [
    "## DATA\n",
    "df = df.append(df1,ignore_index=True)"
   ]
  },
  {
   "cell_type": "code",
   "execution_count": 339,
   "id": "b2efcb2e-e5f1-4abb-acc0-a625c7eda25c",
   "metadata": {
    "tags": []
   },
   "outputs": [
    {
     "data": {
      "text/html": [
       "<div>\n",
       "<style scoped>\n",
       "    .dataframe tbody tr th:only-of-type {\n",
       "        vertical-align: middle;\n",
       "    }\n",
       "\n",
       "    .dataframe tbody tr th {\n",
       "        vertical-align: top;\n",
       "    }\n",
       "\n",
       "    .dataframe thead th {\n",
       "        text-align: right;\n",
       "    }\n",
       "</style>\n",
       "<table border=\"1\" class=\"dataframe\">\n",
       "  <thead>\n",
       "    <tr style=\"text-align: right;\">\n",
       "      <th></th>\n",
       "      <th>Age</th>\n",
       "      <th>Gender</th>\n",
       "      <th>Store</th>\n",
       "    </tr>\n",
       "  </thead>\n",
       "  <tbody>\n",
       "    <tr>\n",
       "      <th>0</th>\n",
       "      <td>20</td>\n",
       "      <td>male</td>\n",
       "      <td>[NAP's Coffee &amp; Roasters,  sangob,  Nap x Wari...</td>\n",
       "    </tr>\n",
       "    <tr>\n",
       "      <th>1</th>\n",
       "      <td>16</td>\n",
       "      <td>female</td>\n",
       "      <td>[BalconyKiss Coffee,  ROOF COFFEE,  LAVA  JAVA...</td>\n",
       "    </tr>\n",
       "    <tr>\n",
       "      <th>2</th>\n",
       "      <td>22</td>\n",
       "      <td>male</td>\n",
       "      <td>[NAP's Coffee &amp; Roasters,  SongSarn,  Yuanjai ...</td>\n",
       "    </tr>\n",
       "    <tr>\n",
       "      <th>3</th>\n",
       "      <td>21</td>\n",
       "      <td>female</td>\n",
       "      <td>[NAP's Coffee &amp; Roasters,  Nap x Warin,  Snoop...</td>\n",
       "    </tr>\n",
       "    <tr>\n",
       "      <th>4</th>\n",
       "      <td>19</td>\n",
       "      <td>male</td>\n",
       "      <td>[NAP's Coffee &amp; Roasters,  sangob,  Nap x Wari...</td>\n",
       "    </tr>\n",
       "    <tr>\n",
       "      <th>...</th>\n",
       "      <td>...</td>\n",
       "      <td>...</td>\n",
       "      <td>...</td>\n",
       "    </tr>\n",
       "    <tr>\n",
       "      <th>79</th>\n",
       "      <td>28</td>\n",
       "      <td>female</td>\n",
       "      <td>[Nap x Warin,  ROOF COFFEE,  11.11 Gallery and...</td>\n",
       "    </tr>\n",
       "    <tr>\n",
       "      <th>80</th>\n",
       "      <td>42</td>\n",
       "      <td>female</td>\n",
       "      <td>[Nap x Warin,  ROOF COFFEE,  11.11 Gallery and...</td>\n",
       "    </tr>\n",
       "    <tr>\n",
       "      <th>81</th>\n",
       "      <td>25</td>\n",
       "      <td>female</td>\n",
       "      <td>[NAP's Coffee &amp; Roasters,  sangob,  SongSarn, ...</td>\n",
       "    </tr>\n",
       "    <tr>\n",
       "      <th>82</th>\n",
       "      <td>21</td>\n",
       "      <td>male</td>\n",
       "      <td>[NAP's Coffee &amp; Roasters, Nap x Warin]</td>\n",
       "    </tr>\n",
       "    <tr>\n",
       "      <th>83</th>\n",
       "      <td>21</td>\n",
       "      <td>male</td>\n",
       "      <td>[Nap x Warin]</td>\n",
       "    </tr>\n",
       "  </tbody>\n",
       "</table>\n",
       "<p>84 rows × 3 columns</p>\n",
       "</div>"
      ],
      "text/plain": [
       "    Age  Gender                                              Store\n",
       "0    20    male  [NAP's Coffee & Roasters,  sangob,  Nap x Wari...\n",
       "1    16  female  [BalconyKiss Coffee,  ROOF COFFEE,  LAVA  JAVA...\n",
       "2    22    male  [NAP's Coffee & Roasters,  SongSarn,  Yuanjai ...\n",
       "3    21  female  [NAP's Coffee & Roasters,  Nap x Warin,  Snoop...\n",
       "4    19    male  [NAP's Coffee & Roasters,  sangob,  Nap x Wari...\n",
       "..  ...     ...                                                ...\n",
       "79   28  female  [Nap x Warin,  ROOF COFFEE,  11.11 Gallery and...\n",
       "80   42  female  [Nap x Warin,  ROOF COFFEE,  11.11 Gallery and...\n",
       "81   25  female  [NAP's Coffee & Roasters,  sangob,  SongSarn, ...\n",
       "82   21    male             [NAP's Coffee & Roasters, Nap x Warin]\n",
       "83   21    male                                      [Nap x Warin]\n",
       "\n",
       "[84 rows x 3 columns]"
      ]
     },
     "execution_count": 339,
     "metadata": {},
     "output_type": "execute_result"
    }
   ],
   "source": [
    "df"
   ]
  },
  {
   "cell_type": "code",
   "execution_count": 343,
   "id": "e0f2d075-154d-4a9b-94a0-2d259dceee68",
   "metadata": {
    "tags": []
   },
   "outputs": [],
   "source": [
    "# setup age\n",
    "df['age_group'] = df['Age'].apply(lambda x: '10-20' if x <= 20 else '21-40' if x <= 40 else '41-60' if x <= 60 else '60+')"
   ]
  },
  {
   "cell_type": "code",
   "execution_count": 344,
   "id": "402467c4-0741-44ba-a99f-928ccb07e976",
   "metadata": {
    "tags": []
   },
   "outputs": [
    {
     "data": {
      "text/html": [
       "<div>\n",
       "<style scoped>\n",
       "    .dataframe tbody tr th:only-of-type {\n",
       "        vertical-align: middle;\n",
       "    }\n",
       "\n",
       "    .dataframe tbody tr th {\n",
       "        vertical-align: top;\n",
       "    }\n",
       "\n",
       "    .dataframe thead th {\n",
       "        text-align: right;\n",
       "    }\n",
       "</style>\n",
       "<table border=\"1\" class=\"dataframe\">\n",
       "  <thead>\n",
       "    <tr style=\"text-align: right;\">\n",
       "      <th></th>\n",
       "      <th>Age</th>\n",
       "      <th>Gender</th>\n",
       "      <th>Store</th>\n",
       "      <th>age_group</th>\n",
       "    </tr>\n",
       "  </thead>\n",
       "  <tbody>\n",
       "    <tr>\n",
       "      <th>0</th>\n",
       "      <td>20</td>\n",
       "      <td>male</td>\n",
       "      <td>[NAP's Coffee &amp; Roasters,  sangob,  Nap x Wari...</td>\n",
       "      <td>10-20</td>\n",
       "    </tr>\n",
       "    <tr>\n",
       "      <th>1</th>\n",
       "      <td>16</td>\n",
       "      <td>female</td>\n",
       "      <td>[BalconyKiss Coffee,  ROOF COFFEE,  LAVA  JAVA...</td>\n",
       "      <td>10-20</td>\n",
       "    </tr>\n",
       "    <tr>\n",
       "      <th>2</th>\n",
       "      <td>22</td>\n",
       "      <td>male</td>\n",
       "      <td>[NAP's Coffee &amp; Roasters,  SongSarn,  Yuanjai ...</td>\n",
       "      <td>21-40</td>\n",
       "    </tr>\n",
       "    <tr>\n",
       "      <th>3</th>\n",
       "      <td>21</td>\n",
       "      <td>female</td>\n",
       "      <td>[NAP's Coffee &amp; Roasters,  Nap x Warin,  Snoop...</td>\n",
       "      <td>21-40</td>\n",
       "    </tr>\n",
       "    <tr>\n",
       "      <th>4</th>\n",
       "      <td>19</td>\n",
       "      <td>male</td>\n",
       "      <td>[NAP's Coffee &amp; Roasters,  sangob,  Nap x Wari...</td>\n",
       "      <td>10-20</td>\n",
       "    </tr>\n",
       "    <tr>\n",
       "      <th>...</th>\n",
       "      <td>...</td>\n",
       "      <td>...</td>\n",
       "      <td>...</td>\n",
       "      <td>...</td>\n",
       "    </tr>\n",
       "    <tr>\n",
       "      <th>79</th>\n",
       "      <td>28</td>\n",
       "      <td>female</td>\n",
       "      <td>[Nap x Warin,  ROOF COFFEE,  11.11 Gallery and...</td>\n",
       "      <td>21-40</td>\n",
       "    </tr>\n",
       "    <tr>\n",
       "      <th>80</th>\n",
       "      <td>42</td>\n",
       "      <td>female</td>\n",
       "      <td>[Nap x Warin,  ROOF COFFEE,  11.11 Gallery and...</td>\n",
       "      <td>41-60</td>\n",
       "    </tr>\n",
       "    <tr>\n",
       "      <th>81</th>\n",
       "      <td>25</td>\n",
       "      <td>female</td>\n",
       "      <td>[NAP's Coffee &amp; Roasters,  sangob,  SongSarn, ...</td>\n",
       "      <td>21-40</td>\n",
       "    </tr>\n",
       "    <tr>\n",
       "      <th>82</th>\n",
       "      <td>21</td>\n",
       "      <td>male</td>\n",
       "      <td>[NAP's Coffee &amp; Roasters, Nap x Warin]</td>\n",
       "      <td>21-40</td>\n",
       "    </tr>\n",
       "    <tr>\n",
       "      <th>83</th>\n",
       "      <td>21</td>\n",
       "      <td>male</td>\n",
       "      <td>[Nap x Warin]</td>\n",
       "      <td>21-40</td>\n",
       "    </tr>\n",
       "  </tbody>\n",
       "</table>\n",
       "<p>84 rows × 4 columns</p>\n",
       "</div>"
      ],
      "text/plain": [
       "    Age  Gender                                              Store age_group\n",
       "0    20    male  [NAP's Coffee & Roasters,  sangob,  Nap x Wari...     10-20\n",
       "1    16  female  [BalconyKiss Coffee,  ROOF COFFEE,  LAVA  JAVA...     10-20\n",
       "2    22    male  [NAP's Coffee & Roasters,  SongSarn,  Yuanjai ...     21-40\n",
       "3    21  female  [NAP's Coffee & Roasters,  Nap x Warin,  Snoop...     21-40\n",
       "4    19    male  [NAP's Coffee & Roasters,  sangob,  Nap x Wari...     10-20\n",
       "..  ...     ...                                                ...       ...\n",
       "79   28  female  [Nap x Warin,  ROOF COFFEE,  11.11 Gallery and...     21-40\n",
       "80   42  female  [Nap x Warin,  ROOF COFFEE,  11.11 Gallery and...     41-60\n",
       "81   25  female  [NAP's Coffee & Roasters,  sangob,  SongSarn, ...     21-40\n",
       "82   21    male             [NAP's Coffee & Roasters, Nap x Warin]     21-40\n",
       "83   21    male                                      [Nap x Warin]     21-40\n",
       "\n",
       "[84 rows x 4 columns]"
      ]
     },
     "execution_count": 344,
     "metadata": {},
     "output_type": "execute_result"
    }
   ],
   "source": [
    "df"
   ]
  },
  {
   "cell_type": "code",
   "execution_count": null,
   "id": "73815361-60ba-449c-a065-ee17adc95031",
   "metadata": {
    "tags": []
   },
   "outputs": [],
   "source": []
  },
  {
   "cell_type": "code",
   "execution_count": 351,
   "id": "4386dd09-faf2-4bff-954c-a38fde519c3e",
   "metadata": {
    "tags": []
   },
   "outputs": [],
   "source": [
    "age_groups = df.groupby('age_group')\n",
    "age_gender_rules = {}\n",
    "\n",
    "# Run the Apriori algorithm and generate association rules for each age group and gender\n",
    "for age_group, data in age_groups:\n",
    "    for gender, gender_data in data.groupby('Gender'):\n",
    "        # Use the TransactionEncoder to convert the data into a suitable format for the Apriori algorithm\n",
    "        te = TransactionEncoder()\n",
    "        te_ary = te.fit(gender_data['Store']).transform(gender_data['Store'])\n",
    "        df_temp = pd.DataFrame(te_ary, columns=te.columns_)\n",
    "\n",
    "        # Run the Apriori algorithm to find frequent item sets\n",
    "        frequent_itemsets = apriori(df_temp, min_support=0.05, use_colnames=True)\n",
    "\n",
    "        # Generate association rules from the frequent item sets\n",
    "        rules = association_rules(frequent_itemsets, metric=\"confidence\", min_threshold=1)\n",
    "        # Store the association rules for each age group and gender in the dictionary\n",
    "        age_gender_rules[(age_group, gender)] = rules\n",
    "\n",
    "with open('age_gender_rules1.pkl', 'wb') as f:\n",
    "    pickle.dump(age_gender_rules, f)\n"
   ]
  },
  {
   "cell_type": "code",
   "execution_count": 367,
   "id": "07d1856e-616d-4822-b38b-fcda8a1d0449",
   "metadata": {
    "tags": []
   },
   "outputs": [],
   "source": [
    "with open('age_gender_rules1.pkl', 'rb') as f:\n",
    "    age_gender_rules = pickle.load(f)\n",
    "\n",
    "\n"
   ]
  },
  {
   "cell_type": "code",
   "execution_count": 461,
   "id": "ce4aa643-5a05-48cd-a74e-6325d1d2ea03",
   "metadata": {
    "tags": []
   },
   "outputs": [],
   "source": [
    "def recommend(user_age_group, user_gender):\n",
    "    recommended_items = set()\n",
    "    rules = age_gender_rules[(user_age_group, user_gender)].sort_values(by='confidence', ascending=False)\n",
    "    for index, row in rules.head(15).iterrows():\n",
    "        recommended_items.add(row[\"consequents\"])\n",
    "    recommended_items = list(recommended_items)\n",
    "    recommended_items = [list(item) for item in recommended_items]\n",
    "    return recommended_items\n"
   ]
  },
  {
   "cell_type": "code",
   "execution_count": 462,
   "id": "b762115b-5ba9-420c-9145-6fd9bd916759",
   "metadata": {
    "tags": []
   },
   "outputs": [
    {
     "name": "stdin",
     "output_type": "stream",
     "text": [
      "Gender:  male\n",
      "Age:  20\n"
     ]
    }
   ],
   "source": [
    "gender = input('Gender: ')\n",
    "z = lambda x: '10-20' if x <= 20 else '21-40' if x <= 40 else '41-60' if x <= 60 else '60+'\n",
    "age = z(int(input('Age: ')))\n",
    "x = recommend(age, gender)\n",
    "\n"
   ]
  },
  {
   "cell_type": "code",
   "execution_count": 463,
   "id": "c1e75d1e-db33-4e35-af06-1e49bebe8415",
   "metadata": {
    "tags": []
   },
   "outputs": [],
   "source": [
    "re = set()\n",
    "for a in x:\n",
    "    da = set([ss.strip() for ss in a])\n",
    "    re.update(da)\n",
    "    "
   ]
  },
  {
   "cell_type": "code",
   "execution_count": 464,
   "id": "970bd31d-da96-4f91-89fc-5640a9c42aac",
   "metadata": {
    "tags": []
   },
   "outputs": [
    {
     "name": "stdout",
     "output_type": "stream",
     "text": [
      "{'Attaroast', 'BalconyKiss Coffee', 'GODFATHER COFFEE', 'sangob', 'Rogue Roasters', 'Saereesook', 'BaanHuakham Cafe & Farmstay', 'Yuanjai Cafe', 'Tree Cafe Rim Moon', 'Bossa cafe', 'Nap x Warin'}\n"
     ]
    }
   ],
   "source": [
    "print(re)"
   ]
  },
  {
   "cell_type": "code",
   "execution_count": 465,
   "id": "2a39a9cc-d515-4888-8ee1-ab3c58e6f88d",
   "metadata": {
    "tags": []
   },
   "outputs": [
    {
     "data": {
      "text/plain": [
       "['Attaroast',\n",
       " 'BalconyKiss Coffee',\n",
       " 'GODFATHER COFFEE',\n",
       " 'sangob',\n",
       " 'Rogue Roasters',\n",
       " 'Saereesook',\n",
       " 'BaanHuakham Cafe & Farmstay',\n",
       " 'Yuanjai Cafe',\n",
       " 'Tree Cafe Rim Moon',\n",
       " 'Bossa cafe',\n",
       " 'Nap x Warin']"
      ]
     },
     "execution_count": 465,
     "metadata": {},
     "output_type": "execute_result"
    }
   ],
   "source": [
    "list(re)"
   ]
  },
  {
   "cell_type": "code",
   "execution_count": null,
   "id": "36176976-88bb-447b-a1b6-0fbeca88bcae",
   "metadata": {},
   "outputs": [],
   "source": []
  }
 ],
 "metadata": {
  "kernelspec": {
   "display_name": "Python 3 (ipykernel)",
   "language": "python",
   "name": "python3"
  },
  "language_info": {
   "codemirror_mode": {
    "name": "ipython",
    "version": 3
   },
   "file_extension": ".py",
   "mimetype": "text/x-python",
   "name": "python",
   "nbconvert_exporter": "python",
   "pygments_lexer": "ipython3",
   "version": "3.9.12"
  }
 },
 "nbformat": 4,
 "nbformat_minor": 5
}
