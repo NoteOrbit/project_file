{
 "cells": [
  {
   "cell_type": "code",
   "execution_count": 40,
   "id": "1bfcced9-e65a-41e4-b26f-59320e2b4b15",
   "metadata": {},
   "outputs": [],
   "source": [
    "import numpy as np \n",
    "import pandas as pd\n",
    "import matplotlib.pyplot as plt\n",
    "import seaborn as sns\n",
    "from pprint import pprint\n",
    "import torch\n",
    "import torch.nn as nn\n",
    "import torch.optim as optim"
   ]
  },
  {
   "cell_type": "markdown",
   "id": "60958a7f-c9dc-4408-9350-6c46a1dc350b",
   "metadata": {},
   "source": [
    "## Test Precision @K"
   ]
  },
  {
   "cell_type": "code",
   "execution_count": 38,
   "id": "8f8fea04-b1bf-45fe-94d4-7a0a1ecd31d4",
   "metadata": {},
   "outputs": [],
   "source": [
    "data = {\n",
    "    'user':np.random.randint(10),\n",
    "    'item':np.arange(10)\n",
    "}"
   ]
  },
  {
   "cell_type": "code",
   "execution_count": 39,
   "id": "2418e941-2292-4038-8ad0-86b02dfb6e92",
   "metadata": {},
   "outputs": [
    {
     "name": "stdout",
     "output_type": "stream",
     "text": [
      "{'item': array([0, 1, 2, 3, 4, 5, 6, 7, 8, 9]), 'user': 7}\n"
     ]
    }
   ],
   "source": [
    "pprint(data)"
   ]
  },
  {
   "cell_type": "code",
   "execution_count": 123,
   "id": "da3b76f9-e1f3-4784-9fe3-898fb940b76e",
   "metadata": {},
   "outputs": [],
   "source": [
    "df = pd.read_csv('data/real.csv',index_col=0)"
   ]
  },
  {
   "cell_type": "code",
   "execution_count": 124,
   "id": "c39a17e3-8833-4811-a1b2-18614b418be1",
   "metadata": {},
   "outputs": [
    {
     "data": {
      "text/html": [
       "<div>\n",
       "<style scoped>\n",
       "    .dataframe tbody tr th:only-of-type {\n",
       "        vertical-align: middle;\n",
       "    }\n",
       "\n",
       "    .dataframe tbody tr th {\n",
       "        vertical-align: top;\n",
       "    }\n",
       "\n",
       "    .dataframe thead th {\n",
       "        text-align: right;\n",
       "    }\n",
       "</style>\n",
       "<table border=\"1\" class=\"dataframe\">\n",
       "  <thead>\n",
       "    <tr style=\"text-align: right;\">\n",
       "      <th></th>\n",
       "      <th>Store</th>\n",
       "      <th>User</th>\n",
       "      <th>Rating</th>\n",
       "    </tr>\n",
       "  </thead>\n",
       "  <tbody>\n",
       "    <tr>\n",
       "      <th>0</th>\n",
       "      <td>NAP's Coffee &amp; Roasters</td>\n",
       "      <td>Nuunet D.</td>\n",
       "      <td>5</td>\n",
       "    </tr>\n",
       "    <tr>\n",
       "      <th>1</th>\n",
       "      <td>NAP's Coffee &amp; Roasters</td>\n",
       "      <td>vanai sun</td>\n",
       "      <td>3</td>\n",
       "    </tr>\n",
       "    <tr>\n",
       "      <th>2</th>\n",
       "      <td>NAP's Coffee &amp; Roasters</td>\n",
       "      <td>Phonanan Seeon</td>\n",
       "      <td>5</td>\n",
       "    </tr>\n",
       "    <tr>\n",
       "      <th>3</th>\n",
       "      <td>NAP's Coffee &amp; Roasters</td>\n",
       "      <td>Chavakorn Laophetsakunchai</td>\n",
       "      <td>5</td>\n",
       "    </tr>\n",
       "    <tr>\n",
       "      <th>4</th>\n",
       "      <td>NAP's Coffee &amp; Roasters</td>\n",
       "      <td>community man</td>\n",
       "      <td>5</td>\n",
       "    </tr>\n",
       "    <tr>\n",
       "      <th>...</th>\n",
       "      <td>...</td>\n",
       "      <td>...</td>\n",
       "      <td>...</td>\n",
       "    </tr>\n",
       "    <tr>\n",
       "      <th>3348</th>\n",
       "      <td>Yuanjai Cafe</td>\n",
       "      <td>อาจณรงค์ กลมเกลียว</td>\n",
       "      <td>5</td>\n",
       "    </tr>\n",
       "    <tr>\n",
       "      <th>3349</th>\n",
       "      <td>Yuanjai Cafe</td>\n",
       "      <td>은하</td>\n",
       "      <td>5</td>\n",
       "    </tr>\n",
       "    <tr>\n",
       "      <th>3350</th>\n",
       "      <td>Yuanjai Cafe</td>\n",
       "      <td>ประจงจิต จันทป</td>\n",
       "      <td>5</td>\n",
       "    </tr>\n",
       "    <tr>\n",
       "      <th>3351</th>\n",
       "      <td>Yuanjai Cafe</td>\n",
       "      <td>Chatthawat Warnjai</td>\n",
       "      <td>5</td>\n",
       "    </tr>\n",
       "    <tr>\n",
       "      <th>3352</th>\n",
       "      <td>Yuanjai Cafe</td>\n",
       "      <td>TAE.SIRIWAT</td>\n",
       "      <td>5</td>\n",
       "    </tr>\n",
       "  </tbody>\n",
       "</table>\n",
       "<p>3291 rows × 3 columns</p>\n",
       "</div>"
      ],
      "text/plain": [
       "                        Store                        User  Rating\n",
       "0     NAP's Coffee & Roasters                   Nuunet D.       5\n",
       "1     NAP's Coffee & Roasters                   vanai sun       3\n",
       "2     NAP's Coffee & Roasters              Phonanan Seeon       5\n",
       "3     NAP's Coffee & Roasters  Chavakorn Laophetsakunchai       5\n",
       "4     NAP's Coffee & Roasters               community man       5\n",
       "...                       ...                         ...     ...\n",
       "3348             Yuanjai Cafe          อาจณรงค์ กลมเกลียว       5\n",
       "3349             Yuanjai Cafe                          은하       5\n",
       "3350             Yuanjai Cafe              ประจงจิต จันทป       5\n",
       "3351             Yuanjai Cafe          Chatthawat Warnjai       5\n",
       "3352             Yuanjai Cafe                 TAE.SIRIWAT       5\n",
       "\n",
       "[3291 rows x 3 columns]"
      ]
     },
     "execution_count": 124,
     "metadata": {},
     "output_type": "execute_result"
    }
   ],
   "source": [
    "df = df.iloc[0:,[0,1,2]]\n",
    "df"
   ]
  },
  {
   "cell_type": "code",
   "execution_count": 125,
   "id": "8c0798b0-c6b1-4a42-8e25-472acaedc336",
   "metadata": {},
   "outputs": [],
   "source": [
    "# data = df.pivot(index='User',columns='Store',values='Rating').fillna(0)\n",
    "# data = data.to_numpy()\n",
    "# data"
   ]
  },
  {
   "cell_type": "code",
   "execution_count": 127,
   "id": "cd5a0868-bea2-45f5-8557-60f1e0a538dd",
   "metadata": {},
   "outputs": [],
   "source": [
    "num_users, num_items = df.User.nunique(), df.Store.nunique()\n"
   ]
  },
  {
   "cell_type": "code",
   "execution_count": 132,
   "id": "d35a7d79-507e-452e-be38-75e821b7627d",
   "metadata": {},
   "outputs": [
    {
     "data": {
      "text/html": [
       "<div>\n",
       "<style scoped>\n",
       "    .dataframe tbody tr th:only-of-type {\n",
       "        vertical-align: middle;\n",
       "    }\n",
       "\n",
       "    .dataframe tbody tr th {\n",
       "        vertical-align: top;\n",
       "    }\n",
       "\n",
       "    .dataframe thead th {\n",
       "        text-align: right;\n",
       "    }\n",
       "</style>\n",
       "<table border=\"1\" class=\"dataframe\">\n",
       "  <thead>\n",
       "    <tr style=\"text-align: right;\">\n",
       "      <th></th>\n",
       "      <th>Store</th>\n",
       "      <th>User</th>\n",
       "      <th>Rating</th>\n",
       "    </tr>\n",
       "  </thead>\n",
       "  <tbody>\n",
       "    <tr>\n",
       "      <th>0</th>\n",
       "      <td>NAP's Coffee &amp; Roasters</td>\n",
       "      <td>Nuunet D.</td>\n",
       "      <td>5</td>\n",
       "    </tr>\n",
       "    <tr>\n",
       "      <th>1</th>\n",
       "      <td>NAP's Coffee &amp; Roasters</td>\n",
       "      <td>vanai sun</td>\n",
       "      <td>3</td>\n",
       "    </tr>\n",
       "    <tr>\n",
       "      <th>3</th>\n",
       "      <td>NAP's Coffee &amp; Roasters</td>\n",
       "      <td>Chavakorn Laophetsakunchai</td>\n",
       "      <td>5</td>\n",
       "    </tr>\n",
       "  </tbody>\n",
       "</table>\n",
       "</div>"
      ],
      "text/plain": [
       "                     Store                        User  Rating\n",
       "0  NAP's Coffee & Roasters                   Nuunet D.       5\n",
       "1  NAP's Coffee & Roasters                   vanai sun       3\n",
       "3  NAP's Coffee & Roasters  Chavakorn Laophetsakunchai       5"
      ]
     },
     "execution_count": 132,
     "metadata": {},
     "output_type": "execute_result"
    }
   ],
   "source": [
    "df.iloc[[0, 1, 3]]"
   ]
  },
  {
   "cell_type": "code",
   "execution_count": 128,
   "id": "3bb75548-ae5b-406c-9ae0-4bbf5736cddb",
   "metadata": {},
   "outputs": [],
   "source": [
    "train_df = df.copy().sample(frac=0.6, random_state=1)\n",
    "test_df = df.copy().drop(train_df.index)"
   ]
  },
  {
   "cell_type": "code",
   "execution_count": 130,
   "id": "9ec04e90-f408-4a3c-ba2e-206d82fc067e",
   "metadata": {},
   "outputs": [
    {
     "ename": "ValueError",
     "evalue": "could not determine the shape of object type 'DataFrame'",
     "output_type": "error",
     "traceback": [
      "\u001b[0;31m---------------------------------------------------------------------------\u001b[0m",
      "\u001b[0;31mValueError\u001b[0m                                Traceback (most recent call last)",
      "Cell \u001b[0;32mIn[130], line 36\u001b[0m\n\u001b[1;32m     33\u001b[0m \u001b[38;5;28;01mfor\u001b[39;00m i \u001b[38;5;129;01min\u001b[39;00m \u001b[38;5;28mrange\u001b[39m(\u001b[38;5;241m0\u001b[39m, num_users, batch_size):\n\u001b[1;32m     34\u001b[0m     batch_indices \u001b[38;5;241m=\u001b[39m indices[i:i\u001b[38;5;241m+\u001b[39mbatch_size]\n\u001b[0;32m---> 36\u001b[0m     batch_user_ids \u001b[38;5;241m=\u001b[39m \u001b[43mtorch\u001b[49m\u001b[38;5;241;43m.\u001b[39;49m\u001b[43mLongTensor\u001b[49m\u001b[43m(\u001b[49m\u001b[43mdf\u001b[49m\u001b[38;5;241;43m.\u001b[39;49m\u001b[43miloc\u001b[49m\u001b[43m[\u001b[49m\u001b[43mbatch_indices\u001b[49m\u001b[43m]\u001b[49m\u001b[43m)\u001b[49m\u001b[38;5;241m.\u001b[39munsqueeze(\u001b[38;5;241m1\u001b[39m)\n\u001b[1;32m     37\u001b[0m     batch_item_ids \u001b[38;5;241m=\u001b[39m torch\u001b[38;5;241m.\u001b[39mLongTensor(df\u001b[38;5;241m.\u001b[39miloc[batch_indices])\u001b[38;5;241m.\u001b[39munsqueeze(\u001b[38;5;241m1\u001b[39m)\n\u001b[1;32m     39\u001b[0m     \u001b[38;5;28mprint\u001b[39m(batch_user_ids)\n",
      "\u001b[0;31mValueError\u001b[0m: could not determine the shape of object type 'DataFrame'"
     ]
    }
   ],
   "source": [
    "# Define model parameters\n",
    "num_users, num_items = df.User.nunique(), df.Store.nunique()\n",
    "embedding_size = 15\n",
    "learning_rate = 0.001\n",
    "num_epochs = 10\n",
    "batch_size = 33\n",
    "relu = nn.ReLU()\n",
    "\n",
    "# Define model architecture\n",
    "class MatrixFactorization(nn.Module):\n",
    "    def __init__(self, num_users, num_items, embedding_size):\n",
    "        super(MatrixFactorization, self).__init__()\n",
    "        self.user_embedding = nn.Embedding(num_users, embedding_size)\n",
    "        self.item_embedding = nn.Embedding(num_items, embedding_size)\n",
    "\n",
    "    def forward(self, user_ids, item_ids):\n",
    "        user_embeds = self.user_embedding(user_ids)\n",
    "        item_embeds = self.item_embedding(item_ids)\n",
    "        dot_product = torch.sum(user_embeds * item_embeds, dim=1)\n",
    "        output = relu(dot_product)\n",
    "        return output\n",
    "\n",
    "model = MatrixFactorization(num_users, num_items, embedding_size)\n",
    "criterion = nn.MSELoss()\n",
    "optimizer = optim.Adam(model.parameters(), lr=learning_rate)\n",
    "\n",
    "# Train model\n",
    "indices = np.arange(df.shape[0])\n",
    "\n",
    "for epoch in range(num_epochs):\n",
    "    np.random.shuffle(indices)\n",
    "\n",
    "    for i in range(0, num_users, batch_size):\n",
    "        batch_indices = indices[i:i+batch_size]\n",
    " \n",
    "        batch_user_ids = torch.LongTensor(df.iloc[batch_indices]).unsqueeze(1)\n",
    "        batch_item_ids = torch.LongTensor(df.iloc[batch_indices]).unsqueeze(1)\n",
    "        \n",
    "        print(batch_user_ids)\n",
    "        \n",
    "        break\n",
    "\n",
    "        inputs = (batch_user_ids, batch_item_ids)\n",
    "        labels = torch.FloatTensor(batch_data.flatten())\n",
    "\n",
    "        optimizer.zero_grad()\n",
    "        outputs = model(*inputs)\n",
    "        \n",
    "        print(batch_user_ids)\n",
    "        \n",
    "        print(outputs.shape, labels.shape)\n",
    "        loss = criterion(outputs, labels)\n",
    "        loss.backward()\n",
    "        optimizer.step()\n",
    "\n",
    "# Make recommendations for a given user\n",
    "user_id = 1\n",
    "user_ratings = data[user_id, :]\n",
    "\n",
    "# Find items the user has not rated yet\n",
    "unrated_items = np.where(user_ratings == 0)[0]\n",
    "\n",
    "# Predict ratings for unrated items\n",
    "item_ids = torch.LongTensor(unrated_items).unsqueeze(1)\n",
    "user_ids = torch.LongTensor(np.full((len(unrated_items),), user_id)).unsqueeze(1)\n",
    "\n",
    "ratings = model(user_ids, item_ids)\n",
    "predicted_ratings = ratings.detach().numpy()\n",
    "recommended_items = unrated_items[np.argsort(-predicted_ratings)]"
   ]
  },
  {
   "cell_type": "code",
   "execution_count": null,
   "id": "9339c1c7-2718-42d6-b31d-4c95088270aa",
   "metadata": {},
   "outputs": [],
   "source": []
  }
 ],
 "metadata": {
  "kernelspec": {
   "display_name": "Python 3 (ipykernel)",
   "language": "python",
   "name": "python3"
  },
  "language_info": {
   "codemirror_mode": {
    "name": "ipython",
    "version": 3
   },
   "file_extension": ".py",
   "mimetype": "text/x-python",
   "name": "python",
   "nbconvert_exporter": "python",
   "pygments_lexer": "ipython3",
   "version": "3.10.0"
  }
 },
 "nbformat": 4,
 "nbformat_minor": 5
}
