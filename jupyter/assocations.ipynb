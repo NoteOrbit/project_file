{
 "cells": [
  {
   "cell_type": "code",
   "execution_count": null,
   "id": "4b30348c-be35-4b29-bedf-6ce2e82ed9e0",
   "metadata": {
    "tags": []
   },
   "outputs": [],
   "source": []
  },
  {
   "cell_type": "code",
   "execution_count": 1,
   "id": "888f90b2-2755-416d-9cc9-1e33744e3c52",
   "metadata": {
    "tags": []
   },
   "outputs": [],
   "source": [
    "from mlxtend.preprocessing import TransactionEncoder\n",
    "from mlxtend.frequent_patterns import apriori\n",
    "from mlxtend.frequent_patterns import association_rules\n",
    "import pickle\n",
    "import pandas as pd\n",
    "import matplotlib.pyplot as plt\n",
    "import seaborn as sns"
   ]
  },
  {
   "cell_type": "code",
   "execution_count": 2,
   "id": "89856931-bfd4-4c1b-a053-d6d702a65b90",
   "metadata": {
    "tags": []
   },
   "outputs": [],
   "source": [
    "df = pd.read_csv(\"data/Form.csv\")\n"
   ]
  },
  {
   "cell_type": "markdown",
   "id": "7b42c6da-24ab-4779-8f3d-339fb3ca5677",
   "metadata": {},
   "source": [
    "# Prepare data"
   ]
  },
  {
   "cell_type": "code",
   "execution_count": 3,
   "id": "85bef7a6-01c5-40d9-8388-69f5e69c6900",
   "metadata": {
    "tags": []
   },
   "outputs": [],
   "source": [
    "# remove data not use\n",
    "df = df.iloc[0:,[1,2,3]]"
   ]
  },
  {
   "cell_type": "code",
   "execution_count": 4,
   "id": "484fc0e6-8117-4412-979f-eee1e564fb2b",
   "metadata": {
    "tags": []
   },
   "outputs": [
    {
     "data": {
      "text/html": [
       "<div>\n",
       "<style scoped>\n",
       "    .dataframe tbody tr th:only-of-type {\n",
       "        vertical-align: middle;\n",
       "    }\n",
       "\n",
       "    .dataframe tbody tr th {\n",
       "        vertical-align: top;\n",
       "    }\n",
       "\n",
       "    .dataframe thead th {\n",
       "        text-align: right;\n",
       "    }\n",
       "</style>\n",
       "<table border=\"1\" class=\"dataframe\">\n",
       "  <thead>\n",
       "    <tr style=\"text-align: right;\">\n",
       "      <th></th>\n",
       "      <th>Age</th>\n",
       "      <th>Gender</th>\n",
       "      <th>Store</th>\n",
       "    </tr>\n",
       "  </thead>\n",
       "  <tbody>\n",
       "    <tr>\n",
       "      <th>0</th>\n",
       "      <td>20</td>\n",
       "      <td>male</td>\n",
       "      <td>NAP's Coffee &amp; Roasters, sangob, Nap x Warin, ...</td>\n",
       "    </tr>\n",
       "    <tr>\n",
       "      <th>1</th>\n",
       "      <td>16</td>\n",
       "      <td>female</td>\n",
       "      <td>BalconyKiss Coffee, ROOF COFFEE, LAVA  JAVA Co...</td>\n",
       "    </tr>\n",
       "    <tr>\n",
       "      <th>2</th>\n",
       "      <td>22</td>\n",
       "      <td>male</td>\n",
       "      <td>NAP's Coffee &amp; Roasters, SongSarn, Yuanjai Cafe</td>\n",
       "    </tr>\n",
       "    <tr>\n",
       "      <th>3</th>\n",
       "      <td>21</td>\n",
       "      <td>female</td>\n",
       "      <td>NAP's Coffee &amp; Roasters, Nap x Warin, Snoopcat...</td>\n",
       "    </tr>\n",
       "    <tr>\n",
       "      <th>4</th>\n",
       "      <td>19</td>\n",
       "      <td>male</td>\n",
       "      <td>NAP's Coffee &amp; Roasters, sangob, Nap x Warin, ...</td>\n",
       "    </tr>\n",
       "  </tbody>\n",
       "</table>\n",
       "</div>"
      ],
      "text/plain": [
       "   Age  Gender                                              Store\n",
       "0   20    male  NAP's Coffee & Roasters, sangob, Nap x Warin, ...\n",
       "1   16  female  BalconyKiss Coffee, ROOF COFFEE, LAVA  JAVA Co...\n",
       "2   22    male    NAP's Coffee & Roasters, SongSarn, Yuanjai Cafe\n",
       "3   21  female  NAP's Coffee & Roasters, Nap x Warin, Snoopcat...\n",
       "4   19    male  NAP's Coffee & Roasters, sangob, Nap x Warin, ..."
      ]
     },
     "execution_count": 4,
     "metadata": {},
     "output_type": "execute_result"
    }
   ],
   "source": [
    "# we use age , gender and trasactions Store\n",
    "df.head(5)"
   ]
  },
  {
   "cell_type": "code",
   "execution_count": 5,
   "id": "401c9f97-5a73-44ce-a813-018235749d3b",
   "metadata": {
    "tags": []
   },
   "outputs": [],
   "source": [
    "# create functions to split transactions data store\n",
    "\n",
    "def set_transactions(x):\n",
    "    x = x.split(\",\")\n",
    "    return x"
   ]
  },
  {
   "cell_type": "code",
   "execution_count": 6,
   "id": "146aa0e6-fcee-4164-84ab-4b80d64e198a",
   "metadata": {
    "tags": []
   },
   "outputs": [],
   "source": [
    "# map values with age gender and store to format functions asscoations rule\n",
    "df[\"Store\"]  = df[\"Store\"].apply(lambda x:set_transactions(x))\n"
   ]
  },
  {
   "cell_type": "code",
   "execution_count": 7,
   "id": "a598db31-8512-44d1-9b78-6c2ba412f5fa",
   "metadata": {
    "tags": []
   },
   "outputs": [],
   "source": [
    "# map Age \n",
    "df['Age'] = df[\"Age\"].map(lambda x:'10-20' if x <= 20 else '21-40' if x <= 40 else '41-60' if x <= 60 else '60+')"
   ]
  },
  {
   "cell_type": "code",
   "execution_count": 8,
   "id": "a3c6c9cc-9df4-4d2a-98c0-b44a7c1a21e8",
   "metadata": {
    "tags": []
   },
   "outputs": [],
   "source": [
    "# map age gender to create Rule\n",
    "age_groups = df.groupby('Age')\n",
    "age_gender_rules = {}"
   ]
  },
  {
   "cell_type": "code",
   "execution_count": 9,
   "id": "c9ef8602-e6f6-489b-b23d-1de39e1268ed",
   "metadata": {
    "tags": []
   },
   "outputs": [
    {
     "ename": "ValueError",
     "evalue": "The input DataFrame `df` containing the frequent itemsets is empty.",
     "output_type": "error",
     "traceback": [
      "\u001b[0;31m---------------------------------------------------------------------------\u001b[0m",
      "\u001b[0;31mValueError\u001b[0m                                Traceback (most recent call last)",
      "Cell \u001b[0;32mIn[9], line 13\u001b[0m\n\u001b[1;32m     10\u001b[0m frequent_itemsets \u001b[38;5;241m=\u001b[39m apriori(df_temp, min_support\u001b[38;5;241m=\u001b[39m\u001b[38;5;241m0.50\u001b[39m, use_colnames\u001b[38;5;241m=\u001b[39m\u001b[38;5;28;01mTrue\u001b[39;00m)\n\u001b[1;32m     12\u001b[0m \u001b[38;5;66;03m# Generate association rules from the frequent item sets\u001b[39;00m\n\u001b[0;32m---> 13\u001b[0m rules \u001b[38;5;241m=\u001b[39m \u001b[43massociation_rules\u001b[49m\u001b[43m(\u001b[49m\u001b[43mfrequent_itemsets\u001b[49m\u001b[43m,\u001b[49m\u001b[43m \u001b[49m\u001b[43mmetric\u001b[49m\u001b[38;5;241;43m=\u001b[39;49m\u001b[38;5;124;43m\"\u001b[39;49m\u001b[38;5;124;43mconfidence\u001b[39;49m\u001b[38;5;124;43m\"\u001b[39;49m\u001b[43m,\u001b[49m\u001b[43m \u001b[49m\u001b[43mmin_threshold\u001b[49m\u001b[38;5;241;43m=\u001b[39;49m\u001b[38;5;241;43m0.5\u001b[39;49m\u001b[43m)\u001b[49m\n\u001b[1;32m     14\u001b[0m \u001b[38;5;66;03m# Store the association rules for each age group and gender in the dictionary\u001b[39;00m\n\u001b[1;32m     15\u001b[0m age_gender_rules[(age_group, gender)] \u001b[38;5;241m=\u001b[39m rules\n",
      "File \u001b[0;32m~/.pyenv/versions/3.10.0/envs/project_file/lib/python3.10/site-packages/mlxtend/frequent_patterns/association_rules.py:80\u001b[0m, in \u001b[0;36massociation_rules\u001b[0;34m(df, metric, min_threshold, support_only)\u001b[0m\n\u001b[1;32m     18\u001b[0m \u001b[38;5;250m\u001b[39m\u001b[38;5;124;03m\"\"\"Generates a DataFrame of association rules including the\u001b[39;00m\n\u001b[1;32m     19\u001b[0m \u001b[38;5;124;03mmetrics 'score', 'confidence', and 'lift'\u001b[39;00m\n\u001b[1;32m     20\u001b[0m \n\u001b[0;32m   (...)\u001b[0m\n\u001b[1;32m     77\u001b[0m \n\u001b[1;32m     78\u001b[0m \u001b[38;5;124;03m\"\"\"\u001b[39;00m\n\u001b[1;32m     79\u001b[0m \u001b[38;5;28;01mif\u001b[39;00m \u001b[38;5;129;01mnot\u001b[39;00m df\u001b[38;5;241m.\u001b[39mshape[\u001b[38;5;241m0\u001b[39m]:\n\u001b[0;32m---> 80\u001b[0m     \u001b[38;5;28;01mraise\u001b[39;00m \u001b[38;5;167;01mValueError\u001b[39;00m(\n\u001b[1;32m     81\u001b[0m         \u001b[38;5;124m\"\u001b[39m\u001b[38;5;124mThe input DataFrame `df` containing \u001b[39m\u001b[38;5;124m\"\u001b[39m \u001b[38;5;124m\"\u001b[39m\u001b[38;5;124mthe frequent itemsets is empty.\u001b[39m\u001b[38;5;124m\"\u001b[39m\n\u001b[1;32m     82\u001b[0m     )\n\u001b[1;32m     84\u001b[0m \u001b[38;5;66;03m# check for mandatory columns\u001b[39;00m\n\u001b[1;32m     85\u001b[0m \u001b[38;5;28;01mif\u001b[39;00m \u001b[38;5;129;01mnot\u001b[39;00m \u001b[38;5;28mall\u001b[39m(col \u001b[38;5;129;01min\u001b[39;00m df\u001b[38;5;241m.\u001b[39mcolumns \u001b[38;5;28;01mfor\u001b[39;00m col \u001b[38;5;129;01min\u001b[39;00m [\u001b[38;5;124m\"\u001b[39m\u001b[38;5;124msupport\u001b[39m\u001b[38;5;124m\"\u001b[39m, \u001b[38;5;124m\"\u001b[39m\u001b[38;5;124mitemsets\u001b[39m\u001b[38;5;124m\"\u001b[39m]):\n",
      "\u001b[0;31mValueError\u001b[0m: The input DataFrame `df` containing the frequent itemsets is empty."
     ]
    }
   ],
   "source": [
    "# For Loop each group\n",
    "for age_group, data in age_groups:\n",
    "    for gender, gender_data in data.groupby('Gender'):\n",
    "        # Use the TransactionEncoder to convert the data into a suitable format for the Apriori algorithm\n",
    "        te = TransactionEncoder()\n",
    "        te_ary = te.fit(gender_data['Store']).transform(gender_data['Store'])\n",
    "        df_temp = pd.DataFrame(te_ary, columns=te.columns_)\n",
    "\n",
    "        # Run the Apriori algorithm to find frequent item sets\n",
    "        frequent_itemsets = apriori(df_temp, min_support=0.50, use_colnames=True)\n",
    "\n",
    "        # Generate association rules from the frequent item sets\n",
    "        rules = association_rules(frequent_itemsets, metric=\"confidence\", min_threshold=0.5)\n",
    "        # Store the association rules for each age group and gender in the dictionary\n",
    "        age_gender_rules[(age_group, gender)] = rules"
   ]
  },
  {
   "cell_type": "code",
   "execution_count": 10,
   "id": "66fac0b6-e2ea-44ea-94eb-5f1e488aca34",
   "metadata": {
    "tags": []
   },
   "outputs": [
    {
     "data": {
      "text/plain": [
       "dict_keys([('10-20', 'female'), ('10-20', 'male'), ('21-40', 'female')])"
      ]
     },
     "execution_count": 10,
     "metadata": {},
     "output_type": "execute_result"
    }
   ],
   "source": [
    "age_gender_rules.keys()"
   ]
  },
  {
   "cell_type": "code",
   "execution_count": null,
   "id": "79773905-e0e1-4d63-a1c8-07431c17d09e",
   "metadata": {},
   "outputs": [],
   "source": []
  }
 ],
 "metadata": {
  "kernelspec": {
   "display_name": "Python 3 (ipykernel)",
   "language": "python",
   "name": "python3"
  },
  "language_info": {
   "codemirror_mode": {
    "name": "ipython",
    "version": 3
   },
   "file_extension": ".py",
   "mimetype": "text/x-python",
   "name": "python",
   "nbconvert_exporter": "python",
   "pygments_lexer": "ipython3",
   "version": "3.10.0"
  }
 },
 "nbformat": 4,
 "nbformat_minor": 5
}
