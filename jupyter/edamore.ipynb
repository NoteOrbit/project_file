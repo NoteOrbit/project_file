{
 "cells": [
  {
   "cell_type": "code",
   "execution_count": 5,
   "id": "b9dbd954-1d28-479e-9df9-b080b472c2ad",
   "metadata": {
    "collapsed": true,
    "jupyter": {
     "outputs_hidden": true
    },
    "tags": []
   },
   "outputs": [
    {
     "name": "stdout",
     "output_type": "stream",
     "text": [
      "Collecting surprise\n",
      "  Using cached surprise-0.1-py2.py3-none-any.whl (1.8 kB)\n",
      "Collecting scikit-surprise\n",
      "  Downloading scikit-surprise-1.1.3.tar.gz (771 kB)\n",
      "\u001b[2K     \u001b[38;2;114;156;31m━━━━━━━━━━━━━━━━━━━━━━━━━━━━━━━━━━━━━\u001b[0m \u001b[32m772.0/772.0 kB\u001b[0m \u001b[31m969.1 kB/s\u001b[0m eta \u001b[36m0:00:00\u001b[0m1m971.8 kB/s\u001b[0m eta \u001b[36m0:00:01\u001b[0m\n",
      "\u001b[?25h  Preparing metadata (setup.py) ... \u001b[?25ldone\n",
      "\u001b[?25hRequirement already satisfied: joblib>=1.0.0 in /Users/noteorbit/.pyenv/versions/3.10.0/envs/project_file/lib/python3.10/site-packages (from scikit-surprise->surprise) (1.2.0)\n",
      "Requirement already satisfied: numpy>=1.17.3 in /Users/noteorbit/.pyenv/versions/3.10.0/envs/project_file/lib/python3.10/site-packages (from scikit-surprise->surprise) (1.24.1)\n",
      "Requirement already satisfied: scipy>=1.3.2 in /Users/noteorbit/.pyenv/versions/3.10.0/envs/project_file/lib/python3.10/site-packages (from scikit-surprise->surprise) (1.10.0)\n",
      "Building wheels for collected packages: scikit-surprise\n",
      "  Building wheel for scikit-surprise (setup.py) ... \u001b[?25ldone\n",
      "\u001b[?25h  Created wheel for scikit-surprise: filename=scikit_surprise-1.1.3-cp310-cp310-macosx_12_0_arm64.whl size=1125168 sha256=0556a3c1278d6e647f20146a6852298d758af2d05fbe0615a0001d4c733cd146\n",
      "  Stored in directory: /Users/noteorbit/Library/Caches/pip/wheels/df/e4/a6/7ad72453dd693f420b0c639bedeec34641738d11b55d8d9b84\n",
      "Successfully built scikit-surprise\n",
      "Installing collected packages: scikit-surprise, surprise\n",
      "Successfully installed scikit-surprise-1.1.3 surprise-0.1\n",
      "\n",
      "\u001b[1m[\u001b[0m\u001b[34;49mnotice\u001b[0m\u001b[1;39;49m]\u001b[0m\u001b[39;49m A new release of pip available: \u001b[0m\u001b[31;49m22.3.1\u001b[0m\u001b[39;49m -> \u001b[0m\u001b[32;49m23.0.1\u001b[0m\n",
      "\u001b[1m[\u001b[0m\u001b[34;49mnotice\u001b[0m\u001b[1;39;49m]\u001b[0m\u001b[39;49m To update, run: \u001b[0m\u001b[32;49mpip install --upgrade pip\u001b[0m\n"
     ]
    }
   ],
   "source": [
    "!pip install surprise"
   ]
  },
  {
   "cell_type": "code",
   "execution_count": 6,
   "id": "14f179ea-d8f4-4488-91a6-50b36a04437e",
   "metadata": {
    "collapsed": true,
    "jupyter": {
     "outputs_hidden": true
    },
    "tags": []
   },
   "outputs": [
    {
     "name": "stdout",
     "output_type": "stream",
     "text": [
      "Requirement already satisfied: pip in /Users/noteorbit/.pyenv/versions/3.10.0/envs/project_file/lib/python3.10/site-packages (22.3.1)\n",
      "Collecting pip\n",
      "  Downloading pip-23.0.1-py3-none-any.whl (2.1 MB)\n",
      "\u001b[2K     \u001b[38;2;114;156;31m━━━━━━━━━━━━━━━━━━━━━━━━━━━━━━━━━━━━━━━━\u001b[0m \u001b[32m2.1/2.1 MB\u001b[0m \u001b[31m2.2 MB/s\u001b[0m eta \u001b[36m0:00:00\u001b[0m MB/s\u001b[0m eta \u001b[36m0:00:01\u001b[0m:01\u001b[0m0m\n",
      "\u001b[?25hInstalling collected packages: pip\n",
      "  Attempting uninstall: pip\n",
      "    Found existing installation: pip 22.3.1\n",
      "    Uninstalling pip-22.3.1:\n",
      "      Successfully uninstalled pip-22.3.1\n",
      "Successfully installed pip-23.0.1\n",
      "Note: you may need to restart the kernel to use updated packages.\n"
     ]
    }
   ],
   "source": [
    "pip install --upgrade pip"
   ]
  },
  {
   "cell_type": "code",
   "execution_count": 123,
   "id": "271afda3-bf21-4df0-9df7-4c57a2e914fe",
   "metadata": {},
   "outputs": [],
   "source": [
    "import pandas as pd\n",
    "import numpy as np\n",
    "import matplotlib.pyplot as plt\n",
    "import seaborn as sns\n",
    "\n",
    "from surprise import accuracy, Dataset, SVD,Reader, NormalPredictor\n",
    "from surprise.model_selection import train_test_split, cross_validate , GridSearchCV , KFold\n"
   ]
  },
  {
   "cell_type": "code",
   "execution_count": 124,
   "id": "436f1548-a67d-47e7-80f5-23e90c50c5c9",
   "metadata": {},
   "outputs": [],
   "source": [
    "reader = Reader(rating_scale=(1, 5))"
   ]
  },
  {
   "cell_type": "code",
   "execution_count": null,
   "id": "d6fa8d2c-f6f2-4dbc-97f9-f2af21d3dd11",
   "metadata": {},
   "outputs": [],
   "source": []
  },
  {
   "cell_type": "code",
   "execution_count": 125,
   "id": "c8336dda-646a-4845-b249-8e6d43d2fce6",
   "metadata": {},
   "outputs": [],
   "source": [
    "data = pd.read_csv('data/real.csv',index_col=0)"
   ]
  },
  {
   "cell_type": "code",
   "execution_count": 126,
   "id": "3c3dc195-1a3b-48a7-b186-2a83005b4660",
   "metadata": {},
   "outputs": [
    {
     "data": {
      "text/html": [
       "<div>\n",
       "<style scoped>\n",
       "    .dataframe tbody tr th:only-of-type {\n",
       "        vertical-align: middle;\n",
       "    }\n",
       "\n",
       "    .dataframe tbody tr th {\n",
       "        vertical-align: top;\n",
       "    }\n",
       "\n",
       "    .dataframe thead th {\n",
       "        text-align: right;\n",
       "    }\n",
       "</style>\n",
       "<table border=\"1\" class=\"dataframe\">\n",
       "  <thead>\n",
       "    <tr style=\"text-align: right;\">\n",
       "      <th></th>\n",
       "      <th>Store</th>\n",
       "      <th>User</th>\n",
       "      <th>Rating</th>\n",
       "      <th>Review</th>\n",
       "      <th>Duration</th>\n",
       "    </tr>\n",
       "  </thead>\n",
       "  <tbody>\n",
       "    <tr>\n",
       "      <th>0</th>\n",
       "      <td>NAP's Coffee &amp; Roasters</td>\n",
       "      <td>Nuunet D.</td>\n",
       "      <td>5</td>\n",
       "      <td>ร้านนี้ยกให้เป็นที่หนึ่งในอุบลเลย กาแฟดีมากๆ ร...</td>\n",
       "      <td>เดือนที่แล้ว</td>\n",
       "    </tr>\n",
       "    <tr>\n",
       "      <th>1</th>\n",
       "      <td>NAP's Coffee &amp; Roasters</td>\n",
       "      <td>vanai sun</td>\n",
       "      <td>3</td>\n",
       "      <td>เป็นอีกหนึ่งร้านที่ตั้งใจจะไป วันนี้ได้มาลองชิ...</td>\n",
       "      <td>10 เดือนที่แล้ว</td>\n",
       "    </tr>\n",
       "    <tr>\n",
       "      <th>2</th>\n",
       "      <td>NAP's Coffee &amp; Roasters</td>\n",
       "      <td>Phonanan Seeon</td>\n",
       "      <td>5</td>\n",
       "      <td>10 10 10  บรรยากาศคือดี ใดๆคือพนักงานดีมาก เคร...</td>\n",
       "      <td>9 เดือนที่แล้ว</td>\n",
       "    </tr>\n",
       "    <tr>\n",
       "      <th>3</th>\n",
       "      <td>NAP's Coffee &amp; Roasters</td>\n",
       "      <td>Chavakorn Laophetsakunchai</td>\n",
       "      <td>5</td>\n",
       "      <td>ดีเลยยยย กาแฟ หอมอร่อยยย เมล็ดก้ดีๆๆ</td>\n",
       "      <td>เดือนที่แล้ว</td>\n",
       "    </tr>\n",
       "    <tr>\n",
       "      <th>4</th>\n",
       "      <td>NAP's Coffee &amp; Roasters</td>\n",
       "      <td>community man</td>\n",
       "      <td>5</td>\n",
       "      <td>กาแฟรสชาดดีมาก แต่วันนี้มีน้องๆคุยกันเสียงดังม...</td>\n",
       "      <td>ปีที่แล้ว</td>\n",
       "    </tr>\n",
       "  </tbody>\n",
       "</table>\n",
       "</div>"
      ],
      "text/plain": [
       "                     Store                        User  Rating  \\\n",
       "0  NAP's Coffee & Roasters                   Nuunet D.       5   \n",
       "1  NAP's Coffee & Roasters                   vanai sun       3   \n",
       "2  NAP's Coffee & Roasters              Phonanan Seeon       5   \n",
       "3  NAP's Coffee & Roasters  Chavakorn Laophetsakunchai       5   \n",
       "4  NAP's Coffee & Roasters               community man       5   \n",
       "\n",
       "                                              Review         Duration  \n",
       "0  ร้านนี้ยกให้เป็นที่หนึ่งในอุบลเลย กาแฟดีมากๆ ร...     เดือนที่แล้ว  \n",
       "1  เป็นอีกหนึ่งร้านที่ตั้งใจจะไป วันนี้ได้มาลองชิ...  10 เดือนที่แล้ว  \n",
       "2  10 10 10  บรรยากาศคือดี ใดๆคือพนักงานดีมาก เคร...   9 เดือนที่แล้ว  \n",
       "3               ดีเลยยยย กาแฟ หอมอร่อยยย เมล็ดก้ดีๆๆ     เดือนที่แล้ว  \n",
       "4  กาแฟรสชาดดีมาก แต่วันนี้มีน้องๆคุยกันเสียงดังม...        ปีที่แล้ว  "
      ]
     },
     "execution_count": 126,
     "metadata": {},
     "output_type": "execute_result"
    }
   ],
   "source": [
    "data = data.drop_duplicates(['Store','User'])\n",
    "data.head()"
   ]
  },
  {
   "cell_type": "code",
   "execution_count": 127,
   "id": "5dbaae5f-a5ec-491e-baa0-963f98f1964d",
   "metadata": {},
   "outputs": [],
   "source": [
    "dataset = Dataset.load_from_df(data[['Store','User','Rating']],reader)"
   ]
  },
  {
   "cell_type": "code",
   "execution_count": 128,
   "id": "2444c718-fbe5-4669-86aa-cc3c1b71767b",
   "metadata": {},
   "outputs": [],
   "source": [
    "trainset, testset = train_test_split(dataset, test_size=0.25)\n"
   ]
  },
  {
   "cell_type": "code",
   "execution_count": 129,
   "id": "73bdd676-be19-40f6-b0c9-79842f977e51",
   "metadata": {},
   "outputs": [],
   "source": [
    "\n",
    "threshold = int(.9 * len(data))                                     \n",
    "# trainset_raw_ratings = raw_ratings[:threshold]                             \n",
    "# test_raw_ratings = raw_ratings[threshold:]                                 "
   ]
  },
  {
   "cell_type": "code",
   "execution_count": 130,
   "id": "f7748d6a-2d80-43ca-a5e9-0099cdd6bc10",
   "metadata": {},
   "outputs": [
    {
     "name": "stdout",
     "output_type": "stream",
     "text": [
      "RMSE: 0.7548\n",
      "RMSE: 0.7538\n",
      "RMSE: 0.7750\n",
      "RMSE: 0.7499\n",
      "RMSE: 0.7538\n"
     ]
    }
   ],
   "source": [
    "# define a cross-validation iterator\n",
    "kf = KFold(n_splits=5)\n",
    "\n",
    "algo = SVD()\n",
    "\n",
    "for trainset, testset in kf.split(dataset):\n",
    "\n",
    "    # train and test algorithm.\n",
    "    algo.fit(trainset)\n",
    "    predictions = algo.test(testset)\n",
    "\n",
    "    # Compute and print Root Mean Squared Error\n",
    "    accuracy.rmse(predictions, verbose=True)"
   ]
  },
  {
   "cell_type": "code",
   "execution_count": 131,
   "id": "cc588376-b1a9-4175-9fac-ef978ba95ea3",
   "metadata": {},
   "outputs": [],
   "source": [
    "trainset1 = data.iloc[:threshold]\n",
    "testset1 = data.iloc[threshold:]"
   ]
  },
  {
   "cell_type": "code",
   "execution_count": 134,
   "id": "6692eda6-caa8-411b-883f-c6650b035d62",
   "metadata": {},
   "outputs": [
    {
     "data": {
      "text/plain": [
       "{'test_rmse': array([1.02611417, 0.99686365]),\n",
       " 'test_mae': array([0.76029387, 0.72064755]),\n",
       " 'fit_time': (0.0019037723541259766, 0.0008618831634521484),\n",
       " 'test_time': (0.011025190353393555, 0.002830028533935547)}"
      ]
     },
     "execution_count": 134,
     "metadata": {},
     "output_type": "execute_result"
    }
   ],
   "source": [
    "cross_validate(NormalPredictor(), dataset, cv=2)\n"
   ]
  },
  {
   "cell_type": "code",
   "execution_count": 139,
   "id": "ad63f066-803c-4dfd-8221-d4261d22fbfe",
   "metadata": {},
   "outputs": [
    {
     "name": "stdout",
     "output_type": "stream",
     "text": [
      "Evaluating RMSE, MAE of algorithm SVD on 3 split(s).\n",
      "\n",
      "                  Fold 1  Fold 2  Fold 3  Mean    Std     \n",
      "RMSE (testset)    0.7899  0.7611  0.7545  0.7685  0.0154  \n",
      "MAE (testset)     0.6161  0.6066  0.6041  0.6090  0.0052  \n",
      "Fit time          0.01    0.00    0.00    0.01    0.00    \n",
      "Test time         0.01    0.00    0.00    0.01    0.00    \n"
     ]
    },
    {
     "data": {
      "text/plain": [
       "{'test_rmse': array([0.78994485, 0.76105184, 0.75453744]),\n",
       " 'test_mae': array([0.61614913, 0.60661732, 0.6040902 ]),\n",
       " 'fit_time': (0.01025390625, 0.004521846771240234, 0.004480838775634766),\n",
       " 'test_time': (0.006806850433349609,\n",
       "  0.004692792892456055,\n",
       "  0.004812002182006836)}"
      ]
     },
     "execution_count": 139,
     "metadata": {},
     "output_type": "execute_result"
    }
   ],
   "source": [
    "svd = SVD(n_epochs=10,n_factors=15)\n",
    "cross_validate(svd, dataset, measures=['RMSE', 'MAE'], cv=3, verbose=True)"
   ]
  },
  {
   "cell_type": "code",
   "execution_count": 107,
   "id": "b3417b74-694c-41ee-bae5-1f2d873c7d45",
   "metadata": {},
   "outputs": [],
   "source": [
    "model = SVD()"
   ]
  },
  {
   "cell_type": "code",
   "execution_count": 116,
   "id": "fcd7c126-9611-4440-b82c-a6b36063f9bd",
   "metadata": {},
   "outputs": [
    {
     "data": {
      "text/plain": [
       "' \\n\\nn_epochs is number of train\\nlr_all is learning rate\\nreg_all is regularization term for all parameters\\n\\n\\n'"
      ]
     },
     "execution_count": 116,
     "metadata": {},
     "output_type": "execute_result"
    }
   ],
   "source": [
    "\"\"\" \n",
    "\n",
    "n_epochs is number of train\n",
    "lr_all is learning rate\n",
    "reg_all is regularization term for all parameters\n",
    "\n",
    "\n",
    "\"\"\""
   ]
  },
  {
   "cell_type": "code",
   "execution_count": 120,
   "id": "115afead-54a3-4af8-97fe-da0d827e5425",
   "metadata": {},
   "outputs": [],
   "source": [
    "param_grid = {\"n_epochs\": [5, 10], \"lr_all\": [0.002, 0.005, 0.001, 0.01], \"reg_all\": [0.4, 0.6, 0.7 ,0.2],\"n_factors\":[5,10,15,20,30]}\n",
    "gs = GridSearchCV(SVD, param_grid, measures=[\"rmse\", \"mae\"], cv=5)"
   ]
  },
  {
   "cell_type": "code",
   "execution_count": null,
   "id": "5a971b6c-cefe-4354-b94b-54a3a81fbeed",
   "metadata": {},
   "outputs": [],
   "source": []
  },
  {
   "cell_type": "code",
   "execution_count": 121,
   "id": "488eb597-88ff-46b3-b245-7f561bcf0e9c",
   "metadata": {},
   "outputs": [
    {
     "name": "stdout",
     "output_type": "stream",
     "text": [
      "0.7510739792757256\n",
      "{'n_epochs': 10, 'lr_all': 0.01, 'reg_all': 0.2, 'n_factors': 5}\n"
     ]
    }
   ],
   "source": [
    "gs.fit(dataset)\n",
    "# best RMSE score\n",
    "\n",
    "print(gs.best_score[\"rmse\"])\n",
    "\n",
    "# combination of parameters that gave the best RMSE score\n",
    "print(gs.best_params[\"rmse\"])"
   ]
  },
  {
   "cell_type": "code",
   "execution_count": 122,
   "id": "d58b0308-abe0-49f7-9ac9-1502c4d7a3b5",
   "metadata": {},
   "outputs": [
    {
     "data": {
      "text/html": [
       "<div>\n",
       "<style scoped>\n",
       "    .dataframe tbody tr th:only-of-type {\n",
       "        vertical-align: middle;\n",
       "    }\n",
       "\n",
       "    .dataframe tbody tr th {\n",
       "        vertical-align: top;\n",
       "    }\n",
       "\n",
       "    .dataframe thead th {\n",
       "        text-align: right;\n",
       "    }\n",
       "</style>\n",
       "<table border=\"1\" class=\"dataframe\">\n",
       "  <thead>\n",
       "    <tr style=\"text-align: right;\">\n",
       "      <th></th>\n",
       "      <th>split0_test_rmse</th>\n",
       "      <th>split1_test_rmse</th>\n",
       "      <th>split2_test_rmse</th>\n",
       "      <th>split3_test_rmse</th>\n",
       "      <th>split4_test_rmse</th>\n",
       "      <th>mean_test_rmse</th>\n",
       "      <th>std_test_rmse</th>\n",
       "      <th>rank_test_rmse</th>\n",
       "      <th>split0_test_mae</th>\n",
       "      <th>split1_test_mae</th>\n",
       "      <th>...</th>\n",
       "      <th>rank_test_mae</th>\n",
       "      <th>mean_fit_time</th>\n",
       "      <th>std_fit_time</th>\n",
       "      <th>mean_test_time</th>\n",
       "      <th>std_test_time</th>\n",
       "      <th>params</th>\n",
       "      <th>param_n_epochs</th>\n",
       "      <th>param_lr_all</th>\n",
       "      <th>param_reg_all</th>\n",
       "      <th>param_n_factors</th>\n",
       "    </tr>\n",
       "  </thead>\n",
       "  <tbody>\n",
       "    <tr>\n",
       "      <th>0</th>\n",
       "      <td>0.771657</td>\n",
       "      <td>0.783685</td>\n",
       "      <td>0.732995</td>\n",
       "      <td>0.841491</td>\n",
       "      <td>0.732773</td>\n",
       "      <td>0.772520</td>\n",
       "      <td>0.040061</td>\n",
       "      <td>116</td>\n",
       "      <td>0.629705</td>\n",
       "      <td>0.623394</td>\n",
       "      <td>...</td>\n",
       "      <td>120</td>\n",
       "      <td>0.002051</td>\n",
       "      <td>0.000591</td>\n",
       "      <td>0.002262</td>\n",
       "      <td>0.000346</td>\n",
       "      <td>{'n_epochs': 5, 'lr_all': 0.002, 'reg_all': 0....</td>\n",
       "      <td>5</td>\n",
       "      <td>0.002</td>\n",
       "      <td>0.4</td>\n",
       "      <td>5</td>\n",
       "    </tr>\n",
       "    <tr>\n",
       "      <th>1</th>\n",
       "      <td>0.771949</td>\n",
       "      <td>0.783330</td>\n",
       "      <td>0.732887</td>\n",
       "      <td>0.841079</td>\n",
       "      <td>0.731752</td>\n",
       "      <td>0.772199</td>\n",
       "      <td>0.040124</td>\n",
       "      <td>113</td>\n",
       "      <td>0.630108</td>\n",
       "      <td>0.622918</td>\n",
       "      <td>...</td>\n",
       "      <td>116</td>\n",
       "      <td>0.001474</td>\n",
       "      <td>0.000099</td>\n",
       "      <td>0.001727</td>\n",
       "      <td>0.000208</td>\n",
       "      <td>{'n_epochs': 5, 'lr_all': 0.002, 'reg_all': 0....</td>\n",
       "      <td>5</td>\n",
       "      <td>0.002</td>\n",
       "      <td>0.4</td>\n",
       "      <td>10</td>\n",
       "    </tr>\n",
       "    <tr>\n",
       "      <th>2</th>\n",
       "      <td>0.771623</td>\n",
       "      <td>0.784563</td>\n",
       "      <td>0.733235</td>\n",
       "      <td>0.840870</td>\n",
       "      <td>0.732986</td>\n",
       "      <td>0.772655</td>\n",
       "      <td>0.039809</td>\n",
       "      <td>120</td>\n",
       "      <td>0.628784</td>\n",
       "      <td>0.623415</td>\n",
       "      <td>...</td>\n",
       "      <td>117</td>\n",
       "      <td>0.001589</td>\n",
       "      <td>0.000063</td>\n",
       "      <td>0.001519</td>\n",
       "      <td>0.000073</td>\n",
       "      <td>{'n_epochs': 5, 'lr_all': 0.002, 'reg_all': 0....</td>\n",
       "      <td>5</td>\n",
       "      <td>0.002</td>\n",
       "      <td>0.4</td>\n",
       "      <td>15</td>\n",
       "    </tr>\n",
       "    <tr>\n",
       "      <th>3</th>\n",
       "      <td>0.770473</td>\n",
       "      <td>0.784390</td>\n",
       "      <td>0.733063</td>\n",
       "      <td>0.841560</td>\n",
       "      <td>0.730773</td>\n",
       "      <td>0.772052</td>\n",
       "      <td>0.040522</td>\n",
       "      <td>107</td>\n",
       "      <td>0.628525</td>\n",
       "      <td>0.623558</td>\n",
       "      <td>...</td>\n",
       "      <td>112</td>\n",
       "      <td>0.001553</td>\n",
       "      <td>0.000089</td>\n",
       "      <td>0.001306</td>\n",
       "      <td>0.000078</td>\n",
       "      <td>{'n_epochs': 5, 'lr_all': 0.002, 'reg_all': 0....</td>\n",
       "      <td>5</td>\n",
       "      <td>0.002</td>\n",
       "      <td>0.4</td>\n",
       "      <td>20</td>\n",
       "    </tr>\n",
       "    <tr>\n",
       "      <th>4</th>\n",
       "      <td>0.771778</td>\n",
       "      <td>0.784096</td>\n",
       "      <td>0.731556</td>\n",
       "      <td>0.838529</td>\n",
       "      <td>0.732144</td>\n",
       "      <td>0.771621</td>\n",
       "      <td>0.039487</td>\n",
       "      <td>102</td>\n",
       "      <td>0.630172</td>\n",
       "      <td>0.624010</td>\n",
       "      <td>...</td>\n",
       "      <td>110</td>\n",
       "      <td>0.001942</td>\n",
       "      <td>0.000032</td>\n",
       "      <td>0.001204</td>\n",
       "      <td>0.000010</td>\n",
       "      <td>{'n_epochs': 5, 'lr_all': 0.002, 'reg_all': 0....</td>\n",
       "      <td>5</td>\n",
       "      <td>0.002</td>\n",
       "      <td>0.4</td>\n",
       "      <td>30</td>\n",
       "    </tr>\n",
       "  </tbody>\n",
       "</table>\n",
       "<p>5 rows × 25 columns</p>\n",
       "</div>"
      ],
      "text/plain": [
       "   split0_test_rmse  split1_test_rmse  split2_test_rmse  split3_test_rmse  \\\n",
       "0          0.771657          0.783685          0.732995          0.841491   \n",
       "1          0.771949          0.783330          0.732887          0.841079   \n",
       "2          0.771623          0.784563          0.733235          0.840870   \n",
       "3          0.770473          0.784390          0.733063          0.841560   \n",
       "4          0.771778          0.784096          0.731556          0.838529   \n",
       "\n",
       "   split4_test_rmse  mean_test_rmse  std_test_rmse  rank_test_rmse  \\\n",
       "0          0.732773        0.772520       0.040061             116   \n",
       "1          0.731752        0.772199       0.040124             113   \n",
       "2          0.732986        0.772655       0.039809             120   \n",
       "3          0.730773        0.772052       0.040522             107   \n",
       "4          0.732144        0.771621       0.039487             102   \n",
       "\n",
       "   split0_test_mae  split1_test_mae  ...  rank_test_mae  mean_fit_time  \\\n",
       "0         0.629705         0.623394  ...            120       0.002051   \n",
       "1         0.630108         0.622918  ...            116       0.001474   \n",
       "2         0.628784         0.623415  ...            117       0.001589   \n",
       "3         0.628525         0.623558  ...            112       0.001553   \n",
       "4         0.630172         0.624010  ...            110       0.001942   \n",
       "\n",
       "   std_fit_time  mean_test_time  std_test_time  \\\n",
       "0      0.000591        0.002262       0.000346   \n",
       "1      0.000099        0.001727       0.000208   \n",
       "2      0.000063        0.001519       0.000073   \n",
       "3      0.000089        0.001306       0.000078   \n",
       "4      0.000032        0.001204       0.000010   \n",
       "\n",
       "                                              params  param_n_epochs  \\\n",
       "0  {'n_epochs': 5, 'lr_all': 0.002, 'reg_all': 0....               5   \n",
       "1  {'n_epochs': 5, 'lr_all': 0.002, 'reg_all': 0....               5   \n",
       "2  {'n_epochs': 5, 'lr_all': 0.002, 'reg_all': 0....               5   \n",
       "3  {'n_epochs': 5, 'lr_all': 0.002, 'reg_all': 0....               5   \n",
       "4  {'n_epochs': 5, 'lr_all': 0.002, 'reg_all': 0....               5   \n",
       "\n",
       "   param_lr_all  param_reg_all  param_n_factors  \n",
       "0         0.002            0.4                5  \n",
       "1         0.002            0.4               10  \n",
       "2         0.002            0.4               15  \n",
       "3         0.002            0.4               20  \n",
       "4         0.002            0.4               30  \n",
       "\n",
       "[5 rows x 25 columns]"
      ]
     },
     "execution_count": 122,
     "metadata": {},
     "output_type": "execute_result"
    }
   ],
   "source": [
    "results_df = pd.DataFrame.from_dict(gs.cv_results)\n",
    "results_df.head()"
   ]
  },
  {
   "cell_type": "code",
   "execution_count": 45,
   "id": "50a698c3-39fa-49fe-8a7c-7c9d84eb3b71",
   "metadata": {},
   "outputs": [
    {
     "data": {
      "text/plain": [
       "<surprise.prediction_algorithms.matrix_factorization.SVD at 0x2815f0c40>"
      ]
     },
     "execution_count": 45,
     "metadata": {},
     "output_type": "execute_result"
    }
   ],
   "source": [
    "model.fit(trainset)"
   ]
  },
  {
   "cell_type": "code",
   "execution_count": 46,
   "id": "027665c7-cdf0-46d5-b068-23d13f27c260",
   "metadata": {},
   "outputs": [],
   "source": [
    "prediction = model.test(testset)"
   ]
  },
  {
   "cell_type": "code",
   "execution_count": 47,
   "id": "a25294f5-17be-4d54-9b27-d994a1bc0374",
   "metadata": {},
   "outputs": [
    {
     "name": "stdout",
     "output_type": "stream",
     "text": [
      "RMSE: 0.7398\n"
     ]
    },
    {
     "data": {
      "text/plain": [
       "0.739845653123489"
      ]
     },
     "execution_count": 47,
     "metadata": {},
     "output_type": "execute_result"
    }
   ],
   "source": [
    "accuracy.rmse(prediction)"
   ]
  },
  {
   "cell_type": "code",
   "execution_count": null,
   "id": "231181fd-60e8-4fdf-a5e7-eebee40b147b",
   "metadata": {},
   "outputs": [],
   "source": []
  }
 ],
 "metadata": {
  "kernelspec": {
   "display_name": "Python 3 (ipykernel)",
   "language": "python",
   "name": "python3"
  },
  "language_info": {
   "codemirror_mode": {
    "name": "ipython",
    "version": 3
   },
   "file_extension": ".py",
   "mimetype": "text/x-python",
   "name": "python",
   "nbconvert_exporter": "python",
   "pygments_lexer": "ipython3",
   "version": "3.10.0"
  }
 },
 "nbformat": 4,
 "nbformat_minor": 5
}
