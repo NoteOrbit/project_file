{
 "cells": [
  {
   "cell_type": "code",
   "execution_count": 5,
   "id": "b9dbd954-1d28-479e-9df9-b080b472c2ad",
   "metadata": {
    "collapsed": true,
    "jupyter": {
     "outputs_hidden": true
    },
    "tags": []
   },
   "outputs": [
    {
     "name": "stdout",
     "output_type": "stream",
     "text": [
      "Collecting surprise\n",
      "  Using cached surprise-0.1-py2.py3-none-any.whl (1.8 kB)\n",
      "Collecting scikit-surprise\n",
      "  Downloading scikit-surprise-1.1.3.tar.gz (771 kB)\n",
      "\u001b[2K     \u001b[38;2;114;156;31m━━━━━━━━━━━━━━━━━━━━━━━━━━━━━━━━━━━━━\u001b[0m \u001b[32m772.0/772.0 kB\u001b[0m \u001b[31m969.1 kB/s\u001b[0m eta \u001b[36m0:00:00\u001b[0m1m971.8 kB/s\u001b[0m eta \u001b[36m0:00:01\u001b[0m\n",
      "\u001b[?25h  Preparing metadata (setup.py) ... \u001b[?25ldone\n",
      "\u001b[?25hRequirement already satisfied: joblib>=1.0.0 in /Users/noteorbit/.pyenv/versions/3.10.0/envs/project_file/lib/python3.10/site-packages (from scikit-surprise->surprise) (1.2.0)\n",
      "Requirement already satisfied: numpy>=1.17.3 in /Users/noteorbit/.pyenv/versions/3.10.0/envs/project_file/lib/python3.10/site-packages (from scikit-surprise->surprise) (1.24.1)\n",
      "Requirement already satisfied: scipy>=1.3.2 in /Users/noteorbit/.pyenv/versions/3.10.0/envs/project_file/lib/python3.10/site-packages (from scikit-surprise->surprise) (1.10.0)\n",
      "Building wheels for collected packages: scikit-surprise\n",
      "  Building wheel for scikit-surprise (setup.py) ... \u001b[?25ldone\n",
      "\u001b[?25h  Created wheel for scikit-surprise: filename=scikit_surprise-1.1.3-cp310-cp310-macosx_12_0_arm64.whl size=1125168 sha256=0556a3c1278d6e647f20146a6852298d758af2d05fbe0615a0001d4c733cd146\n",
      "  Stored in directory: /Users/noteorbit/Library/Caches/pip/wheels/df/e4/a6/7ad72453dd693f420b0c639bedeec34641738d11b55d8d9b84\n",
      "Successfully built scikit-surprise\n",
      "Installing collected packages: scikit-surprise, surprise\n",
      "Successfully installed scikit-surprise-1.1.3 surprise-0.1\n",
      "\n",
      "\u001b[1m[\u001b[0m\u001b[34;49mnotice\u001b[0m\u001b[1;39;49m]\u001b[0m\u001b[39;49m A new release of pip available: \u001b[0m\u001b[31;49m22.3.1\u001b[0m\u001b[39;49m -> \u001b[0m\u001b[32;49m23.0.1\u001b[0m\n",
      "\u001b[1m[\u001b[0m\u001b[34;49mnotice\u001b[0m\u001b[1;39;49m]\u001b[0m\u001b[39;49m To update, run: \u001b[0m\u001b[32;49mpip install --upgrade pip\u001b[0m\n"
     ]
    }
   ],
   "source": [
    "!pip install surprise"
   ]
  },
  {
   "cell_type": "code",
   "execution_count": 6,
   "id": "14f179ea-d8f4-4488-91a6-50b36a04437e",
   "metadata": {
    "collapsed": true,
    "jupyter": {
     "outputs_hidden": true
    },
    "tags": []
   },
   "outputs": [
    {
     "name": "stdout",
     "output_type": "stream",
     "text": [
      "Requirement already satisfied: pip in /Users/noteorbit/.pyenv/versions/3.10.0/envs/project_file/lib/python3.10/site-packages (22.3.1)\n",
      "Collecting pip\n",
      "  Downloading pip-23.0.1-py3-none-any.whl (2.1 MB)\n",
      "\u001b[2K     \u001b[38;2;114;156;31m━━━━━━━━━━━━━━━━━━━━━━━━━━━━━━━━━━━━━━━━\u001b[0m \u001b[32m2.1/2.1 MB\u001b[0m \u001b[31m2.2 MB/s\u001b[0m eta \u001b[36m0:00:00\u001b[0m MB/s\u001b[0m eta \u001b[36m0:00:01\u001b[0m:01\u001b[0m0m\n",
      "\u001b[?25hInstalling collected packages: pip\n",
      "  Attempting uninstall: pip\n",
      "    Found existing installation: pip 22.3.1\n",
      "    Uninstalling pip-22.3.1:\n",
      "      Successfully uninstalled pip-22.3.1\n",
      "Successfully installed pip-23.0.1\n",
      "Note: you may need to restart the kernel to use updated packages.\n"
     ]
    }
   ],
   "source": [
    "pip install --upgrade pip"
   ]
  },
  {
   "cell_type": "markdown",
   "id": "4300d57b-27f6-4d04-962e-29e5bd827b39",
   "metadata": {},
   "source": [
    "# IMPORT "
   ]
  },
  {
   "cell_type": "code",
   "execution_count": 226,
   "id": "271afda3-bf21-4df0-9df7-4c57a2e914fe",
   "metadata": {},
   "outputs": [],
   "source": [
    "import pandas as pd\n",
    "import numpy as np\n",
    "import matplotlib.pyplot as plt\n",
    "import seaborn as sns\n",
    "\n",
    "from surprise import accuracy, Dataset, SVD,Reader , NormalPredictor, KNNBasic , NMF\n",
    "from surprise.model_selection import train_test_split, cross_validate , GridSearchCV , KFold\n",
    "from surprise.dump import dump, load"
   ]
  },
  {
   "cell_type": "code",
   "execution_count": 227,
   "id": "9476a803-9c0c-453f-ac34-8385ffd00575",
   "metadata": {},
   "outputs": [],
   "source": [
    "data = pd.read_csv('data/real.csv',index_col=0)\n",
    "data_as = pd.read_csv('data/Form.csv')"
   ]
  },
  {
   "cell_type": "markdown",
   "id": "34369021-826e-4917-930a-e7ca49180ed0",
   "metadata": {},
   "source": [
    "# EDA"
   ]
  },
  {
   "cell_type": "code",
   "execution_count": 228,
   "id": "6b314ffe-eade-4cc9-af0c-a7c28c0b1e49",
   "metadata": {},
   "outputs": [
    {
     "data": {
      "text/html": [
       "<div>\n",
       "<style scoped>\n",
       "    .dataframe tbody tr th:only-of-type {\n",
       "        vertical-align: middle;\n",
       "    }\n",
       "\n",
       "    .dataframe tbody tr th {\n",
       "        vertical-align: top;\n",
       "    }\n",
       "\n",
       "    .dataframe thead th {\n",
       "        text-align: right;\n",
       "    }\n",
       "</style>\n",
       "<table border=\"1\" class=\"dataframe\">\n",
       "  <thead>\n",
       "    <tr style=\"text-align: right;\">\n",
       "      <th></th>\n",
       "      <th>Store</th>\n",
       "      <th>User</th>\n",
       "      <th>Rating</th>\n",
       "      <th>Review</th>\n",
       "      <th>Duration</th>\n",
       "    </tr>\n",
       "  </thead>\n",
       "  <tbody>\n",
       "    <tr>\n",
       "      <th>0</th>\n",
       "      <td>NAP's Coffee &amp; Roasters</td>\n",
       "      <td>Nuunet D.</td>\n",
       "      <td>5</td>\n",
       "      <td>ร้านนี้ยกให้เป็นที่หนึ่งในอุบลเลย กาแฟดีมากๆ ร...</td>\n",
       "      <td>เดือนที่แล้ว</td>\n",
       "    </tr>\n",
       "    <tr>\n",
       "      <th>1</th>\n",
       "      <td>NAP's Coffee &amp; Roasters</td>\n",
       "      <td>vanai sun</td>\n",
       "      <td>3</td>\n",
       "      <td>เป็นอีกหนึ่งร้านที่ตั้งใจจะไป วันนี้ได้มาลองชิ...</td>\n",
       "      <td>10 เดือนที่แล้ว</td>\n",
       "    </tr>\n",
       "    <tr>\n",
       "      <th>2</th>\n",
       "      <td>NAP's Coffee &amp; Roasters</td>\n",
       "      <td>Phonanan Seeon</td>\n",
       "      <td>5</td>\n",
       "      <td>10 10 10  บรรยากาศคือดี ใดๆคือพนักงานดีมาก เคร...</td>\n",
       "      <td>9 เดือนที่แล้ว</td>\n",
       "    </tr>\n",
       "    <tr>\n",
       "      <th>3</th>\n",
       "      <td>NAP's Coffee &amp; Roasters</td>\n",
       "      <td>Chavakorn Laophetsakunchai</td>\n",
       "      <td>5</td>\n",
       "      <td>ดีเลยยยย กาแฟ หอมอร่อยยย เมล็ดก้ดีๆๆ</td>\n",
       "      <td>เดือนที่แล้ว</td>\n",
       "    </tr>\n",
       "    <tr>\n",
       "      <th>4</th>\n",
       "      <td>NAP's Coffee &amp; Roasters</td>\n",
       "      <td>community man</td>\n",
       "      <td>5</td>\n",
       "      <td>กาแฟรสชาดดีมาก แต่วันนี้มีน้องๆคุยกันเสียงดังม...</td>\n",
       "      <td>ปีที่แล้ว</td>\n",
       "    </tr>\n",
       "  </tbody>\n",
       "</table>\n",
       "</div>"
      ],
      "text/plain": [
       "                     Store                        User  Rating  \\\n",
       "0  NAP's Coffee & Roasters                   Nuunet D.       5   \n",
       "1  NAP's Coffee & Roasters                   vanai sun       3   \n",
       "2  NAP's Coffee & Roasters              Phonanan Seeon       5   \n",
       "3  NAP's Coffee & Roasters  Chavakorn Laophetsakunchai       5   \n",
       "4  NAP's Coffee & Roasters               community man       5   \n",
       "\n",
       "                                              Review         Duration  \n",
       "0  ร้านนี้ยกให้เป็นที่หนึ่งในอุบลเลย กาแฟดีมากๆ ร...     เดือนที่แล้ว  \n",
       "1  เป็นอีกหนึ่งร้านที่ตั้งใจจะไป วันนี้ได้มาลองชิ...  10 เดือนที่แล้ว  \n",
       "2  10 10 10  บรรยากาศคือดี ใดๆคือพนักงานดีมาก เคร...   9 เดือนที่แล้ว  \n",
       "3               ดีเลยยยย กาแฟ หอมอร่อยยย เมล็ดก้ดีๆๆ     เดือนที่แล้ว  \n",
       "4  กาแฟรสชาดดีมาก แต่วันนี้มีน้องๆคุยกันเสียงดังม...        ปีที่แล้ว  "
      ]
     },
     "execution_count": 228,
     "metadata": {},
     "output_type": "execute_result"
    }
   ],
   "source": [
    "data.head()"
   ]
  },
  {
   "cell_type": "code",
   "execution_count": 229,
   "id": "6e402e8a-f348-44ef-abb5-2e7c3e97d21f",
   "metadata": {},
   "outputs": [
    {
     "data": {
      "text/html": [
       "<div>\n",
       "<style scoped>\n",
       "    .dataframe tbody tr th:only-of-type {\n",
       "        vertical-align: middle;\n",
       "    }\n",
       "\n",
       "    .dataframe tbody tr th {\n",
       "        vertical-align: top;\n",
       "    }\n",
       "\n",
       "    .dataframe thead th {\n",
       "        text-align: right;\n",
       "    }\n",
       "</style>\n",
       "<table border=\"1\" class=\"dataframe\">\n",
       "  <thead>\n",
       "    <tr style=\"text-align: right;\">\n",
       "      <th></th>\n",
       "      <th>Timestamp</th>\n",
       "      <th>Age</th>\n",
       "      <th>Gender</th>\n",
       "      <th>Store</th>\n",
       "      <th>menu</th>\n",
       "      <th>Rating</th>\n",
       "      <th>amenities</th>\n",
       "    </tr>\n",
       "  </thead>\n",
       "  <tbody>\n",
       "    <tr>\n",
       "      <th>0</th>\n",
       "      <td>1/3/2023 16:52:51</td>\n",
       "      <td>20</td>\n",
       "      <td>male</td>\n",
       "      <td>NAP's Coffee &amp; Roasters, sangob, Nap x Warin, ...</td>\n",
       "      <td>espresso</td>\n",
       "      <td>4</td>\n",
       "      <td>Free Wi-Fi, Bar on site</td>\n",
       "    </tr>\n",
       "    <tr>\n",
       "      <th>1</th>\n",
       "      <td>1/3/2023 16:59:44</td>\n",
       "      <td>16</td>\n",
       "      <td>female</td>\n",
       "      <td>BalconyKiss Coffee, ROOF COFFEE, LAVA  JAVA Co...</td>\n",
       "      <td>latte</td>\n",
       "      <td>4</td>\n",
       "      <td>Toilets, Free Wi-Fi, Good for kid</td>\n",
       "    </tr>\n",
       "    <tr>\n",
       "      <th>2</th>\n",
       "      <td>1/3/2023 17:00:34</td>\n",
       "      <td>22</td>\n",
       "      <td>male</td>\n",
       "      <td>NAP's Coffee &amp; Roasters, SongSarn, Yuanjai Cafe</td>\n",
       "      <td>americano</td>\n",
       "      <td>5</td>\n",
       "      <td>Free Wi-Fi, High chairs, Bar on site</td>\n",
       "    </tr>\n",
       "    <tr>\n",
       "      <th>3</th>\n",
       "      <td>1/3/2023 17:00:50</td>\n",
       "      <td>21</td>\n",
       "      <td>female</td>\n",
       "      <td>NAP's Coffee &amp; Roasters, Nap x Warin, Snoopcat...</td>\n",
       "      <td>latte</td>\n",
       "      <td>5</td>\n",
       "      <td>Toilets, Free Wi-Fi</td>\n",
       "    </tr>\n",
       "    <tr>\n",
       "      <th>4</th>\n",
       "      <td>1/3/2023 17:01:45</td>\n",
       "      <td>19</td>\n",
       "      <td>male</td>\n",
       "      <td>NAP's Coffee &amp; Roasters, sangob, Nap x Warin, ...</td>\n",
       "      <td>cappuccino</td>\n",
       "      <td>4</td>\n",
       "      <td>Free Wi-Fi, Good for kid, Bar on site</td>\n",
       "    </tr>\n",
       "  </tbody>\n",
       "</table>\n",
       "</div>"
      ],
      "text/plain": [
       "           Timestamp  Age  Gender  \\\n",
       "0  1/3/2023 16:52:51   20    male   \n",
       "1  1/3/2023 16:59:44   16  female   \n",
       "2  1/3/2023 17:00:34   22    male   \n",
       "3  1/3/2023 17:00:50   21  female   \n",
       "4  1/3/2023 17:01:45   19    male   \n",
       "\n",
       "                                               Store        menu  Rating  \\\n",
       "0  NAP's Coffee & Roasters, sangob, Nap x Warin, ...    espresso       4   \n",
       "1  BalconyKiss Coffee, ROOF COFFEE, LAVA  JAVA Co...       latte       4   \n",
       "2    NAP's Coffee & Roasters, SongSarn, Yuanjai Cafe   americano       5   \n",
       "3  NAP's Coffee & Roasters, Nap x Warin, Snoopcat...       latte       5   \n",
       "4  NAP's Coffee & Roasters, sangob, Nap x Warin, ...  cappuccino       4   \n",
       "\n",
       "                               amenities  \n",
       "0                Free Wi-Fi, Bar on site  \n",
       "1      Toilets, Free Wi-Fi, Good for kid  \n",
       "2   Free Wi-Fi, High chairs, Bar on site  \n",
       "3                    Toilets, Free Wi-Fi  \n",
       "4  Free Wi-Fi, Good for kid, Bar on site  "
      ]
     },
     "execution_count": 229,
     "metadata": {},
     "output_type": "execute_result"
    }
   ],
   "source": [
    "data_as.head()"
   ]
  },
  {
   "cell_type": "code",
   "execution_count": 5,
   "id": "d669946f-525a-4194-a16f-dbf32f20b68b",
   "metadata": {},
   "outputs": [
    {
     "data": {
      "image/png": "[encoded data removed]",
      "text/plain": [
       "<Figure size 640x480 with 1 Axes>"
      ]
     },
     "metadata": {},
     "output_type": "display_data"
    }
   ],
   "source": [
    "'''\n",
    "\n",
    "    find histogram base on rating\n",
    "\n",
    "'''\n",
    "sns.set(style=\"darkgrid\")\n",
    "plot_count_hit_rating = sns.histplot(data=data, x=\"Rating\", color=\"skyblue\", label=\"Rating\", kde=True)\n",
    "plt.savefig('experimental_image/plot_count_hit_rating.png')"
   ]
  },
  {
   "cell_type": "code",
   "execution_count": 6,
   "id": "ce54a8c4-fe6c-4f33-8546-1e8929ae6756",
   "metadata": {},
   "outputs": [],
   "source": [
    "'''\n",
    "    \n",
    "    change user and store to idx2user or idx2item\n",
    "\n",
    "'''\n",
    "\n",
    "user2idx = {user: idx for idx, user in enumerate(data.User.unique())}\n",
    "idx2user = {idx: user for user, idx in user2idx.items()}\n",
    "\n",
    "item2idx = {item: idx for idx, item in enumerate(data.Store.unique())}\n",
    "idx2item = {idx: item for item, idx in item2idx.items()}"
   ]
  },
  {
   "cell_type": "code",
   "execution_count": null,
   "id": "cfd89d99-186e-4e6e-b291-cde7c5daa996",
   "metadata": {},
   "outputs": [],
   "source": []
  },
  {
   "cell_type": "code",
   "execution_count": 7,
   "id": "75570603-ada5-4ccd-a439-33ffc175adf7",
   "metadata": {},
   "outputs": [
    {
     "ename": "NameError",
     "evalue": "name 'test' is not defined",
     "output_type": "error",
     "traceback": [
      "\u001b[0;31m---------------------------------------------------------------------------\u001b[0m",
      "\u001b[0;31mNameError\u001b[0m                                 Traceback (most recent call last)",
      "Cell \u001b[0;32mIn[7], line 2\u001b[0m\n\u001b[1;32m      1\u001b[0m sns\u001b[38;5;241m.\u001b[39mset(rc\u001b[38;5;241m=\u001b[39m{\u001b[38;5;124m\"\u001b[39m\u001b[38;5;124mfigure.figsize\u001b[39m\u001b[38;5;124m\"\u001b[39m:(\u001b[38;5;241m10\u001b[39m, \u001b[38;5;241m4\u001b[39m)})\n\u001b[0;32m----> 2\u001b[0m plot_count \u001b[38;5;241m=\u001b[39m sns\u001b[38;5;241m.\u001b[39mbarplot(data\u001b[38;5;241m=\u001b[39m\u001b[43mtest\u001b[49m\u001b[38;5;241m.\u001b[39mgroupby([\u001b[38;5;124m'\u001b[39m\u001b[38;5;124mStore\u001b[39m\u001b[38;5;124m'\u001b[39m])\u001b[38;5;241m.\u001b[39mcount()[\u001b[38;5;124m'\u001b[39m\u001b[38;5;124mUser\u001b[39m\u001b[38;5;124m'\u001b[39m]\u001b[38;5;241m.\u001b[39mreset_index(), x\u001b[38;5;241m=\u001b[39m\u001b[38;5;124m\"\u001b[39m\u001b[38;5;124mStore\u001b[39m\u001b[38;5;124m\"\u001b[39m,y\u001b[38;5;241m=\u001b[39m\u001b[38;5;124m'\u001b[39m\u001b[38;5;124mUser\u001b[39m\u001b[38;5;124m'\u001b[39m,width\u001b[38;5;241m=\u001b[39m\u001b[38;5;241m0.8\u001b[39m)\n\u001b[1;32m      3\u001b[0m plt\u001b[38;5;241m.\u001b[39msavefig(\u001b[38;5;124m\"\u001b[39m\u001b[38;5;124mexperimental_image/save_count.png\u001b[39m\u001b[38;5;124m\"\u001b[39m)\n",
      "\u001b[0;31mNameError\u001b[0m: name 'test' is not defined"
     ]
    }
   ],
   "source": [
    "sns.set(rc={\"figure.figsize\":(10, 4)})\n",
    "plot_count = sns.barplot(data=test.groupby(['Store']).count()['User'].reset_index(), x=\"Store\",y='User',width=0.8)\n",
    "plt.savefig(\"experimental_image/save_count.png\")"
   ]
  },
  {
   "cell_type": "markdown",
   "id": "dd27550f-dc49-445a-9de2-c56a5648e86b",
   "metadata": {},
   "source": [
    "# EXPERIMENTAL "
   ]
  },
  {
   "cell_type": "code",
   "execution_count": 230,
   "id": "c82208f1-0b0e-4177-a61c-9b7710346505",
   "metadata": {},
   "outputs": [],
   "source": [
    "'''\n",
    "\n",
    "    create experimental range score\n",
    "\n",
    "'''\n",
    "reader = Reader(rating_scale=(1, 5))"
   ]
  },
  {
   "cell_type": "code",
   "execution_count": null,
   "id": "fc040b71-6f9c-4f37-9642-9d1584b90c91",
   "metadata": {},
   "outputs": [],
   "source": []
  },
  {
   "cell_type": "code",
   "execution_count": 232,
   "id": "3c3dc195-1a3b-48a7-b186-2a83005b4660",
   "metadata": {},
   "outputs": [],
   "source": [
    "test = data.copy()\n",
    "# test['User'] = test['User'].map(user2idx)\n",
    "# test['Store'] = test['Store'].map(item2idx)"
   ]
  },
  {
   "cell_type": "markdown",
   "id": "f1965241-8057-4957-a775-c9a7afc23d4f",
   "metadata": {},
   "source": [
    "```\n",
    "\n",
    "loader data set and split data to trainset and testset\n",
    "\n",
    "```\n"
   ]
  },
  {
   "cell_type": "code",
   "execution_count": 233,
   "id": "5dbaae5f-a5ec-491e-baa0-963f98f1964d",
   "metadata": {},
   "outputs": [],
   "source": [
    "reader = Reader(rating_scale=(1, 5))\n",
    "dataset = Dataset.load_from_df(test[['User','Store','Rating']],reader)\n",
    "trainset, testset = train_test_split(dataset, test_size=0.20)"
   ]
  },
  {
   "cell_type": "markdown",
   "id": "66125e50-ad6a-4515-916d-0b8a50e82bbd",
   "metadata": {},
   "source": [
    "```\n",
    "algo knn,svd,nmf wiht suprise\n",
    "\n",
    "https://surprise.readthedocs.io/en/stable/prediction_algorithms.html#\n",
    "```"
   ]
  },
  {
   "cell_type": "code",
   "execution_count": 234,
   "id": "f8e8c981-a6a1-4b81-b42e-3ce50434694a",
   "metadata": {},
   "outputs": [
    {
     "name": "stdout",
     "output_type": "stream",
     "text": [
      "KNN_BASIC\n",
      "RMSE: 0.7989\n",
      "MAE:  0.6493\n",
      "MSE: 0.6382\n",
      "SVD\n",
      "RMSE: 0.7028\n",
      "MAE:  0.5424\n",
      "MSE: 0.4940\n",
      "NMF\n",
      "RMSE: 1.1047\n",
      "MAE:  0.9121\n",
      "MSE: 1.2203\n"
     ]
    }
   ],
   "source": [
    "sim_options = {\n",
    "    \"k\": 10,\n",
    "\n",
    "    \"name\": \"cosine\",\n",
    "    \"user_based\": True,  # compute  similarities between items\n",
    "}\n",
    "\n",
    "\n",
    "knnbasic = KNNBasic(sim_options=sim_options,verbose=False)\n",
    "svd = SVD(n_epochs=30,n_factors=10,lr_all=0.02)\n",
    "nmf = NMF(n_epochs=30,n_factors=10)\n",
    "\n",
    "setup = {\n",
    "    'KNN_BASIC':knnbasic,\n",
    "    'SVD':svd,\n",
    "    'NMF':nmf\n",
    "}\n",
    "\n",
    "hist = []\n",
    "\n",
    "def train_(algo):\n",
    "    for name,model in setup.items():\n",
    "        print(name,end='\\n')\n",
    "        model.fit(trainset)\n",
    "        predictions = model.test(testset)\n",
    "        hist.append({\n",
    "            f'{name}':{\n",
    "                \"RMSE\" :accuracy.rmse(predictions),\n",
    "                \"MAE\" :accuracy.mae(predictions),\n",
    "                \"MSE\" :accuracy.mse(predictions)\n",
    "            }\n",
    "        \n",
    "        \n",
    "        })\n",
    "        \n",
    "        \n",
    "train_(setup)"
   ]
  },
  {
   "cell_type": "code",
   "execution_count": 235,
   "id": "d064da6d-240d-4c6c-a1ec-bddab90c528b",
   "metadata": {},
   "outputs": [
    {
     "data": {
      "text/html": [
       "<div>\n",
       "<style scoped>\n",
       "    .dataframe tbody tr th:only-of-type {\n",
       "        vertical-align: middle;\n",
       "    }\n",
       "\n",
       "    .dataframe tbody tr th {\n",
       "        vertical-align: top;\n",
       "    }\n",
       "\n",
       "    .dataframe thead th {\n",
       "        text-align: right;\n",
       "    }\n",
       "</style>\n",
       "<table border=\"1\" class=\"dataframe\">\n",
       "  <thead>\n",
       "    <tr style=\"text-align: right;\">\n",
       "      <th></th>\n",
       "      <th>Algorithm</th>\n",
       "      <th>RMSE</th>\n",
       "      <th>MAE</th>\n",
       "      <th>MSE</th>\n",
       "    </tr>\n",
       "  </thead>\n",
       "  <tbody>\n",
       "    <tr>\n",
       "      <th>0</th>\n",
       "      <td>KNN_BASIC</td>\n",
       "      <td>0.798884</td>\n",
       "      <td>0.649320</td>\n",
       "      <td>0.638216</td>\n",
       "    </tr>\n",
       "    <tr>\n",
       "      <th>1</th>\n",
       "      <td>SVD</td>\n",
       "      <td>0.702839</td>\n",
       "      <td>0.542405</td>\n",
       "      <td>0.493983</td>\n",
       "    </tr>\n",
       "    <tr>\n",
       "      <th>2</th>\n",
       "      <td>NMF</td>\n",
       "      <td>1.104655</td>\n",
       "      <td>0.912112</td>\n",
       "      <td>1.220264</td>\n",
       "    </tr>\n",
       "  </tbody>\n",
       "</table>\n",
       "</div>"
      ],
      "text/plain": [
       "   Algorithm      RMSE       MAE       MSE\n",
       "0  KNN_BASIC  0.798884  0.649320  0.638216\n",
       "1        SVD  0.702839  0.542405  0.493983\n",
       "2        NMF  1.104655  0.912112  1.220264"
      ]
     },
     "execution_count": 235,
     "metadata": {},
     "output_type": "execute_result"
    }
   ],
   "source": [
    "df = pd.DataFrame.from_records([{**{'Algorithm': k}, **v} for d in hist for k, v in d.items()])\n",
    "df"
   ]
  },
  {
   "cell_type": "code",
   "execution_count": 236,
   "id": "b423d86f-e179-48e7-9ada-3a8f8de6dbac",
   "metadata": {},
   "outputs": [
    {
     "data": {
      "image/png": "[encoded data removed]",
      "text/plain": [
       "<Figure size 999x600 with 1 Axes>"
      ]
     },
     "metadata": {},
     "output_type": "display_data"
    }
   ],
   "source": [
    "evaluations = sns.catplot(x='Algorithm', y='Value', hue='Metric', kind='bar', \n",
    "            data=df.melt(id_vars='Algorithm', var_name='Metric', value_name='Value'), \n",
    "            height=6, aspect=1.5)\n",
    "\n",
    "\n",
    "for ax in evaluations.axes.flat:\n",
    "    for p in ax.patches:\n",
    "        ax.annotate(format(p.get_height(), '.3f'), \n",
    "                    (p.get_x() + p.get_width() / 2., p.get_height()), \n",
    "                    ha = 'center', va = 'center', \n",
    "                    xytext = (0, 10), \n",
    "                    textcoords = 'offset points')\n",
    "        \n",
    "\n",
    "plt.savefig('experimental_image/evalutaions.png')\n"
   ]
  },
  {
   "cell_type": "code",
   "execution_count": 16,
   "id": "cf5d74b3-5d92-4cf8-bf92-88828160db2d",
   "metadata": {},
   "outputs": [
    {
     "data": {
      "text/html": [
       "<div>\n",
       "<style scoped>\n",
       "    .dataframe tbody tr th:only-of-type {\n",
       "        vertical-align: middle;\n",
       "    }\n",
       "\n",
       "    .dataframe tbody tr th {\n",
       "        vertical-align: top;\n",
       "    }\n",
       "\n",
       "    .dataframe thead th {\n",
       "        text-align: right;\n",
       "    }\n",
       "</style>\n",
       "<table border=\"1\" class=\"dataframe\">\n",
       "  <thead>\n",
       "    <tr style=\"text-align: right;\">\n",
       "      <th></th>\n",
       "      <th>Algorithm</th>\n",
       "      <th>RMSE</th>\n",
       "      <th>MAE</th>\n",
       "      <th>MSE</th>\n",
       "    </tr>\n",
       "  </thead>\n",
       "  <tbody>\n",
       "    <tr>\n",
       "      <th>0</th>\n",
       "      <td>KNN_BASIC</td>\n",
       "      <td>0.775125</td>\n",
       "      <td>0.638391</td>\n",
       "      <td>0.600819</td>\n",
       "    </tr>\n",
       "    <tr>\n",
       "      <th>1</th>\n",
       "      <td>SVD</td>\n",
       "      <td>0.716628</td>\n",
       "      <td>0.551563</td>\n",
       "      <td>0.513556</td>\n",
       "    </tr>\n",
       "    <tr>\n",
       "      <th>2</th>\n",
       "      <td>NMF</td>\n",
       "      <td>1.052918</td>\n",
       "      <td>0.868182</td>\n",
       "      <td>1.108636</td>\n",
       "    </tr>\n",
       "  </tbody>\n",
       "</table>\n",
       "</div>"
      ],
      "text/plain": [
       "   Algorithm      RMSE       MAE       MSE\n",
       "0  KNN_BASIC  0.775125  0.638391  0.600819\n",
       "1        SVD  0.716628  0.551563  0.513556\n",
       "2        NMF  1.052918  0.868182  1.108636"
      ]
     },
     "execution_count": 16,
     "metadata": {},
     "output_type": "execute_result"
    }
   ],
   "source": [
    "df = pd.DataFrame.from_records([{**{'Algorithm': k}, **v} for d in hist for k, v in d.items()])\n",
    "df"
   ]
  },
  {
   "cell_type": "code",
   "execution_count": 17,
   "id": "dd1a5997-213a-4018-ba20-2be64824f3b1",
   "metadata": {},
   "outputs": [
    {
     "data": {
      "image/png": "[encoded data removed]",
      "text/plain": [
       "<Figure size 999x600 with 1 Axes>"
      ]
     },
     "metadata": {},
     "output_type": "display_data"
    }
   ],
   "source": [
    "evaluations = sns.catplot(x='Algorithm', y='Value', hue='Metric', kind='bar', \n",
    "            data=df.melt(id_vars='Algorithm', var_name='Metric', value_name='Value'), \n",
    "            height=6, aspect=1.5)\n",
    "\n",
    "\n",
    "for ax in evaluations.axes.flat:\n",
    "    for p in ax.patches:\n",
    "        ax.annotate(format(p.get_height(), '.3f'), \n",
    "                    (p.get_x() + p.get_width() / 2., p.get_height()), \n",
    "                    ha = 'center', va = 'center', \n",
    "                    xytext = (0, 10), \n",
    "                    textcoords = 'offset points')\n",
    "        \n",
    "\n",
    "plt.savefig('experimental_image/evalutaions1.png')\n"
   ]
  },
  {
   "cell_type": "code",
   "execution_count": 27,
   "id": "8ac8e56f-a7ad-4731-8870-d50f246cacfa",
   "metadata": {},
   "outputs": [],
   "source": [
    "model = SVD(n_epochs=30, n_factors=15, lr_all=0.02)\n",
    "model.fit(trainset)\n",
    "\n",
    "# Create a testset with all the user-item pairs in the dataset\n",
    "testset = trainset.build_anti_testset()\n",
    "\n",
    "# Generate predictions for all user-item pairs in the dataset\n",
    "predictions = model.test(testset)\n"
   ]
  },
  {
   "cell_type": "code",
   "execution_count": null,
   "id": "e6d0971f-7e67-4f01-a938-0be9e11f3927",
   "metadata": {},
   "outputs": [],
   "source": []
  },
  {
   "cell_type": "code",
   "execution_count": 239,
   "id": "9013dd44-f00c-4e00-8ac6-c03ad094b58a",
   "metadata": {},
   "outputs": [
    {
     "name": "stdout",
     "output_type": "stream",
     "text": [
      "Processing epoch 0\n",
      "Processing epoch 1\n",
      "Processing epoch 2\n",
      "Processing epoch 3\n",
      "Processing epoch 4\n",
      "Processing epoch 5\n",
      "Processing epoch 6\n",
      "Processing epoch 7\n",
      "Processing epoch 8\n",
      "Processing epoch 9\n",
      "MSE: 0.0397\n",
      "MSE on full data: 0.0396921051116659\n",
      "The dump has been saved as file data/trained_model.pkl\n"
     ]
    }
   ],
   "source": [
    "algo = SVD(n_epochs=10,n_factors=13,lr_all=0.01,verbose=True)\n",
    "trainset_full = dataset.build_full_trainset()\n",
    "algo.fit(trainset_full)\n",
    "\n",
    "# Calculate the mean squared error (MSE) on the full data\n",
    "predictions = algo.test(trainset_full.build_anti_testset())\n",
    "mse = accuracy.mse(predictions)\n",
    "print('MSE on full data:', mse)\n",
    "\n",
    "# Dump the trained model and predictions to a file\n",
    "dump_file = 'data/trained_model.pkl'\n",
    "dump(dump_file,algo=algo, predictions=predictions,verbose=True)\n",
    "\n",
    "# # Load the trained model from the file\n",
    "loaded_algo = load(dump_file)\n",
    "\n",
    "# # Use the loaded model to generate recommendations for a user (user ID 0 in this example)\n",
    "\n",
    "# testset = trainset_full.build_anti_testset(fill=None)\n",
    "# predictions = loaded_algo.test(testset)\n",
    "\n",
    "# # Sort the predictions in descending order of predicted rating\n",
    "# sorted_predictions = sorted(predictions, key=lambda x: x.est, reverse=True)\n",
    "\n",
    "# # Print the top 10 recommended items for the user\n",
    "# print('Top 10 recommended items for user', user_id)\n",
    "# for i in range(10):\n",
    "#     print(sorted_predictions[i].iid)\n",
    "\n",
    "# # Access all the saved predictions\n",
    "# all_predictions = loaded_algo.predictions"
   ]
  },
  {
   "cell_type": "code",
   "execution_count": 181,
   "id": "bc43467d-a5f1-414f-ac28-affc8199fad1",
   "metadata": {},
   "outputs": [
    {
     "data": {
      "text/plain": [
       "Prediction(uid=0, iid=1, r_ui=4.481616529930112, est=4.70164655883654, details={'was_impossible': False})"
      ]
     },
     "execution_count": 181,
     "metadata": {},
     "output_type": "execute_result"
    }
   ],
   "source": []
  },
  {
   "cell_type": "code",
   "execution_count": null,
   "id": "1c42d5d1-32a0-401a-ab69-aee48da54a10",
   "metadata": {},
   "outputs": [],
   "source": []
  },
  {
   "cell_type": "code",
   "execution_count": null,
   "id": "6b95de91-e454-4f47-90f8-ef1a841f4ecc",
   "metadata": {},
   "outputs": [],
   "source": []
  },
  {
   "cell_type": "markdown",
   "id": "39655343-739f-4736-ab2e-526404c4c7be",
   "metadata": {},
   "source": [
    "```\n",
    "\n",
    "predict rating pivot\n",
    "\n",
    "```"
   ]
  },
  {
   "cell_type": "code",
   "execution_count": 238,
   "id": "3ef67ef2-62f8-4870-9859-6938bbdc3664",
   "metadata": {},
   "outputs": [
    {
     "data": {
      "text/html": [
       "<div>\n",
       "<style scoped>\n",
       "    .dataframe tbody tr th:only-of-type {\n",
       "        vertical-align: middle;\n",
       "    }\n",
       "\n",
       "    .dataframe tbody tr th {\n",
       "        vertical-align: top;\n",
       "    }\n",
       "\n",
       "    .dataframe thead th {\n",
       "        text-align: right;\n",
       "    }\n",
       "</style>\n",
       "<table border=\"1\" class=\"dataframe\">\n",
       "  <thead>\n",
       "    <tr style=\"text-align: right;\">\n",
       "      <th>item_id</th>\n",
       "      <th>11.11 Gallery and Coffee</th>\n",
       "      <th>Abe Specialty Coffee</th>\n",
       "      <th>Amarna</th>\n",
       "      <th>Anna Roasters</th>\n",
       "      <th>Attaroast</th>\n",
       "      <th>BaanHuakham Cafe &amp; Farmstay</th>\n",
       "      <th>BalconyKiss Coffee</th>\n",
       "      <th>Blendstorm Coffee Roasters</th>\n",
       "      <th>Blues Coffee</th>\n",
       "      <th>Bossa cafe</th>\n",
       "      <th>...</th>\n",
       "      <th>ROSIEHOLM</th>\n",
       "      <th>Rogue Roasters</th>\n",
       "      <th>Saereesook</th>\n",
       "      <th>Snoopcat Cafe</th>\n",
       "      <th>SongSarn</th>\n",
       "      <th>Stufe coffee</th>\n",
       "      <th>Tree Cafe Rim Moon</th>\n",
       "      <th>Yuanjai Cafe</th>\n",
       "      <th>r o u n d</th>\n",
       "      <th>sangob</th>\n",
       "    </tr>\n",
       "    <tr>\n",
       "      <th>user_id</th>\n",
       "      <th></th>\n",
       "      <th></th>\n",
       "      <th></th>\n",
       "      <th></th>\n",
       "      <th></th>\n",
       "      <th></th>\n",
       "      <th></th>\n",
       "      <th></th>\n",
       "      <th></th>\n",
       "      <th></th>\n",
       "      <th></th>\n",
       "      <th></th>\n",
       "      <th></th>\n",
       "      <th></th>\n",
       "      <th></th>\n",
       "      <th></th>\n",
       "      <th></th>\n",
       "      <th></th>\n",
       "      <th></th>\n",
       "      <th></th>\n",
       "      <th></th>\n",
       "    </tr>\n",
       "  </thead>\n",
       "  <tbody>\n",
       "    <tr>\n",
       "      <th>01 มติมนต์ จํานงค์</th>\n",
       "      <td>4.642687</td>\n",
       "      <td>4.758524</td>\n",
       "      <td>4.811040</td>\n",
       "      <td>4.576051</td>\n",
       "      <td>4.895267</td>\n",
       "      <td>4.779906</td>\n",
       "      <td>4.622884</td>\n",
       "      <td>4.393860</td>\n",
       "      <td>4.233870</td>\n",
       "      <td>4.424323</td>\n",
       "      <td>...</td>\n",
       "      <td>4.663462</td>\n",
       "      <td>4.579741</td>\n",
       "      <td>4.677969</td>\n",
       "      <td>4.750680</td>\n",
       "      <td>4.563372</td>\n",
       "      <td>4.564527</td>\n",
       "      <td>0.000000</td>\n",
       "      <td>4.903688</td>\n",
       "      <td>4.608954</td>\n",
       "      <td>4.768799</td>\n",
       "    </tr>\n",
       "    <tr>\n",
       "      <th>113_kammika raksa</th>\n",
       "      <td>4.659401</td>\n",
       "      <td>4.700998</td>\n",
       "      <td>4.752510</td>\n",
       "      <td>4.620323</td>\n",
       "      <td>4.829538</td>\n",
       "      <td>4.717791</td>\n",
       "      <td>4.512422</td>\n",
       "      <td>4.463519</td>\n",
       "      <td>4.235901</td>\n",
       "      <td>4.394731</td>\n",
       "      <td>...</td>\n",
       "      <td>4.628018</td>\n",
       "      <td>4.594534</td>\n",
       "      <td>4.678510</td>\n",
       "      <td>4.724751</td>\n",
       "      <td>4.617959</td>\n",
       "      <td>4.495217</td>\n",
       "      <td>4.268622</td>\n",
       "      <td>4.785483</td>\n",
       "      <td>4.637385</td>\n",
       "      <td>4.648925</td>\n",
       "    </tr>\n",
       "    <tr>\n",
       "      <th>1904x</th>\n",
       "      <td>0.000000</td>\n",
       "      <td>4.711330</td>\n",
       "      <td>4.745612</td>\n",
       "      <td>4.681094</td>\n",
       "      <td>4.808398</td>\n",
       "      <td>4.728588</td>\n",
       "      <td>4.511622</td>\n",
       "      <td>4.448529</td>\n",
       "      <td>4.174439</td>\n",
       "      <td>4.370752</td>\n",
       "      <td>...</td>\n",
       "      <td>4.610266</td>\n",
       "      <td>4.620298</td>\n",
       "      <td>4.666194</td>\n",
       "      <td>4.713933</td>\n",
       "      <td>4.613213</td>\n",
       "      <td>4.477759</td>\n",
       "      <td>4.188838</td>\n",
       "      <td>4.792014</td>\n",
       "      <td>4.636062</td>\n",
       "      <td>4.666777</td>\n",
       "    </tr>\n",
       "    <tr>\n",
       "      <th>1984whatthehell</th>\n",
       "      <td>4.686831</td>\n",
       "      <td>4.744906</td>\n",
       "      <td>4.780556</td>\n",
       "      <td>0.000000</td>\n",
       "      <td>4.886066</td>\n",
       "      <td>4.766865</td>\n",
       "      <td>4.611432</td>\n",
       "      <td>4.460061</td>\n",
       "      <td>4.325770</td>\n",
       "      <td>4.509229</td>\n",
       "      <td>...</td>\n",
       "      <td>4.695779</td>\n",
       "      <td>4.675655</td>\n",
       "      <td>4.733437</td>\n",
       "      <td>4.758208</td>\n",
       "      <td>4.719417</td>\n",
       "      <td>4.575205</td>\n",
       "      <td>4.484779</td>\n",
       "      <td>4.889244</td>\n",
       "      <td>4.709502</td>\n",
       "      <td>4.805816</td>\n",
       "    </tr>\n",
       "    <tr>\n",
       "      <th>212ปาณิตตา ศิริชัย</th>\n",
       "      <td>4.618261</td>\n",
       "      <td>4.763538</td>\n",
       "      <td>4.789677</td>\n",
       "      <td>4.583628</td>\n",
       "      <td>0.000000</td>\n",
       "      <td>4.702850</td>\n",
       "      <td>4.602246</td>\n",
       "      <td>4.414582</td>\n",
       "      <td>4.260254</td>\n",
       "      <td>4.379496</td>\n",
       "      <td>...</td>\n",
       "      <td>4.618088</td>\n",
       "      <td>4.523699</td>\n",
       "      <td>4.723764</td>\n",
       "      <td>4.726250</td>\n",
       "      <td>4.554062</td>\n",
       "      <td>4.526515</td>\n",
       "      <td>4.230377</td>\n",
       "      <td>4.826025</td>\n",
       "      <td>4.586190</td>\n",
       "      <td>4.604468</td>\n",
       "    </tr>\n",
       "    <tr>\n",
       "      <th>...</th>\n",
       "      <td>...</td>\n",
       "      <td>...</td>\n",
       "      <td>...</td>\n",
       "      <td>...</td>\n",
       "      <td>...</td>\n",
       "      <td>...</td>\n",
       "      <td>...</td>\n",
       "      <td>...</td>\n",
       "      <td>...</td>\n",
       "      <td>...</td>\n",
       "      <td>...</td>\n",
       "      <td>...</td>\n",
       "      <td>...</td>\n",
       "      <td>...</td>\n",
       "      <td>...</td>\n",
       "      <td>...</td>\n",
       "      <td>...</td>\n",
       "      <td>...</td>\n",
       "      <td>...</td>\n",
       "      <td>...</td>\n",
       "      <td>...</td>\n",
       "    </tr>\n",
       "    <tr>\n",
       "      <th>蔡賢德Karanpon</th>\n",
       "      <td>4.669485</td>\n",
       "      <td>4.739380</td>\n",
       "      <td>4.836994</td>\n",
       "      <td>4.576075</td>\n",
       "      <td>4.851763</td>\n",
       "      <td>4.772129</td>\n",
       "      <td>4.551373</td>\n",
       "      <td>4.457584</td>\n",
       "      <td>4.208360</td>\n",
       "      <td>4.412421</td>\n",
       "      <td>...</td>\n",
       "      <td>4.667718</td>\n",
       "      <td>4.606410</td>\n",
       "      <td>4.649124</td>\n",
       "      <td>4.763359</td>\n",
       "      <td>4.623522</td>\n",
       "      <td>4.519290</td>\n",
       "      <td>4.420960</td>\n",
       "      <td>4.867012</td>\n",
       "      <td>4.598111</td>\n",
       "      <td>4.722752</td>\n",
       "    </tr>\n",
       "    <tr>\n",
       "      <th>김주일</th>\n",
       "      <td>4.482729</td>\n",
       "      <td>4.529466</td>\n",
       "      <td>4.583375</td>\n",
       "      <td>4.448896</td>\n",
       "      <td>4.696974</td>\n",
       "      <td>4.542823</td>\n",
       "      <td>0.000000</td>\n",
       "      <td>4.283473</td>\n",
       "      <td>4.035632</td>\n",
       "      <td>4.208276</td>\n",
       "      <td>...</td>\n",
       "      <td>4.446609</td>\n",
       "      <td>4.431957</td>\n",
       "      <td>4.533393</td>\n",
       "      <td>4.532246</td>\n",
       "      <td>4.421401</td>\n",
       "      <td>4.344834</td>\n",
       "      <td>4.053312</td>\n",
       "      <td>4.646227</td>\n",
       "      <td>4.507272</td>\n",
       "      <td>4.532845</td>\n",
       "    </tr>\n",
       "    <tr>\n",
       "      <th>남궁진영</th>\n",
       "      <td>4.662724</td>\n",
       "      <td>4.742532</td>\n",
       "      <td>4.747902</td>\n",
       "      <td>4.612562</td>\n",
       "      <td>4.830967</td>\n",
       "      <td>4.779741</td>\n",
       "      <td>4.455284</td>\n",
       "      <td>4.468987</td>\n",
       "      <td>4.233698</td>\n",
       "      <td>4.441169</td>\n",
       "      <td>...</td>\n",
       "      <td>4.672733</td>\n",
       "      <td>4.593414</td>\n",
       "      <td>4.684056</td>\n",
       "      <td>4.783513</td>\n",
       "      <td>4.575810</td>\n",
       "      <td>4.517106</td>\n",
       "      <td>4.320480</td>\n",
       "      <td>4.836840</td>\n",
       "      <td>4.598330</td>\n",
       "      <td>4.706525</td>\n",
       "    </tr>\n",
       "    <tr>\n",
       "      <th>박선아</th>\n",
       "      <td>4.670624</td>\n",
       "      <td>4.793257</td>\n",
       "      <td>4.912127</td>\n",
       "      <td>4.633554</td>\n",
       "      <td>4.890381</td>\n",
       "      <td>4.820667</td>\n",
       "      <td>4.612806</td>\n",
       "      <td>4.513194</td>\n",
       "      <td>4.280611</td>\n",
       "      <td>4.435664</td>\n",
       "      <td>...</td>\n",
       "      <td>4.699388</td>\n",
       "      <td>4.604939</td>\n",
       "      <td>4.726378</td>\n",
       "      <td>4.771123</td>\n",
       "      <td>0.000000</td>\n",
       "      <td>4.585406</td>\n",
       "      <td>4.371212</td>\n",
       "      <td>4.909818</td>\n",
       "      <td>4.616073</td>\n",
       "      <td>4.721075</td>\n",
       "    </tr>\n",
       "    <tr>\n",
       "      <th>은하</th>\n",
       "      <td>4.653602</td>\n",
       "      <td>4.730489</td>\n",
       "      <td>4.772287</td>\n",
       "      <td>4.704027</td>\n",
       "      <td>4.846228</td>\n",
       "      <td>4.742090</td>\n",
       "      <td>4.514241</td>\n",
       "      <td>4.467850</td>\n",
       "      <td>4.160588</td>\n",
       "      <td>4.380339</td>\n",
       "      <td>...</td>\n",
       "      <td>4.582031</td>\n",
       "      <td>4.563915</td>\n",
       "      <td>4.717765</td>\n",
       "      <td>4.697012</td>\n",
       "      <td>4.550183</td>\n",
       "      <td>4.574297</td>\n",
       "      <td>4.095828</td>\n",
       "      <td>0.000000</td>\n",
       "      <td>4.629567</td>\n",
       "      <td>4.687042</td>\n",
       "    </tr>\n",
       "  </tbody>\n",
       "</table>\n",
       "<p>2237 rows × 33 columns</p>\n",
       "</div>"
      ],
      "text/plain": [
       "item_id             11.11 Gallery and Coffee  Abe Specialty Coffee    Amarna  \\\n",
       "user_id                                                                        \n",
       "01 มติมนต์ จํานงค์                  4.642687              4.758524  4.811040   \n",
       "113_kammika raksa                   4.659401              4.700998  4.752510   \n",
       "1904x                               0.000000              4.711330  4.745612   \n",
       "1984whatthehell                     4.686831              4.744906  4.780556   \n",
       "212ปาณิตตา ศิริชัย                  4.618261              4.763538  4.789677   \n",
       "...                                      ...                   ...       ...   \n",
       "蔡賢德Karanpon                         4.669485              4.739380  4.836994   \n",
       "김주일                                 4.482729              4.529466  4.583375   \n",
       "남궁진영                                4.662724              4.742532  4.747902   \n",
       "박선아                                 4.670624              4.793257  4.912127   \n",
       "은하                                  4.653602              4.730489  4.772287   \n",
       "\n",
       "item_id             Anna Roasters  Attaroast  BaanHuakham Cafe & Farmstay  \\\n",
       "user_id                                                                     \n",
       "01 มติมนต์ จํานงค์       4.576051   4.895267                     4.779906   \n",
       "113_kammika raksa        4.620323   4.829538                     4.717791   \n",
       "1904x                    4.681094   4.808398                     4.728588   \n",
       "1984whatthehell          0.000000   4.886066                     4.766865   \n",
       "212ปาณิตตา ศิริชัย       4.583628   0.000000                     4.702850   \n",
       "...                           ...        ...                          ...   \n",
       "蔡賢德Karanpon              4.576075   4.851763                     4.772129   \n",
       "김주일                      4.448896   4.696974                     4.542823   \n",
       "남궁진영                     4.612562   4.830967                     4.779741   \n",
       "박선아                      4.633554   4.890381                     4.820667   \n",
       "은하                       4.704027   4.846228                     4.742090   \n",
       "\n",
       "item_id             BalconyKiss Coffee  Blendstorm Coffee Roasters  \\\n",
       "user_id                                                              \n",
       "01 มติมนต์ จํานงค์            4.622884                    4.393860   \n",
       "113_kammika raksa             4.512422                    4.463519   \n",
       "1904x                         4.511622                    4.448529   \n",
       "1984whatthehell               4.611432                    4.460061   \n",
       "212ปาณิตตา ศิริชัย            4.602246                    4.414582   \n",
       "...                                ...                         ...   \n",
       "蔡賢德Karanpon                   4.551373                    4.457584   \n",
       "김주일                           0.000000                    4.283473   \n",
       "남궁진영                          4.455284                    4.468987   \n",
       "박선아                           4.612806                    4.513194   \n",
       "은하                            4.514241                    4.467850   \n",
       "\n",
       "item_id             Blues Coffee  Bossa cafe  ...  ROSIEHOLM  Rogue Roasters  \\\n",
       "user_id                                       ...                              \n",
       "01 มติมนต์ จํานงค์      4.233870    4.424323  ...   4.663462        4.579741   \n",
       "113_kammika raksa       4.235901    4.394731  ...   4.628018        4.594534   \n",
       "1904x                   4.174439    4.370752  ...   4.610266        4.620298   \n",
       "1984whatthehell         4.325770    4.509229  ...   4.695779        4.675655   \n",
       "212ปาณิตตา ศิริชัย      4.260254    4.379496  ...   4.618088        4.523699   \n",
       "...                          ...         ...  ...        ...             ...   \n",
       "蔡賢德Karanpon             4.208360    4.412421  ...   4.667718        4.606410   \n",
       "김주일                     4.035632    4.208276  ...   4.446609        4.431957   \n",
       "남궁진영                    4.233698    4.441169  ...   4.672733        4.593414   \n",
       "박선아                     4.280611    4.435664  ...   4.699388        4.604939   \n",
       "은하                      4.160588    4.380339  ...   4.582031        4.563915   \n",
       "\n",
       "item_id             Saereesook  Snoopcat Cafe  SongSarn  Stufe coffee  \\\n",
       "user_id                                                                 \n",
       "01 มติมนต์ จํานงค์    4.677969       4.750680  4.563372      4.564527   \n",
       "113_kammika raksa     4.678510       4.724751  4.617959      4.495217   \n",
       "1904x                 4.666194       4.713933  4.613213      4.477759   \n",
       "1984whatthehell       4.733437       4.758208  4.719417      4.575205   \n",
       "212ปาณิตตา ศิริชัย    4.723764       4.726250  4.554062      4.526515   \n",
       "...                        ...            ...       ...           ...   \n",
       "蔡賢德Karanpon           4.649124       4.763359  4.623522      4.519290   \n",
       "김주일                   4.533393       4.532246  4.421401      4.344834   \n",
       "남궁진영                  4.684056       4.783513  4.575810      4.517106   \n",
       "박선아                   4.726378       4.771123  0.000000      4.585406   \n",
       "은하                    4.717765       4.697012  4.550183      4.574297   \n",
       "\n",
       "item_id             Tree Cafe Rim Moon  Yuanjai Cafe  r o u n d    sangob  \n",
       "user_id                                                                    \n",
       "01 มติมนต์ จํานงค์            0.000000      4.903688   4.608954  4.768799  \n",
       "113_kammika raksa             4.268622      4.785483   4.637385  4.648925  \n",
       "1904x                         4.188838      4.792014   4.636062  4.666777  \n",
       "1984whatthehell               4.484779      4.889244   4.709502  4.805816  \n",
       "212ปาณิตตา ศิริชัย            4.230377      4.826025   4.586190  4.604468  \n",
       "...                                ...           ...        ...       ...  \n",
       "蔡賢德Karanpon                   4.420960      4.867012   4.598111  4.722752  \n",
       "김주일                           4.053312      4.646227   4.507272  4.532845  \n",
       "남궁진영                          4.320480      4.836840   4.598330  4.706525  \n",
       "박선아                           4.371212      4.909818   4.616073  4.721075  \n",
       "은하                            4.095828      0.000000   4.629567  4.687042  \n",
       "\n",
       "[2237 rows x 33 columns]"
      ]
     },
     "execution_count": 238,
     "metadata": {},
     "output_type": "execute_result"
    }
   ],
   "source": [
    "# Convert the predictions to a Pandas DataFrame\n",
    "pred_df = pd.DataFrame(loaded_algo[0], columns=['user_id', 'item_id', 'actual_rating', 'predicted_rating', 'details'])\n",
    "pred_df = pred_df.drop(columns=['details'])  # Drop the 'details' column\n",
    "\n",
    "# Manipulate the DataFrame as needed (e.g. filter by user, item, rating, etc.)\n",
    "pred_df.head()\n",
    "pd.pivot(pred_df,index='user_id',columns='item_id',values='predicted_rating').fillna(0)"
   ]
  },
  {
   "cell_type": "code",
   "execution_count": 202,
   "id": "c798bf12-f5aa-492e-997a-bb9cc76e02b1",
   "metadata": {},
   "outputs": [
    {
     "data": {
      "text/html": [
       "<div>\n",
       "<style scoped>\n",
       "    .dataframe tbody tr th:only-of-type {\n",
       "        vertical-align: middle;\n",
       "    }\n",
       "\n",
       "    .dataframe tbody tr th {\n",
       "        vertical-align: top;\n",
       "    }\n",
       "\n",
       "    .dataframe thead th {\n",
       "        text-align: right;\n",
       "    }\n",
       "</style>\n",
       "<table border=\"1\" class=\"dataframe\">\n",
       "  <thead>\n",
       "    <tr style=\"text-align: right;\">\n",
       "      <th></th>\n",
       "      <th>user_id</th>\n",
       "      <th>item_id</th>\n",
       "      <th>actual_rating</th>\n",
       "      <th>predicted_rating</th>\n",
       "    </tr>\n",
       "  </thead>\n",
       "  <tbody>\n",
       "    <tr>\n",
       "      <th>97</th>\n",
       "      <td>3</td>\n",
       "      <td>11</td>\n",
       "      <td>4.481617</td>\n",
       "      <td>4.792401</td>\n",
       "    </tr>\n",
       "    <tr>\n",
       "      <th>115</th>\n",
       "      <td>3</td>\n",
       "      <td>32</td>\n",
       "      <td>4.481617</td>\n",
       "      <td>4.774525</td>\n",
       "    </tr>\n",
       "    <tr>\n",
       "      <th>98</th>\n",
       "      <td>3</td>\n",
       "      <td>12</td>\n",
       "      <td>4.481617</td>\n",
       "      <td>4.605979</td>\n",
       "    </tr>\n",
       "    <tr>\n",
       "      <th>96</th>\n",
       "      <td>3</td>\n",
       "      <td>9</td>\n",
       "      <td>4.481617</td>\n",
       "      <td>4.555613</td>\n",
       "    </tr>\n",
       "    <tr>\n",
       "      <th>93</th>\n",
       "      <td>3</td>\n",
       "      <td>6</td>\n",
       "      <td>4.481617</td>\n",
       "      <td>4.553906</td>\n",
       "    </tr>\n",
       "    <tr>\n",
       "      <th>112</th>\n",
       "      <td>3</td>\n",
       "      <td>29</td>\n",
       "      <td>4.481617</td>\n",
       "      <td>4.535332</td>\n",
       "    </tr>\n",
       "    <tr>\n",
       "      <th>110</th>\n",
       "      <td>3</td>\n",
       "      <td>27</td>\n",
       "      <td>4.481617</td>\n",
       "      <td>4.481411</td>\n",
       "    </tr>\n",
       "    <tr>\n",
       "      <th>111</th>\n",
       "      <td>3</td>\n",
       "      <td>28</td>\n",
       "      <td>4.481617</td>\n",
       "      <td>4.420226</td>\n",
       "    </tr>\n",
       "    <tr>\n",
       "      <th>103</th>\n",
       "      <td>3</td>\n",
       "      <td>18</td>\n",
       "      <td>4.481617</td>\n",
       "      <td>4.386460</td>\n",
       "    </tr>\n",
       "    <tr>\n",
       "      <th>104</th>\n",
       "      <td>3</td>\n",
       "      <td>19</td>\n",
       "      <td>4.481617</td>\n",
       "      <td>4.375668</td>\n",
       "    </tr>\n",
       "    <tr>\n",
       "      <th>109</th>\n",
       "      <td>3</td>\n",
       "      <td>25</td>\n",
       "      <td>4.481617</td>\n",
       "      <td>4.358021</td>\n",
       "    </tr>\n",
       "    <tr>\n",
       "      <th>102</th>\n",
       "      <td>3</td>\n",
       "      <td>17</td>\n",
       "      <td>4.481617</td>\n",
       "      <td>4.328880</td>\n",
       "    </tr>\n",
       "    <tr>\n",
       "      <th>105</th>\n",
       "      <td>3</td>\n",
       "      <td>20</td>\n",
       "      <td>4.481617</td>\n",
       "      <td>4.314396</td>\n",
       "    </tr>\n",
       "    <tr>\n",
       "      <th>101</th>\n",
       "      <td>3</td>\n",
       "      <td>16</td>\n",
       "      <td>4.481617</td>\n",
       "      <td>4.298004</td>\n",
       "    </tr>\n",
       "    <tr>\n",
       "      <th>91</th>\n",
       "      <td>3</td>\n",
       "      <td>4</td>\n",
       "      <td>4.481617</td>\n",
       "      <td>4.261771</td>\n",
       "    </tr>\n",
       "    <tr>\n",
       "      <th>113</th>\n",
       "      <td>3</td>\n",
       "      <td>30</td>\n",
       "      <td>4.481617</td>\n",
       "      <td>4.256732</td>\n",
       "    </tr>\n",
       "    <tr>\n",
       "      <th>99</th>\n",
       "      <td>3</td>\n",
       "      <td>13</td>\n",
       "      <td>4.481617</td>\n",
       "      <td>4.250461</td>\n",
       "    </tr>\n",
       "    <tr>\n",
       "      <th>95</th>\n",
       "      <td>3</td>\n",
       "      <td>8</td>\n",
       "      <td>4.481617</td>\n",
       "      <td>4.224046</td>\n",
       "    </tr>\n",
       "    <tr>\n",
       "      <th>107</th>\n",
       "      <td>3</td>\n",
       "      <td>22</td>\n",
       "      <td>4.481617</td>\n",
       "      <td>4.209544</td>\n",
       "    </tr>\n",
       "    <tr>\n",
       "      <th>94</th>\n",
       "      <td>3</td>\n",
       "      <td>7</td>\n",
       "      <td>4.481617</td>\n",
       "      <td>4.206025</td>\n",
       "    </tr>\n",
       "    <tr>\n",
       "      <th>92</th>\n",
       "      <td>3</td>\n",
       "      <td>5</td>\n",
       "      <td>4.481617</td>\n",
       "      <td>4.204722</td>\n",
       "    </tr>\n",
       "    <tr>\n",
       "      <th>100</th>\n",
       "      <td>3</td>\n",
       "      <td>14</td>\n",
       "      <td>4.481617</td>\n",
       "      <td>4.149019</td>\n",
       "    </tr>\n",
       "    <tr>\n",
       "      <th>108</th>\n",
       "      <td>3</td>\n",
       "      <td>23</td>\n",
       "      <td>4.481617</td>\n",
       "      <td>4.124965</td>\n",
       "    </tr>\n",
       "    <tr>\n",
       "      <th>90</th>\n",
       "      <td>3</td>\n",
       "      <td>3</td>\n",
       "      <td>4.481617</td>\n",
       "      <td>4.111266</td>\n",
       "    </tr>\n",
       "    <tr>\n",
       "      <th>106</th>\n",
       "      <td>3</td>\n",
       "      <td>21</td>\n",
       "      <td>4.481617</td>\n",
       "      <td>4.071349</td>\n",
       "    </tr>\n",
       "    <tr>\n",
       "      <th>114</th>\n",
       "      <td>3</td>\n",
       "      <td>31</td>\n",
       "      <td>4.481617</td>\n",
       "      <td>3.694958</td>\n",
       "    </tr>\n",
       "  </tbody>\n",
       "</table>\n",
       "</div>"
      ],
      "text/plain": [
       "     user_id  item_id  actual_rating  predicted_rating\n",
       "97         3       11       4.481617          4.792401\n",
       "115        3       32       4.481617          4.774525\n",
       "98         3       12       4.481617          4.605979\n",
       "96         3        9       4.481617          4.555613\n",
       "93         3        6       4.481617          4.553906\n",
       "112        3       29       4.481617          4.535332\n",
       "110        3       27       4.481617          4.481411\n",
       "111        3       28       4.481617          4.420226\n",
       "103        3       18       4.481617          4.386460\n",
       "104        3       19       4.481617          4.375668\n",
       "109        3       25       4.481617          4.358021\n",
       "102        3       17       4.481617          4.328880\n",
       "105        3       20       4.481617          4.314396\n",
       "101        3       16       4.481617          4.298004\n",
       "91         3        4       4.481617          4.261771\n",
       "113        3       30       4.481617          4.256732\n",
       "99         3       13       4.481617          4.250461\n",
       "95         3        8       4.481617          4.224046\n",
       "107        3       22       4.481617          4.209544\n",
       "94         3        7       4.481617          4.206025\n",
       "92         3        5       4.481617          4.204722\n",
       "100        3       14       4.481617          4.149019\n",
       "108        3       23       4.481617          4.124965\n",
       "90         3        3       4.481617          4.111266\n",
       "106        3       21       4.481617          4.071349\n",
       "114        3       31       4.481617          3.694958"
      ]
     },
     "execution_count": 202,
     "metadata": {},
     "output_type": "execute_result"
    }
   ],
   "source": [
    "pred_df[pred_df['user_id'] == 3].sort_values(by='predicted_rating',ascending=False)"
   ]
  },
  {
   "cell_type": "markdown",
   "id": "b4ff325b-cc62-4f2a-ae3d-dae863122a88",
   "metadata": {},
   "source": [
    "```\n",
    "\n",
    "acutal rating\n",
    "\n",
    "```"
   ]
  },
  {
   "cell_type": "code",
   "execution_count": 20,
   "id": "4b8dfee5-5ea7-4e7c-a4bc-038725421c37",
   "metadata": {},
   "outputs": [],
   "source": [
    "aa = test[['User','Store','Rating']] "
   ]
  },
  {
   "cell_type": "code",
   "execution_count": 21,
   "id": "036a3ac4-b80b-4beb-a549-4ea0234989f3",
   "metadata": {},
   "outputs": [
    {
     "data": {
      "text/plain": [
       "array([2113,   26,  858, ...,  708, 1903, 1556])"
      ]
     },
     "execution_count": 21,
     "metadata": {},
     "output_type": "execute_result"
    }
   ],
   "source": [
    "pred_df['user_id'].unique()"
   ]
  },
  {
   "cell_type": "code",
   "execution_count": 22,
   "id": "d70b858e-d597-4092-a498-422f7d27261f",
   "metadata": {},
   "outputs": [
    {
     "data": {
      "text/plain": [
       "array([2113,   26,  858, ...,  708, 1903, 1556])"
      ]
     },
     "execution_count": 22,
     "metadata": {},
     "output_type": "execute_result"
    }
   ],
   "source": [
    "index2 = pred_df.user_id.unique()\n",
    "index2"
   ]
  },
  {
   "cell_type": "code",
   "execution_count": 23,
   "id": "2d37a37b-8327-4203-9380-336e7db40ea0",
   "metadata": {},
   "outputs": [
    {
     "ename": "ValueError",
     "evalue": "Index contains duplicate entries, cannot reshape",
     "output_type": "error",
     "traceback": [
      "\u001b[0;31m---------------------------------------------------------------------------\u001b[0m",
      "\u001b[0;31mValueError\u001b[0m                                Traceback (most recent call last)",
      "Cell \u001b[0;32mIn[23], line 1\u001b[0m\n\u001b[0;32m----> 1\u001b[0m \u001b[43maa\u001b[49m\u001b[38;5;241;43m.\u001b[39;49m\u001b[43mpivot\u001b[49m\u001b[43m(\u001b[49m\u001b[43mindex\u001b[49m\u001b[38;5;241;43m=\u001b[39;49m\u001b[38;5;124;43m'\u001b[39;49m\u001b[38;5;124;43mUser\u001b[39;49m\u001b[38;5;124;43m'\u001b[39;49m\u001b[43m,\u001b[49m\u001b[43mcolumns\u001b[49m\u001b[38;5;241;43m=\u001b[39;49m\u001b[38;5;124;43m'\u001b[39;49m\u001b[38;5;124;43mStore\u001b[39;49m\u001b[38;5;124;43m'\u001b[39;49m\u001b[43m,\u001b[49m\u001b[43mvalues\u001b[49m\u001b[38;5;241;43m=\u001b[39;49m\u001b[38;5;124;43m'\u001b[39;49m\u001b[38;5;124;43mRating\u001b[39;49m\u001b[38;5;124;43m'\u001b[39;49m\u001b[43m)\u001b[49m\n",
      "File \u001b[0;32m~/.pyenv/versions/3.10.0/envs/project_file/lib/python3.10/site-packages/pandas/util/_decorators.py:331\u001b[0m, in \u001b[0;36mdeprecate_nonkeyword_arguments.<locals>.decorate.<locals>.wrapper\u001b[0;34m(*args, **kwargs)\u001b[0m\n\u001b[1;32m    325\u001b[0m \u001b[38;5;28;01mif\u001b[39;00m \u001b[38;5;28mlen\u001b[39m(args) \u001b[38;5;241m>\u001b[39m num_allow_args:\n\u001b[1;32m    326\u001b[0m     warnings\u001b[38;5;241m.\u001b[39mwarn(\n\u001b[1;32m    327\u001b[0m         msg\u001b[38;5;241m.\u001b[39mformat(arguments\u001b[38;5;241m=\u001b[39m_format_argument_list(allow_args)),\n\u001b[1;32m    328\u001b[0m         \u001b[38;5;167;01mFutureWarning\u001b[39;00m,\n\u001b[1;32m    329\u001b[0m         stacklevel\u001b[38;5;241m=\u001b[39mfind_stack_level(),\n\u001b[1;32m    330\u001b[0m     )\n\u001b[0;32m--> 331\u001b[0m \u001b[38;5;28;01mreturn\u001b[39;00m \u001b[43mfunc\u001b[49m\u001b[43m(\u001b[49m\u001b[38;5;241;43m*\u001b[39;49m\u001b[43margs\u001b[49m\u001b[43m,\u001b[49m\u001b[43m \u001b[49m\u001b[38;5;241;43m*\u001b[39;49m\u001b[38;5;241;43m*\u001b[39;49m\u001b[43mkwargs\u001b[49m\u001b[43m)\u001b[49m\n",
      "File \u001b[0;32m~/.pyenv/versions/3.10.0/envs/project_file/lib/python3.10/site-packages/pandas/core/frame.py:8564\u001b[0m, in \u001b[0;36mDataFrame.pivot\u001b[0;34m(self, index, columns, values)\u001b[0m\n\u001b[1;32m   8558\u001b[0m \u001b[38;5;129m@Substitution\u001b[39m(\u001b[38;5;124m\"\u001b[39m\u001b[38;5;124m\"\u001b[39m)\n\u001b[1;32m   8559\u001b[0m \u001b[38;5;129m@Appender\u001b[39m(_shared_docs[\u001b[38;5;124m\"\u001b[39m\u001b[38;5;124mpivot\u001b[39m\u001b[38;5;124m\"\u001b[39m])\n\u001b[1;32m   8560\u001b[0m \u001b[38;5;129m@deprecate_nonkeyword_arguments\u001b[39m(version\u001b[38;5;241m=\u001b[39m\u001b[38;5;28;01mNone\u001b[39;00m, allowed_args\u001b[38;5;241m=\u001b[39m[\u001b[38;5;124m\"\u001b[39m\u001b[38;5;124mself\u001b[39m\u001b[38;5;124m\"\u001b[39m])\n\u001b[1;32m   8561\u001b[0m \u001b[38;5;28;01mdef\u001b[39;00m \u001b[38;5;21mpivot\u001b[39m(\u001b[38;5;28mself\u001b[39m, index\u001b[38;5;241m=\u001b[39m\u001b[38;5;28;01mNone\u001b[39;00m, columns\u001b[38;5;241m=\u001b[39m\u001b[38;5;28;01mNone\u001b[39;00m, values\u001b[38;5;241m=\u001b[39m\u001b[38;5;28;01mNone\u001b[39;00m) \u001b[38;5;241m-\u001b[39m\u001b[38;5;241m>\u001b[39m DataFrame:\n\u001b[1;32m   8562\u001b[0m     \u001b[38;5;28;01mfrom\u001b[39;00m \u001b[38;5;21;01mpandas\u001b[39;00m\u001b[38;5;21;01m.\u001b[39;00m\u001b[38;5;21;01mcore\u001b[39;00m\u001b[38;5;21;01m.\u001b[39;00m\u001b[38;5;21;01mreshape\u001b[39;00m\u001b[38;5;21;01m.\u001b[39;00m\u001b[38;5;21;01mpivot\u001b[39;00m \u001b[38;5;28;01mimport\u001b[39;00m pivot\n\u001b[0;32m-> 8564\u001b[0m     \u001b[38;5;28;01mreturn\u001b[39;00m \u001b[43mpivot\u001b[49m\u001b[43m(\u001b[49m\u001b[38;5;28;43mself\u001b[39;49m\u001b[43m,\u001b[49m\u001b[43m \u001b[49m\u001b[43mindex\u001b[49m\u001b[38;5;241;43m=\u001b[39;49m\u001b[43mindex\u001b[49m\u001b[43m,\u001b[49m\u001b[43m \u001b[49m\u001b[43mcolumns\u001b[49m\u001b[38;5;241;43m=\u001b[39;49m\u001b[43mcolumns\u001b[49m\u001b[43m,\u001b[49m\u001b[43m \u001b[49m\u001b[43mvalues\u001b[49m\u001b[38;5;241;43m=\u001b[39;49m\u001b[43mvalues\u001b[49m\u001b[43m)\u001b[49m\n",
      "File \u001b[0;32m~/.pyenv/versions/3.10.0/envs/project_file/lib/python3.10/site-packages/pandas/util/_decorators.py:331\u001b[0m, in \u001b[0;36mdeprecate_nonkeyword_arguments.<locals>.decorate.<locals>.wrapper\u001b[0;34m(*args, **kwargs)\u001b[0m\n\u001b[1;32m    325\u001b[0m \u001b[38;5;28;01mif\u001b[39;00m \u001b[38;5;28mlen\u001b[39m(args) \u001b[38;5;241m>\u001b[39m num_allow_args:\n\u001b[1;32m    326\u001b[0m     warnings\u001b[38;5;241m.\u001b[39mwarn(\n\u001b[1;32m    327\u001b[0m         msg\u001b[38;5;241m.\u001b[39mformat(arguments\u001b[38;5;241m=\u001b[39m_format_argument_list(allow_args)),\n\u001b[1;32m    328\u001b[0m         \u001b[38;5;167;01mFutureWarning\u001b[39;00m,\n\u001b[1;32m    329\u001b[0m         stacklevel\u001b[38;5;241m=\u001b[39mfind_stack_level(),\n\u001b[1;32m    330\u001b[0m     )\n\u001b[0;32m--> 331\u001b[0m \u001b[38;5;28;01mreturn\u001b[39;00m \u001b[43mfunc\u001b[49m\u001b[43m(\u001b[49m\u001b[38;5;241;43m*\u001b[39;49m\u001b[43margs\u001b[49m\u001b[43m,\u001b[49m\u001b[43m \u001b[49m\u001b[38;5;241;43m*\u001b[39;49m\u001b[38;5;241;43m*\u001b[39;49m\u001b[43mkwargs\u001b[49m\u001b[43m)\u001b[49m\n",
      "File \u001b[0;32m~/.pyenv/versions/3.10.0/envs/project_file/lib/python3.10/site-packages/pandas/core/reshape/pivot.py:540\u001b[0m, in \u001b[0;36mpivot\u001b[0;34m(data, index, columns, values)\u001b[0m\n\u001b[1;32m    536\u001b[0m         indexed \u001b[38;5;241m=\u001b[39m data\u001b[38;5;241m.\u001b[39m_constructor_sliced(data[values]\u001b[38;5;241m.\u001b[39m_values, index\u001b[38;5;241m=\u001b[39mmultiindex)\n\u001b[1;32m    537\u001b[0m \u001b[38;5;66;03m# error: Argument 1 to \"unstack\" of \"DataFrame\" has incompatible type \"Union\u001b[39;00m\n\u001b[1;32m    538\u001b[0m \u001b[38;5;66;03m# [List[Any], ExtensionArray, ndarray[Any, Any], Index, Series]\"; expected\u001b[39;00m\n\u001b[1;32m    539\u001b[0m \u001b[38;5;66;03m# \"Hashable\"\u001b[39;00m\n\u001b[0;32m--> 540\u001b[0m \u001b[38;5;28;01mreturn\u001b[39;00m \u001b[43mindexed\u001b[49m\u001b[38;5;241;43m.\u001b[39;49m\u001b[43munstack\u001b[49m\u001b[43m(\u001b[49m\u001b[43mcolumns_listlike\u001b[49m\u001b[43m)\u001b[49m\n",
      "File \u001b[0;32m~/.pyenv/versions/3.10.0/envs/project_file/lib/python3.10/site-packages/pandas/core/series.py:4455\u001b[0m, in \u001b[0;36mSeries.unstack\u001b[0;34m(self, level, fill_value)\u001b[0m\n\u001b[1;32m   4412\u001b[0m \u001b[38;5;250m\u001b[39m\u001b[38;5;124;03m\"\"\"\u001b[39;00m\n\u001b[1;32m   4413\u001b[0m \u001b[38;5;124;03mUnstack, also known as pivot, Series with MultiIndex to produce DataFrame.\u001b[39;00m\n\u001b[1;32m   4414\u001b[0m \n\u001b[0;32m   (...)\u001b[0m\n\u001b[1;32m   4451\u001b[0m \u001b[38;5;124;03mb    2    4\u001b[39;00m\n\u001b[1;32m   4452\u001b[0m \u001b[38;5;124;03m\"\"\"\u001b[39;00m\n\u001b[1;32m   4453\u001b[0m \u001b[38;5;28;01mfrom\u001b[39;00m \u001b[38;5;21;01mpandas\u001b[39;00m\u001b[38;5;21;01m.\u001b[39;00m\u001b[38;5;21;01mcore\u001b[39;00m\u001b[38;5;21;01m.\u001b[39;00m\u001b[38;5;21;01mreshape\u001b[39;00m\u001b[38;5;21;01m.\u001b[39;00m\u001b[38;5;21;01mreshape\u001b[39;00m \u001b[38;5;28;01mimport\u001b[39;00m unstack\n\u001b[0;32m-> 4455\u001b[0m \u001b[38;5;28;01mreturn\u001b[39;00m \u001b[43munstack\u001b[49m\u001b[43m(\u001b[49m\u001b[38;5;28;43mself\u001b[39;49m\u001b[43m,\u001b[49m\u001b[43m \u001b[49m\u001b[43mlevel\u001b[49m\u001b[43m,\u001b[49m\u001b[43m \u001b[49m\u001b[43mfill_value\u001b[49m\u001b[43m)\u001b[49m\n",
      "File \u001b[0;32m~/.pyenv/versions/3.10.0/envs/project_file/lib/python3.10/site-packages/pandas/core/reshape/reshape.py:489\u001b[0m, in \u001b[0;36munstack\u001b[0;34m(obj, level, fill_value)\u001b[0m\n\u001b[1;32m    487\u001b[0m \u001b[38;5;28;01mif\u001b[39;00m is_1d_only_ea_dtype(obj\u001b[38;5;241m.\u001b[39mdtype):\n\u001b[1;32m    488\u001b[0m     \u001b[38;5;28;01mreturn\u001b[39;00m _unstack_extension_series(obj, level, fill_value)\n\u001b[0;32m--> 489\u001b[0m unstacker \u001b[38;5;241m=\u001b[39m \u001b[43m_Unstacker\u001b[49m\u001b[43m(\u001b[49m\n\u001b[1;32m    490\u001b[0m \u001b[43m    \u001b[49m\u001b[43mobj\u001b[49m\u001b[38;5;241;43m.\u001b[39;49m\u001b[43mindex\u001b[49m\u001b[43m,\u001b[49m\u001b[43m \u001b[49m\u001b[43mlevel\u001b[49m\u001b[38;5;241;43m=\u001b[39;49m\u001b[43mlevel\u001b[49m\u001b[43m,\u001b[49m\u001b[43m \u001b[49m\u001b[43mconstructor\u001b[49m\u001b[38;5;241;43m=\u001b[39;49m\u001b[43mobj\u001b[49m\u001b[38;5;241;43m.\u001b[39;49m\u001b[43m_constructor_expanddim\u001b[49m\n\u001b[1;32m    491\u001b[0m \u001b[43m\u001b[49m\u001b[43m)\u001b[49m\n\u001b[1;32m    492\u001b[0m \u001b[38;5;28;01mreturn\u001b[39;00m unstacker\u001b[38;5;241m.\u001b[39mget_result(\n\u001b[1;32m    493\u001b[0m     obj\u001b[38;5;241m.\u001b[39m_values, value_columns\u001b[38;5;241m=\u001b[39m\u001b[38;5;28;01mNone\u001b[39;00m, fill_value\u001b[38;5;241m=\u001b[39mfill_value\n\u001b[1;32m    494\u001b[0m )\n",
      "File \u001b[0;32m~/.pyenv/versions/3.10.0/envs/project_file/lib/python3.10/site-packages/pandas/core/reshape/reshape.py:137\u001b[0m, in \u001b[0;36m_Unstacker.__init__\u001b[0;34m(self, index, level, constructor)\u001b[0m\n\u001b[1;32m    129\u001b[0m \u001b[38;5;28;01mif\u001b[39;00m num_cells \u001b[38;5;241m>\u001b[39m np\u001b[38;5;241m.\u001b[39miinfo(np\u001b[38;5;241m.\u001b[39mint32)\u001b[38;5;241m.\u001b[39mmax:\n\u001b[1;32m    130\u001b[0m     warnings\u001b[38;5;241m.\u001b[39mwarn(\n\u001b[1;32m    131\u001b[0m         \u001b[38;5;124mf\u001b[39m\u001b[38;5;124m\"\u001b[39m\u001b[38;5;124mThe following operation may generate \u001b[39m\u001b[38;5;132;01m{\u001b[39;00mnum_cells\u001b[38;5;132;01m}\u001b[39;00m\u001b[38;5;124m cells \u001b[39m\u001b[38;5;124m\"\u001b[39m\n\u001b[1;32m    132\u001b[0m         \u001b[38;5;124mf\u001b[39m\u001b[38;5;124m\"\u001b[39m\u001b[38;5;124min the resulting pandas object.\u001b[39m\u001b[38;5;124m\"\u001b[39m,\n\u001b[1;32m    133\u001b[0m         PerformanceWarning,\n\u001b[1;32m    134\u001b[0m         stacklevel\u001b[38;5;241m=\u001b[39mfind_stack_level(),\n\u001b[1;32m    135\u001b[0m     )\n\u001b[0;32m--> 137\u001b[0m \u001b[38;5;28;43mself\u001b[39;49m\u001b[38;5;241;43m.\u001b[39;49m\u001b[43m_make_selectors\u001b[49m\u001b[43m(\u001b[49m\u001b[43m)\u001b[49m\n",
      "File \u001b[0;32m~/.pyenv/versions/3.10.0/envs/project_file/lib/python3.10/site-packages/pandas/core/reshape/reshape.py:189\u001b[0m, in \u001b[0;36m_Unstacker._make_selectors\u001b[0;34m(self)\u001b[0m\n\u001b[1;32m    186\u001b[0m mask\u001b[38;5;241m.\u001b[39mput(selector, \u001b[38;5;28;01mTrue\u001b[39;00m)\n\u001b[1;32m    188\u001b[0m \u001b[38;5;28;01mif\u001b[39;00m mask\u001b[38;5;241m.\u001b[39msum() \u001b[38;5;241m<\u001b[39m \u001b[38;5;28mlen\u001b[39m(\u001b[38;5;28mself\u001b[39m\u001b[38;5;241m.\u001b[39mindex):\n\u001b[0;32m--> 189\u001b[0m     \u001b[38;5;28;01mraise\u001b[39;00m \u001b[38;5;167;01mValueError\u001b[39;00m(\u001b[38;5;124m\"\u001b[39m\u001b[38;5;124mIndex contains duplicate entries, cannot reshape\u001b[39m\u001b[38;5;124m\"\u001b[39m)\n\u001b[1;32m    191\u001b[0m \u001b[38;5;28mself\u001b[39m\u001b[38;5;241m.\u001b[39mgroup_index \u001b[38;5;241m=\u001b[39m comp_index\n\u001b[1;32m    192\u001b[0m \u001b[38;5;28mself\u001b[39m\u001b[38;5;241m.\u001b[39mmask \u001b[38;5;241m=\u001b[39m mask\n",
      "\u001b[0;31mValueError\u001b[0m: Index contains duplicate entries, cannot reshape"
     ]
    }
   ],
   "source": [
    "aa.pivot(index='User',columns='Store',values='Rating')"
   ]
  },
  {
   "cell_type": "code",
   "execution_count": 24,
   "id": "9e87971b-95c7-462b-ba0f-fe5362c42fb5",
   "metadata": {},
   "outputs": [
    {
     "data": {
      "text/html": [
       "<div>\n",
       "<style scoped>\n",
       "    .dataframe tbody tr th:only-of-type {\n",
       "        vertical-align: middle;\n",
       "    }\n",
       "\n",
       "    .dataframe tbody tr th {\n",
       "        vertical-align: top;\n",
       "    }\n",
       "\n",
       "    .dataframe thead th {\n",
       "        text-align: right;\n",
       "    }\n",
       "</style>\n",
       "<table border=\"1\" class=\"dataframe\">\n",
       "  <thead>\n",
       "    <tr style=\"text-align: right;\">\n",
       "      <th></th>\n",
       "      <th>User</th>\n",
       "      <th>Store</th>\n",
       "      <th>Rating</th>\n",
       "    </tr>\n",
       "  </thead>\n",
       "  <tbody>\n",
       "    <tr>\n",
       "      <th>7</th>\n",
       "      <td>7</td>\n",
       "      <td>0</td>\n",
       "      <td>4</td>\n",
       "    </tr>\n",
       "    <tr>\n",
       "      <th>200</th>\n",
       "      <td>7</td>\n",
       "      <td>1</td>\n",
       "      <td>4</td>\n",
       "    </tr>\n",
       "    <tr>\n",
       "      <th>859</th>\n",
       "      <td>7</td>\n",
       "      <td>6</td>\n",
       "      <td>4</td>\n",
       "    </tr>\n",
       "    <tr>\n",
       "      <th>1203</th>\n",
       "      <td>7</td>\n",
       "      <td>10</td>\n",
       "      <td>3</td>\n",
       "    </tr>\n",
       "    <tr>\n",
       "      <th>1323</th>\n",
       "      <td>7</td>\n",
       "      <td>14</td>\n",
       "      <td>4</td>\n",
       "    </tr>\n",
       "    <tr>\n",
       "      <th>1837</th>\n",
       "      <td>7</td>\n",
       "      <td>18</td>\n",
       "      <td>3</td>\n",
       "    </tr>\n",
       "    <tr>\n",
       "      <th>1893</th>\n",
       "      <td>7</td>\n",
       "      <td>19</td>\n",
       "      <td>4</td>\n",
       "    </tr>\n",
       "    <tr>\n",
       "      <th>2505</th>\n",
       "      <td>7</td>\n",
       "      <td>24</td>\n",
       "      <td>4</td>\n",
       "    </tr>\n",
       "    <tr>\n",
       "      <th>2625</th>\n",
       "      <td>7</td>\n",
       "      <td>28</td>\n",
       "      <td>4</td>\n",
       "    </tr>\n",
       "    <tr>\n",
       "      <th>2751</th>\n",
       "      <td>7</td>\n",
       "      <td>29</td>\n",
       "      <td>5</td>\n",
       "    </tr>\n",
       "    <tr>\n",
       "      <th>2879</th>\n",
       "      <td>7</td>\n",
       "      <td>30</td>\n",
       "      <td>3</td>\n",
       "    </tr>\n",
       "  </tbody>\n",
       "</table>\n",
       "</div>"
      ],
      "text/plain": [
       "      User  Store  Rating\n",
       "7        7      0       4\n",
       "200      7      1       4\n",
       "859      7      6       4\n",
       "1203     7     10       3\n",
       "1323     7     14       4\n",
       "1837     7     18       3\n",
       "1893     7     19       4\n",
       "2505     7     24       4\n",
       "2625     7     28       4\n",
       "2751     7     29       5\n",
       "2879     7     30       3"
      ]
     },
     "execution_count": 24,
     "metadata": {},
     "output_type": "execute_result"
    }
   ],
   "source": [
    "aa = test[['User','Store','Rating']] \n",
    "aa[aa['User'] == 7]"
   ]
  },
  {
   "cell_type": "code",
   "execution_count": 26,
   "id": "566331b0-4442-4af9-896c-325bf97da41d",
   "metadata": {},
   "outputs": [
    {
     "data": {
      "text/html": [
       "<div>\n",
       "<style scoped>\n",
       "    .dataframe tbody tr th:only-of-type {\n",
       "        vertical-align: middle;\n",
       "    }\n",
       "\n",
       "    .dataframe tbody tr th {\n",
       "        vertical-align: top;\n",
       "    }\n",
       "\n",
       "    .dataframe thead th {\n",
       "        text-align: right;\n",
       "    }\n",
       "</style>\n",
       "<table border=\"1\" class=\"dataframe\">\n",
       "  <thead>\n",
       "    <tr style=\"text-align: right;\">\n",
       "      <th></th>\n",
       "      <th>user_id</th>\n",
       "      <th>item_id</th>\n",
       "      <th>actual_rating</th>\n",
       "      <th>predicted_rating</th>\n",
       "    </tr>\n",
       "  </thead>\n",
       "  <tbody>\n",
       "    <tr>\n",
       "      <th>0</th>\n",
       "      <td>2113</td>\n",
       "      <td>0</td>\n",
       "      <td>4.478723</td>\n",
       "      <td>5.000000</td>\n",
       "    </tr>\n",
       "    <tr>\n",
       "      <th>1</th>\n",
       "      <td>2113</td>\n",
       "      <td>7</td>\n",
       "      <td>4.478723</td>\n",
       "      <td>4.694083</td>\n",
       "    </tr>\n",
       "    <tr>\n",
       "      <th>2</th>\n",
       "      <td>2113</td>\n",
       "      <td>18</td>\n",
       "      <td>4.478723</td>\n",
       "      <td>5.000000</td>\n",
       "    </tr>\n",
       "    <tr>\n",
       "      <th>3</th>\n",
       "      <td>2113</td>\n",
       "      <td>5</td>\n",
       "      <td>4.478723</td>\n",
       "      <td>4.707048</td>\n",
       "    </tr>\n",
       "    <tr>\n",
       "      <th>4</th>\n",
       "      <td>2113</td>\n",
       "      <td>12</td>\n",
       "      <td>4.478723</td>\n",
       "      <td>4.720241</td>\n",
       "    </tr>\n",
       "    <tr>\n",
       "      <th>...</th>\n",
       "      <td>...</td>\n",
       "      <td>...</td>\n",
       "      <td>...</td>\n",
       "      <td>...</td>\n",
       "    </tr>\n",
       "    <tr>\n",
       "      <th>59276</th>\n",
       "      <td>1556</td>\n",
       "      <td>27</td>\n",
       "      <td>4.478723</td>\n",
       "      <td>4.398202</td>\n",
       "    </tr>\n",
       "    <tr>\n",
       "      <th>59277</th>\n",
       "      <td>1556</td>\n",
       "      <td>29</td>\n",
       "      <td>4.478723</td>\n",
       "      <td>4.453320</td>\n",
       "    </tr>\n",
       "    <tr>\n",
       "      <th>59278</th>\n",
       "      <td>1556</td>\n",
       "      <td>24</td>\n",
       "      <td>4.478723</td>\n",
       "      <td>4.498115</td>\n",
       "    </tr>\n",
       "    <tr>\n",
       "      <th>59279</th>\n",
       "      <td>1556</td>\n",
       "      <td>13</td>\n",
       "      <td>4.478723</td>\n",
       "      <td>4.054822</td>\n",
       "    </tr>\n",
       "    <tr>\n",
       "      <th>59280</th>\n",
       "      <td>1556</td>\n",
       "      <td>25</td>\n",
       "      <td>4.478723</td>\n",
       "      <td>4.399061</td>\n",
       "    </tr>\n",
       "  </tbody>\n",
       "</table>\n",
       "<p>59281 rows × 4 columns</p>\n",
       "</div>"
      ],
      "text/plain": [
       "       user_id  item_id  actual_rating  predicted_rating\n",
       "0         2113        0       4.478723          5.000000\n",
       "1         2113        7       4.478723          4.694083\n",
       "2         2113       18       4.478723          5.000000\n",
       "3         2113        5       4.478723          4.707048\n",
       "4         2113       12       4.478723          4.720241\n",
       "...        ...      ...            ...               ...\n",
       "59276     1556       27       4.478723          4.398202\n",
       "59277     1556       29       4.478723          4.453320\n",
       "59278     1556       24       4.478723          4.498115\n",
       "59279     1556       13       4.478723          4.054822\n",
       "59280     1556       25       4.478723          4.399061\n",
       "\n",
       "[59281 rows x 4 columns]"
      ]
     },
     "execution_count": 26,
     "metadata": {},
     "output_type": "execute_result"
    }
   ],
   "source": [
    "pred_df = pd.DataFrame(predictions, columns=['user_id', 'item_id', 'actual_rating', 'predicted_rating', 'details'])\n",
    "pred_df = pred_df.drop(columns=['details'])  # Drop the 'details' column\n",
    "\n",
    "# Manipulate the DataFrame as needed (e.g. filter by user, item, rating, etc.)\n",
    "pred_df\n"
   ]
  },
  {
   "cell_type": "code",
   "execution_count": 414,
   "id": "bfbdce51-9f17-4f40-bb53-a8449072ca01",
   "metadata": {},
   "outputs": [
    {
     "data": {
      "text/plain": [
       "'KNN_BASIC 1.858 SVD 1.839 NMF 2.429'"
      ]
     },
     "execution_count": 414,
     "metadata": {},
     "output_type": "execute_result"
    }
   ],
   "source": [
    "'KNN_BASIC 1.858 SVD 1.839 NMF 2.429'"
   ]
  },
  {
   "cell_type": "markdown",
   "id": "75f5bbcd-2e72-47e6-861c-16df962644d0",
   "metadata": {
    "jp-MarkdownHeadingCollapsed": true,
    "tags": []
   },
   "source": [
    "## kfold and cross_validate"
   ]
  },
  {
   "cell_type": "code",
   "execution_count": 405,
   "id": "a914c874-c706-41c4-9dd0-2bdd520f8d95",
   "metadata": {},
   "outputs": [
    {
     "name": "stdout",
     "output_type": "stream",
     "text": [
      "Computing the msd similarity matrix...\n",
      "Done computing similarity matrix.\n",
      "RMSE: 0.7412\n",
      "MAE:  0.5874\n",
      "Computing the msd similarity matrix...\n",
      "Done computing similarity matrix.\n",
      "RMSE: 0.7814\n",
      "MAE:  0.5932\n",
      "Computing the msd similarity matrix...\n",
      "Done computing similarity matrix.\n",
      "RMSE: 0.7785\n",
      "MAE:  0.6015\n",
      "Computing the msd similarity matrix...\n",
      "Done computing similarity matrix.\n",
      "RMSE: 0.7077\n",
      "MAE:  0.5680\n",
      "Computing the msd similarity matrix...\n",
      "Done computing similarity matrix.\n",
      "RMSE: 0.8116\n",
      "MAE:  0.6276\n"
     ]
    }
   ],
   "source": [
    "\n",
    "kf = KFold(n_splits=5)\n",
    "\n",
    "algo = KNNBasic(n_epochs=15,n_factors=20)\n",
    "\n",
    "for trainset, testset in kf.split(dataset):\n",
    "\n",
    "    algo.fit(trainset)\n",
    "    predictions = algo.test(testset)\n",
    "\n",
    "    accuracy.rmse(predictions, verbose=True)\n",
    "    accuracy.mae(predictions, verbose=True)"
   ]
  },
  {
   "cell_type": "code",
   "execution_count": 406,
   "id": "bb350956-57f7-4a20-b056-1bb07642a329",
   "metadata": {},
   "outputs": [
    {
     "name": "stdout",
     "output_type": "stream",
     "text": [
      "Computing the msd similarity matrix...\n",
      "Done computing similarity matrix.\n",
      "Computing the msd similarity matrix...\n",
      "Done computing similarity matrix.\n",
      "Computing the msd similarity matrix...\n",
      "Done computing similarity matrix.\n",
      "Computing the msd similarity matrix...\n",
      "Done computing similarity matrix.\n",
      "Computing the msd similarity matrix...\n",
      "Done computing similarity matrix.\n",
      "Evaluating RMSE, MAE of algorithm KNNBasic on 5 split(s).\n",
      "\n",
      "                  Fold 1  Fold 2  Fold 3  Fold 4  Fold 5  Mean    Std     \n",
      "RMSE (testset)    0.7692  0.7525  0.7729  0.7473  0.7821  0.7648  0.0130  \n",
      "MAE (testset)     0.6040  0.5821  0.5942  0.5769  0.6073  0.5929  0.0119  \n",
      "Fit time          0.02    0.02    0.01    0.01    0.02    0.02    0.00    \n",
      "Test time         0.01    0.01    0.01    0.01    0.01    0.01    0.00    \n"
     ]
    },
    {
     "data": {
      "text/plain": [
       "{'test_rmse': array([0.7691749 , 0.7524657 , 0.77289847, 0.7473327 , 0.78213092]),\n",
       " 'test_mae': array([0.6039838 , 0.58208995, 0.59422358, 0.57690911, 0.60725956]),\n",
       " 'fit_time': (0.018815994262695312,\n",
       "  0.015785932540893555,\n",
       "  0.014384031295776367,\n",
       "  0.01396799087524414,\n",
       "  0.015086889266967773),\n",
       " 'test_time': (0.014441967010498047,\n",
       "  0.013126850128173828,\n",
       "  0.012857675552368164,\n",
       "  0.012783050537109375,\n",
       "  0.012784242630004883)}"
      ]
     },
     "execution_count": 406,
     "metadata": {},
     "output_type": "execute_result"
    }
   ],
   "source": [
    "cross_validate(algo, dataset, measures=[\"RMSE\", \"MAE\"], cv=5, verbose=True)"
   ]
  },
  {
   "cell_type": "code",
   "execution_count": 407,
   "id": "f7748d6a-2d80-43ca-a5e9-0099cdd6bc10",
   "metadata": {},
   "outputs": [
    {
     "name": "stdout",
     "output_type": "stream",
     "text": [
      "RMSE: 0.7584\n",
      "MAE:  0.5925\n",
      "RMSE: 0.8006\n",
      "MAE:  0.6109\n",
      "RMSE: 0.7692\n",
      "MAE:  0.6067\n",
      "RMSE: 0.7247\n",
      "MAE:  0.5877\n",
      "RMSE: 0.7337\n",
      "MAE:  0.5799\n"
     ]
    }
   ],
   "source": [
    "\n",
    "kf = KFold(n_splits=5)\n",
    "\n",
    "algo = SVD(n_epochs=15,n_factors=20)\n",
    "\n",
    "for trainset, testset in kf.split(dataset):\n",
    "\n",
    "    algo.fit(trainset)\n",
    "    predictions = algo.test(testset)\n",
    "\n",
    "    accuracy.rmse(predictions, verbose=True)\n",
    "    accuracy.mae(predictions, verbose=True)"
   ]
  },
  {
   "cell_type": "code",
   "execution_count": 408,
   "id": "cc588376-b1a9-4175-9fac-ef978ba95ea3",
   "metadata": {},
   "outputs": [
    {
     "name": "stdout",
     "output_type": "stream",
     "text": [
      "Evaluating RMSE, MAE of algorithm SVD on 5 split(s).\n",
      "\n",
      "                  Fold 1  Fold 2  Fold 3  Fold 4  Fold 5  Mean    Std     \n",
      "RMSE (testset)    0.7630  0.7505  0.7757  0.7200  0.7846  0.7587  0.0225  \n",
      "MAE (testset)     0.5989  0.5863  0.6016  0.5848  0.6110  0.5965  0.0098  \n",
      "Fit time          0.02    0.01    0.01    0.01    0.01    0.01    0.00    \n",
      "Test time         0.00    0.00    0.00    0.00    0.00    0.00    0.00    \n"
     ]
    },
    {
     "data": {
      "text/plain": [
       "{'test_rmse': array([0.76302949, 0.75046462, 0.77567043, 0.72001091, 0.78457219]),\n",
       " 'test_mae': array([0.59894529, 0.58632191, 0.6015579 , 0.58482217, 0.61104713]),\n",
       " 'fit_time': (0.01611328125,\n",
       "  0.006929874420166016,\n",
       "  0.005654811859130859,\n",
       "  0.005730152130126953,\n",
       "  0.005106210708618164),\n",
       " 'test_time': (0.0020232200622558594,\n",
       "  0.0018689632415771484,\n",
       "  0.0017139911651611328,\n",
       "  0.0017409324645996094,\n",
       "  0.0016248226165771484)}"
      ]
     },
     "execution_count": 408,
     "metadata": {},
     "output_type": "execute_result"
    }
   ],
   "source": [
    "cross_validate(algo, dataset, measures=[\"RMSE\", \"MAE\"], cv=5, verbose=True)"
   ]
  },
  {
   "cell_type": "markdown",
   "id": "83cf8ba3-12f7-41f3-9d59-c0c82a9b1230",
   "metadata": {},
   "source": [
    "```\n",
    "\n",
    "model NMF\n",
    "\n",
    "```"
   ]
  },
  {
   "cell_type": "code",
   "execution_count": 409,
   "id": "8f5d7938-1e9e-4d09-a4fd-7c8df3332c8c",
   "metadata": {},
   "outputs": [
    {
     "name": "stdout",
     "output_type": "stream",
     "text": [
      "RMSE: 0.8644\n",
      "MAE:  0.7129\n",
      "RMSE: 0.8438\n",
      "MAE:  0.6997\n",
      "RMSE: 0.8849\n",
      "MAE:  0.7287\n",
      "RMSE: 0.9882\n",
      "MAE:  0.7841\n",
      "RMSE: 0.8758\n",
      "MAE:  0.7244\n"
     ]
    }
   ],
   "source": [
    "kf = KFold(n_splits=5)\n",
    "\n",
    "algo = NMF(n_epochs=15,n_factors=20)\n",
    "\n",
    "for trainset, testset in kf.split(dataset):\n",
    "\n",
    "    algo.fit(trainset)\n",
    "    predictions = algo.test(testset)\n",
    "\n",
    "    accuracy.rmse(predictions, verbose=True)\n",
    "    accuracy.mae(predictions, verbose=True)"
   ]
  },
  {
   "cell_type": "code",
   "execution_count": 410,
   "id": "b8922f56-8c82-422a-a80d-fb6735a7287b",
   "metadata": {},
   "outputs": [
    {
     "name": "stdout",
     "output_type": "stream",
     "text": [
      "Evaluating RMSE, MAE of algorithm NMF on 5 split(s).\n",
      "\n",
      "                  Fold 1  Fold 2  Fold 3  Fold 4  Fold 5  Mean    Std     \n",
      "RMSE (testset)    0.9332  0.9122  0.8882  0.8866  0.8642  0.8969  0.0237  \n",
      "MAE (testset)     0.7671  0.7450  0.6988  0.7438  0.7196  0.7349  0.0235  \n",
      "Fit time          0.05    0.03    0.03    0.03    0.03    0.03    0.01    \n",
      "Test time         0.00    0.00    0.00    0.00    0.00    0.00    0.00    \n"
     ]
    },
    {
     "data": {
      "text/plain": [
       "{'test_rmse': array([0.93316902, 0.9122484 , 0.88817373, 0.88657443, 0.86415347]),\n",
       " 'test_mae': array([0.76708484, 0.7449542 , 0.69880775, 0.74380891, 0.71962204]),\n",
       " 'fit_time': (0.050724029541015625,\n",
       "  0.030019044876098633,\n",
       "  0.025758028030395508,\n",
       "  0.02643609046936035,\n",
       "  0.025714874267578125),\n",
       " 'test_time': (0.0025420188903808594,\n",
       "  0.0014619827270507812,\n",
       "  0.0015139579772949219,\n",
       "  0.0016829967498779297,\n",
       "  0.0015151500701904297)}"
      ]
     },
     "execution_count": 410,
     "metadata": {},
     "output_type": "execute_result"
    }
   ],
   "source": [
    "cross_validate(algo, dataset, measures=[\"RMSE\", \"MAE\"], cv=5, verbose=True)"
   ]
  },
  {
   "cell_type": "markdown",
   "id": "c528da57-7317-4431-8ad0-309c9fffb1ca",
   "metadata": {
    "jp-MarkdownHeadingCollapsed": true,
    "tags": []
   },
   "source": [
    "## TRY MORE"
   ]
  },
  {
   "cell_type": "code",
   "execution_count": 297,
   "id": "91b2441b-e8ff-4ae3-87d8-f8e03663709f",
   "metadata": {},
   "outputs": [],
   "source": [
    "trainset = dataset.build_full_trainset()\n",
    "testset = trainset.build_testset()"
   ]
  },
  {
   "cell_type": "code",
   "execution_count": null,
   "id": "be956215-749d-4c9b-b65a-f9ecec67320d",
   "metadata": {},
   "outputs": [],
   "source": []
  },
  {
   "cell_type": "code",
   "execution_count": 300,
   "id": "a0db6f06-65ac-4939-8c83-1e1d79656de5",
   "metadata": {},
   "outputs": [
    {
     "data": {
      "text/plain": [
       "2237"
      ]
     },
     "execution_count": 300,
     "metadata": {},
     "output_type": "execute_result"
    }
   ],
   "source": [
    "trainset.n_users"
   ]
  },
  {
   "cell_type": "code",
   "execution_count": 304,
   "id": "a9e1151e-7ceb-4212-9501-234b60fced1c",
   "metadata": {},
   "outputs": [
    {
     "data": {
      "text/plain": [
       "<surprise.prediction_algorithms.matrix_factorization.SVD at 0x28d3f0a30>"
      ]
     },
     "execution_count": 304,
     "metadata": {},
     "output_type": "execute_result"
    }
   ],
   "source": [
    "algo = SVD(n_epochs=15,n_factors=20)\n",
    "\n",
    "algo.fit(trainset)\n"
   ]
  },
  {
   "cell_type": "code",
   "execution_count": 344,
   "id": "8624591c-7a52-4165-849a-be6d9d546a8f",
   "metadata": {},
   "outputs": [],
   "source": [
    "predictions = algo.predict(0,33).est"
   ]
  },
  {
   "cell_type": "code",
   "execution_count": 345,
   "id": "f052578c-1de1-4893-bb33-20274faf5897",
   "metadata": {},
   "outputs": [
    {
     "ename": "NameError",
     "evalue": "name 'pre' is not defined",
     "output_type": "error",
     "traceback": [
      "\u001b[0;31m---------------------------------------------------------------------------\u001b[0m",
      "\u001b[0;31mNameError\u001b[0m                                 Traceback (most recent call last)",
      "Cell \u001b[0;32mIn[345], line 1\u001b[0m\n\u001b[0;32m----> 1\u001b[0m \u001b[43mpre\u001b[49m\n",
      "\u001b[0;31mNameError\u001b[0m: name 'pre' is not defined"
     ]
    }
   ],
   "source": [
    "pre"
   ]
  },
  {
   "cell_type": "code",
   "execution_count": null,
   "id": "4ba115f2-51f7-40c7-b5d0-5cb329eb7be4",
   "metadata": {},
   "outputs": [],
   "source": []
  },
  {
   "cell_type": "code",
   "execution_count": 254,
   "id": "f2088e48-3640-4980-a43a-595e18374ffe",
   "metadata": {},
   "outputs": [
    {
     "name": "stdout",
     "output_type": "stream",
     "text": [
      "user: 17         item: 1203       r_ui = 4.00   est = 4.50   {'was_impossible': False}\n"
     ]
    }
   ],
   "source": [
    "x = algo.predict(17, 1203, r_ui=4, verbose=True)"
   ]
  },
  {
   "cell_type": "code",
   "execution_count": null,
   "id": "1a335a77-83cf-4c02-8aec-f5f80819c7f0",
   "metadata": {},
   "outputs": [],
   "source": []
  },
  {
   "cell_type": "markdown",
   "id": "c8efb77f-2ac7-4092-a1b9-9f2393b5193b",
   "metadata": {},
   "source": [
    "```\n",
    "\n",
    "grid serach cv for find paremeter best model\n",
    "\n",
    "```"
   ]
  },
  {
   "cell_type": "code",
   "execution_count": 180,
   "id": "84cea304-aec1-4479-8f71-7e228ccf39c3",
   "metadata": {},
   "outputs": [
    {
     "data": {
      "text/plain": [
       "array([ 1,  2,  3,  4,  5,  6,  7,  8,  9, 10, 11, 12, 13, 14, 15, 16, 17,\n",
       "       18, 19])"
      ]
     },
     "execution_count": 180,
     "metadata": {},
     "output_type": "execute_result"
    }
   ],
   "source": [
    "np.arange(1,20)"
   ]
  },
  {
   "cell_type": "code",
   "execution_count": 185,
   "id": "51f0b731-e59a-4868-b488-5fd1b9ec4dbe",
   "metadata": {},
   "outputs": [],
   "source": [
    "param_grid = {\n",
    "    'k': np.arange(1,20),\n",
    "    'sim_options': {\n",
    "        'name': ['cosine'],\n",
    "        'min_support': [1, 5],\n",
    "        'user_based': [False],\n",
    "    },\n",
    "}"
   ]
  },
  {
   "cell_type": "code",
   "execution_count": 188,
   "id": "f80d6773-d4bb-430d-9763-d9292df6bf57",
   "metadata": {},
   "outputs": [],
   "source": [
    "# gs = GridSearchCV(KNNBasic, param_grid, measures=[\"rmse\", \"mae\"], cv=3)\n",
    "# gs.fit(trainset)\n",
    "# print(gs.best_score[\"rmse\"])\n",
    "# print(gs.best_params[\"rmse\"])\n"
   ]
  },
  {
   "cell_type": "code",
   "execution_count": 154,
   "id": "fcd7c126-9611-4440-b82c-a6b36063f9bd",
   "metadata": {},
   "outputs": [
    {
     "data": {
      "text/plain": [
       "' \\n\\nn_epochs is number of train\\nlr_all is learning rate\\nreg_all is regularization term for all parameters\\n\\n\\n'"
      ]
     },
     "execution_count": 154,
     "metadata": {},
     "output_type": "execute_result"
    }
   ],
   "source": [
    "\n",
    "\n",
    "\"\"\" \n",
    "\n",
    "n_epochs is number of train\n",
    "lr_all is learning rate\n",
    "reg_all is regularization term for all parameters\n",
    "\n",
    "\n",
    "\"\"\"\n",
    "\n"
   ]
  },
  {
   "cell_type": "code",
   "execution_count": 155,
   "id": "115afead-54a3-4af8-97fe-da0d827e5425",
   "metadata": {},
   "outputs": [],
   "source": [
    "param_grid = {\"n_epochs\": [5, 10], \"lr_all\": [0.002, 0.005, 0.001, 0.01], \"reg_all\": [0.4, 0.6, 0.7 ,0.2],\"n_factors\":[5,10,15,20,30]}\n",
    "gs = GridSearchCV(SVD, param_grid, measures=[\"rmse\", \"mae\"], cv=5)"
   ]
  },
  {
   "cell_type": "code",
   "execution_count": null,
   "id": "5a971b6c-cefe-4354-b94b-54a3a81fbeed",
   "metadata": {},
   "outputs": [],
   "source": []
  },
  {
   "cell_type": "code",
   "execution_count": 121,
   "id": "488eb597-88ff-46b3-b245-7f561bcf0e9c",
   "metadata": {},
   "outputs": [
    {
     "name": "stdout",
     "output_type": "stream",
     "text": [
      "0.7510739792757256\n",
      "{'n_epochs': 10, 'lr_all': 0.01, 'reg_all': 0.2, 'n_factors': 5}\n"
     ]
    }
   ],
   "source": [
    "gs.fit(dataset)\n",
    "# best RMSE score\n",
    "\n",
    "print(gs.best_score[\"rmse\"])\n",
    "\n",
    "# combination of parameters that gave the best RMSE score\n",
    "print(gs.best_params[\"rmse\"])"
   ]
  },
  {
   "cell_type": "code",
   "execution_count": 122,
   "id": "d58b0308-abe0-49f7-9ac9-1502c4d7a3b5",
   "metadata": {},
   "outputs": [
    {
     "data": {
      "text/html": [
       "<div>\n",
       "<style scoped>\n",
       "    .dataframe tbody tr th:only-of-type {\n",
       "        vertical-align: middle;\n",
       "    }\n",
       "\n",
       "    .dataframe tbody tr th {\n",
       "        vertical-align: top;\n",
       "    }\n",
       "\n",
       "    .dataframe thead th {\n",
       "        text-align: right;\n",
       "    }\n",
       "</style>\n",
       "<table border=\"1\" class=\"dataframe\">\n",
       "  <thead>\n",
       "    <tr style=\"text-align: right;\">\n",
       "      <th></th>\n",
       "      <th>split0_test_rmse</th>\n",
       "      <th>split1_test_rmse</th>\n",
       "      <th>split2_test_rmse</th>\n",
       "      <th>split3_test_rmse</th>\n",
       "      <th>split4_test_rmse</th>\n",
       "      <th>mean_test_rmse</th>\n",
       "      <th>std_test_rmse</th>\n",
       "      <th>rank_test_rmse</th>\n",
       "      <th>split0_test_mae</th>\n",
       "      <th>split1_test_mae</th>\n",
       "      <th>...</th>\n",
       "      <th>rank_test_mae</th>\n",
       "      <th>mean_fit_time</th>\n",
       "      <th>std_fit_time</th>\n",
       "      <th>mean_test_time</th>\n",
       "      <th>std_test_time</th>\n",
       "      <th>params</th>\n",
       "      <th>param_n_epochs</th>\n",
       "      <th>param_lr_all</th>\n",
       "      <th>param_reg_all</th>\n",
       "      <th>param_n_factors</th>\n",
       "    </tr>\n",
       "  </thead>\n",
       "  <tbody>\n",
       "    <tr>\n",
       "      <th>0</th>\n",
       "      <td>0.771657</td>\n",
       "      <td>0.783685</td>\n",
       "      <td>0.732995</td>\n",
       "      <td>0.841491</td>\n",
       "      <td>0.732773</td>\n",
       "      <td>0.772520</td>\n",
       "      <td>0.040061</td>\n",
       "      <td>116</td>\n",
       "      <td>0.629705</td>\n",
       "      <td>0.623394</td>\n",
       "      <td>...</td>\n",
       "      <td>120</td>\n",
       "      <td>0.002051</td>\n",
       "      <td>0.000591</td>\n",
       "      <td>0.002262</td>\n",
       "      <td>0.000346</td>\n",
       "      <td>{'n_epochs': 5, 'lr_all': 0.002, 'reg_all': 0....</td>\n",
       "      <td>5</td>\n",
       "      <td>0.002</td>\n",
       "      <td>0.4</td>\n",
       "      <td>5</td>\n",
       "    </tr>\n",
       "    <tr>\n",
       "      <th>1</th>\n",
       "      <td>0.771949</td>\n",
       "      <td>0.783330</td>\n",
       "      <td>0.732887</td>\n",
       "      <td>0.841079</td>\n",
       "      <td>0.731752</td>\n",
       "      <td>0.772199</td>\n",
       "      <td>0.040124</td>\n",
       "      <td>113</td>\n",
       "      <td>0.630108</td>\n",
       "      <td>0.622918</td>\n",
       "      <td>...</td>\n",
       "      <td>116</td>\n",
       "      <td>0.001474</td>\n",
       "      <td>0.000099</td>\n",
       "      <td>0.001727</td>\n",
       "      <td>0.000208</td>\n",
       "      <td>{'n_epochs': 5, 'lr_all': 0.002, 'reg_all': 0....</td>\n",
       "      <td>5</td>\n",
       "      <td>0.002</td>\n",
       "      <td>0.4</td>\n",
       "      <td>10</td>\n",
       "    </tr>\n",
       "    <tr>\n",
       "      <th>2</th>\n",
       "      <td>0.771623</td>\n",
       "      <td>0.784563</td>\n",
       "      <td>0.733235</td>\n",
       "      <td>0.840870</td>\n",
       "      <td>0.732986</td>\n",
       "      <td>0.772655</td>\n",
       "      <td>0.039809</td>\n",
       "      <td>120</td>\n",
       "      <td>0.628784</td>\n",
       "      <td>0.623415</td>\n",
       "      <td>...</td>\n",
       "      <td>117</td>\n",
       "      <td>0.001589</td>\n",
       "      <td>0.000063</td>\n",
       "      <td>0.001519</td>\n",
       "      <td>0.000073</td>\n",
       "      <td>{'n_epochs': 5, 'lr_all': 0.002, 'reg_all': 0....</td>\n",
       "      <td>5</td>\n",
       "      <td>0.002</td>\n",
       "      <td>0.4</td>\n",
       "      <td>15</td>\n",
       "    </tr>\n",
       "    <tr>\n",
       "      <th>3</th>\n",
       "      <td>0.770473</td>\n",
       "      <td>0.784390</td>\n",
       "      <td>0.733063</td>\n",
       "      <td>0.841560</td>\n",
       "      <td>0.730773</td>\n",
       "      <td>0.772052</td>\n",
       "      <td>0.040522</td>\n",
       "      <td>107</td>\n",
       "      <td>0.628525</td>\n",
       "      <td>0.623558</td>\n",
       "      <td>...</td>\n",
       "      <td>112</td>\n",
       "      <td>0.001553</td>\n",
       "      <td>0.000089</td>\n",
       "      <td>0.001306</td>\n",
       "      <td>0.000078</td>\n",
       "      <td>{'n_epochs': 5, 'lr_all': 0.002, 'reg_all': 0....</td>\n",
       "      <td>5</td>\n",
       "      <td>0.002</td>\n",
       "      <td>0.4</td>\n",
       "      <td>20</td>\n",
       "    </tr>\n",
       "    <tr>\n",
       "      <th>4</th>\n",
       "      <td>0.771778</td>\n",
       "      <td>0.784096</td>\n",
       "      <td>0.731556</td>\n",
       "      <td>0.838529</td>\n",
       "      <td>0.732144</td>\n",
       "      <td>0.771621</td>\n",
       "      <td>0.039487</td>\n",
       "      <td>102</td>\n",
       "      <td>0.630172</td>\n",
       "      <td>0.624010</td>\n",
       "      <td>...</td>\n",
       "      <td>110</td>\n",
       "      <td>0.001942</td>\n",
       "      <td>0.000032</td>\n",
       "      <td>0.001204</td>\n",
       "      <td>0.000010</td>\n",
       "      <td>{'n_epochs': 5, 'lr_all': 0.002, 'reg_all': 0....</td>\n",
       "      <td>5</td>\n",
       "      <td>0.002</td>\n",
       "      <td>0.4</td>\n",
       "      <td>30</td>\n",
       "    </tr>\n",
       "  </tbody>\n",
       "</table>\n",
       "<p>5 rows × 25 columns</p>\n",
       "</div>"
      ],
      "text/plain": [
       "   split0_test_rmse  split1_test_rmse  split2_test_rmse  split3_test_rmse  \\\n",
       "0          0.771657          0.783685          0.732995          0.841491   \n",
       "1          0.771949          0.783330          0.732887          0.841079   \n",
       "2          0.771623          0.784563          0.733235          0.840870   \n",
       "3          0.770473          0.784390          0.733063          0.841560   \n",
       "4          0.771778          0.784096          0.731556          0.838529   \n",
       "\n",
       "   split4_test_rmse  mean_test_rmse  std_test_rmse  rank_test_rmse  \\\n",
       "0          0.732773        0.772520       0.040061             116   \n",
       "1          0.731752        0.772199       0.040124             113   \n",
       "2          0.732986        0.772655       0.039809             120   \n",
       "3          0.730773        0.772052       0.040522             107   \n",
       "4          0.732144        0.771621       0.039487             102   \n",
       "\n",
       "   split0_test_mae  split1_test_mae  ...  rank_test_mae  mean_fit_time  \\\n",
       "0         0.629705         0.623394  ...            120       0.002051   \n",
       "1         0.630108         0.622918  ...            116       0.001474   \n",
       "2         0.628784         0.623415  ...            117       0.001589   \n",
       "3         0.628525         0.623558  ...            112       0.001553   \n",
       "4         0.630172         0.624010  ...            110       0.001942   \n",
       "\n",
       "   std_fit_time  mean_test_time  std_test_time  \\\n",
       "0      0.000591        0.002262       0.000346   \n",
       "1      0.000099        0.001727       0.000208   \n",
       "2      0.000063        0.001519       0.000073   \n",
       "3      0.000089        0.001306       0.000078   \n",
       "4      0.000032        0.001204       0.000010   \n",
       "\n",
       "                                              params  param_n_epochs  \\\n",
       "0  {'n_epochs': 5, 'lr_all': 0.002, 'reg_all': 0....               5   \n",
       "1  {'n_epochs': 5, 'lr_all': 0.002, 'reg_all': 0....               5   \n",
       "2  {'n_epochs': 5, 'lr_all': 0.002, 'reg_all': 0....               5   \n",
       "3  {'n_epochs': 5, 'lr_all': 0.002, 'reg_all': 0....               5   \n",
       "4  {'n_epochs': 5, 'lr_all': 0.002, 'reg_all': 0....               5   \n",
       "\n",
       "   param_lr_all  param_reg_all  param_n_factors  \n",
       "0         0.002            0.4                5  \n",
       "1         0.002            0.4               10  \n",
       "2         0.002            0.4               15  \n",
       "3         0.002            0.4               20  \n",
       "4         0.002            0.4               30  \n",
       "\n",
       "[5 rows x 25 columns]"
      ]
     },
     "execution_count": 122,
     "metadata": {},
     "output_type": "execute_result"
    }
   ],
   "source": [
    "results_df = pd.DataFrame.from_dict(gs.cv_results)\n",
    "results_df.head()"
   ]
  },
  {
   "cell_type": "code",
   "execution_count": 45,
   "id": "50a698c3-39fa-49fe-8a7c-7c9d84eb3b71",
   "metadata": {},
   "outputs": [
    {
     "data": {
      "text/plain": [
       "<surprise.prediction_algorithms.matrix_factorization.SVD at 0x2815f0c40>"
      ]
     },
     "execution_count": 45,
     "metadata": {},
     "output_type": "execute_result"
    }
   ],
   "source": [
    "model.fit(trainset)"
   ]
  },
  {
   "cell_type": "code",
   "execution_count": 46,
   "id": "027665c7-cdf0-46d5-b068-23d13f27c260",
   "metadata": {},
   "outputs": [],
   "source": [
    "prediction = model.test(testset)"
   ]
  },
  {
   "cell_type": "code",
   "execution_count": 47,
   "id": "a25294f5-17be-4d54-9b27-d994a1bc0374",
   "metadata": {},
   "outputs": [
    {
     "name": "stdout",
     "output_type": "stream",
     "text": [
      "RMSE: 0.7398\n"
     ]
    },
    {
     "data": {
      "text/plain": [
       "0.739845653123489"
      ]
     },
     "execution_count": 47,
     "metadata": {},
     "output_type": "execute_result"
    }
   ],
   "source": [
    "accuracy.rmse(prediction)"
   ]
  },
  {
   "cell_type": "code",
   "execution_count": null,
   "id": "231181fd-60e8-4fdf-a5e7-eebee40b147b",
   "metadata": {},
   "outputs": [],
   "source": []
  }
 ],
 "metadata": {
  "kernelspec": {
   "display_name": "Python 3 (ipykernel)",
   "language": "python",
   "name": "python3"
  },
  "language_info": {
   "codemirror_mode": {
    "name": "ipython",
    "version": 3
   },
   "file_extension": ".py",
   "mimetype": "text/x-python",
   "name": "python",
   "nbconvert_exporter": "python",
   "pygments_lexer": "ipython3",
   "version": "3.10.0"
  }
 },
 "nbformat": 4,
 "nbformat_minor": 5
}
